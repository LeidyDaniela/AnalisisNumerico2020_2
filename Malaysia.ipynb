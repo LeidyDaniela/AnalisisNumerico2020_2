{
  "nbformat": 4,
  "nbformat_minor": 0,
  "metadata": {
    "colab": {
      "name": "Malaysia.ipynb",
      "provenance": [],
      "collapsed_sections": [],
      "authorship_tag": "ABX9TyOdSmzJe0ZpeKfYEhCbuSaI",
      "include_colab_link": true
    },
    "kernelspec": {
      "name": "python3",
      "display_name": "Python 3"
    }
  },
  "cells": [
    {
      "cell_type": "markdown",
      "metadata": {
        "id": "view-in-github",
        "colab_type": "text"
      },
      "source": [
        "<a href=\"https://colab.research.google.com/github/LeidyDaniela/AnalisisNumerico2020_2/blob/master/Malaysia.ipynb\" target=\"_parent\"><img src=\"https://colab.research.google.com/assets/colab-badge.svg\" alt=\"Open In Colab\"/></a>"
      ]
    },
    {
      "cell_type": "code",
      "metadata": {
        "colab": {
          "base_uri": "https://localhost:8080/"
        },
        "id": "gbLhgGWss9Ba",
        "outputId": "2236b90b-352d-4de1-d221-620456a35b38"
      },
      "source": [
        "pip install pysd \n"
      ],
      "execution_count": 1,
      "outputs": [
        {
          "output_type": "stream",
          "text": [
            "Collecting pysd\n",
            "\u001b[?25l  Downloading https://files.pythonhosted.org/packages/61/86/32e04a7390c2eb870d560f300941ae2cae08aff13b616b138b603f29fbb1/pysd-0.10.0-py2.py3-none-any.whl (45kB)\n",
            "\r\u001b[K     |███████▎                        | 10kB 20.3MB/s eta 0:00:01\r\u001b[K     |██████████████▌                 | 20kB 18.4MB/s eta 0:00:01\r\u001b[K     |█████████████████████▊          | 30kB 10.6MB/s eta 0:00:01\r\u001b[K     |█████████████████████████████   | 40kB 8.7MB/s eta 0:00:01\r\u001b[K     |████████████████████████████████| 51kB 3.0MB/s \n",
            "\u001b[?25hRequirement already satisfied: xarray in /usr/local/lib/python3.6/dist-packages (from pysd) (0.15.1)\n",
            "Requirement already satisfied: lxml in /usr/local/lib/python3.6/dist-packages (from pysd) (4.2.6)\n",
            "Requirement already satisfied: regex in /usr/local/lib/python3.6/dist-packages (from pysd) (2019.12.20)\n",
            "Requirement already satisfied: pandas in /usr/local/lib/python3.6/dist-packages (from pysd) (1.1.4)\n",
            "Collecting funcsigs\n",
            "  Downloading https://files.pythonhosted.org/packages/69/cb/f5be453359271714c01b9bd06126eaf2e368f1fddfff30818754b5ac2328/funcsigs-1.0.2-py2.py3-none-any.whl\n",
            "Collecting pydoe\n",
            "  Downloading https://files.pythonhosted.org/packages/bc/ac/91fe4c039e2744466621343d3b8af4a485193ed0aab53af5b1db03be0989/pyDOE-0.3.8.zip\n",
            "Requirement already satisfied: xlwt in /usr/local/lib/python3.6/dist-packages (from pysd) (1.3.0)\n",
            "Collecting yapf\n",
            "\u001b[?25l  Downloading https://files.pythonhosted.org/packages/c1/5d/d84677fe852bc5e091739acda444a9b6700ffc6b11a21b00dd244c8caef0/yapf-0.30.0-py2.py3-none-any.whl (190kB)\n",
            "\u001b[K     |████████████████████████████████| 194kB 8.3MB/s \n",
            "\u001b[?25hRequirement already satisfied: numpy in /usr/local/lib/python3.6/dist-packages (from pysd) (1.18.5)\n",
            "Requirement already satisfied: xlrd in /usr/local/lib/python3.6/dist-packages (from pysd) (1.1.0)\n",
            "Requirement already satisfied: chardet in /usr/local/lib/python3.6/dist-packages (from pysd) (3.0.4)\n",
            "Collecting parsimonious\n",
            "\u001b[?25l  Downloading https://files.pythonhosted.org/packages/02/fc/067a3f89869a41009e1a7cdfb14725f8ddd246f30f63c645e8ef8a1c56f4/parsimonious-0.8.1.tar.gz (45kB)\n",
            "\u001b[K     |████████████████████████████████| 51kB 7.2MB/s \n",
            "\u001b[?25hRequirement already satisfied: setuptools>=41.2 in /usr/local/lib/python3.6/dist-packages (from xarray->pysd) (50.3.2)\n",
            "Requirement already satisfied: pytz>=2017.2 in /usr/local/lib/python3.6/dist-packages (from pandas->pysd) (2018.9)\n",
            "Requirement already satisfied: python-dateutil>=2.7.3 in /usr/local/lib/python3.6/dist-packages (from pandas->pysd) (2.8.1)\n",
            "Requirement already satisfied: scipy in /usr/local/lib/python3.6/dist-packages (from pydoe->pysd) (1.4.1)\n",
            "Requirement already satisfied: six>=1.9.0 in /usr/local/lib/python3.6/dist-packages (from parsimonious->pysd) (1.15.0)\n",
            "Building wheels for collected packages: pydoe, parsimonious\n",
            "  Building wheel for pydoe (setup.py) ... \u001b[?25l\u001b[?25hdone\n",
            "  Created wheel for pydoe: filename=pyDOE-0.3.8-cp36-none-any.whl size=18178 sha256=7011ac94c7eea481f191246abfe44689eb3206d38f6c3fb9dd2b79b77fb8e000\n",
            "  Stored in directory: /root/.cache/pip/wheels/7c/c8/58/a6493bd415e8ba5735082b5e0c096d7c1f2933077a8ce34544\n",
            "  Building wheel for parsimonious (setup.py) ... \u001b[?25l\u001b[?25hdone\n",
            "  Created wheel for parsimonious: filename=parsimonious-0.8.1-cp36-none-any.whl size=42709 sha256=e8fac8d36463cf825326c19b21432b626ab1c498a8a1718659dd4ced34912a24\n",
            "  Stored in directory: /root/.cache/pip/wheels/b7/8d/e7/a0e74217da5caeb3c1c7689639b6d28ddbf9985b840bc96a9a\n",
            "Successfully built pydoe parsimonious\n",
            "Installing collected packages: funcsigs, pydoe, yapf, parsimonious, pysd\n",
            "Successfully installed funcsigs-1.0.2 parsimonious-0.8.1 pydoe-0.3.8 pysd-0.10.0 yapf-0.30.0\n"
          ],
          "name": "stdout"
        }
      ]
    },
    {
      "cell_type": "code",
      "metadata": {
        "colab": {
          "resources": {
            "http://localhost:8080/nbextensions/google.colab/files.js": {
              "data": "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",
              "ok": true,
              "headers": [
                [
                  "content-type",
                  "application/javascript"
                ]
              ],
              "status": 200,
              "status_text": ""
            }
          },
          "base_uri": "https://localhost:8080/",
          "height": 109
        },
        "id": "UEElTrwjtQxa",
        "outputId": "211b45aa-372c-410d-82de-33b0dd3d1c90"
      },
      "source": [
        "import pysd\n",
        "from google.colab import files\n",
        "files.upload()\n"
      ],
      "execution_count": 2,
      "outputs": [
        {
          "output_type": "display_data",
          "data": {
            "text/html": [
              "\n",
              "     <input type=\"file\" id=\"files-edff5e3c-484c-4f4d-882f-8b3fc7335472\" name=\"files[]\" multiple disabled\n",
              "        style=\"border:none\" />\n",
              "     <output id=\"result-edff5e3c-484c-4f4d-882f-8b3fc7335472\">\n",
              "      Upload widget is only available when the cell has been executed in the\n",
              "      current browser session. Please rerun this cell to enable.\n",
              "      </output>\n",
              "      <script src=\"/nbextensions/google.colab/files.js\"></script> "
            ],
            "text/plain": [
              "<IPython.core.display.HTML object>"
            ]
          },
          "metadata": {
            "tags": []
          }
        },
        {
          "output_type": "stream",
          "text": [
            "Saving Malasyia.mdl to Malasyia.mdl\n"
          ],
          "name": "stdout"
        },
        {
          "output_type": "execute_result",
          "data": {
            "text/plain": [
              "{'Malasyia.mdl': b'{UTF-8}\\r\\nDemanda per c\\xc3\\xa1pita=\\r\\n\\t1484.4 * Time^0.2991\\r\\n\\t~\\t\\r\\n\\t~\\t\\t|\\r\\n\\r\\nDemanda total de energ\\xc3\\xada=\\r\\n\\tDemanda per c\\xc3\\xa1pita*Poblaci\\xc3\\xb3n\\r\\n\\t~\\t\\r\\n\\t~\\t\\t~\\t:SUPPLEMENTARY \\r\\n\\t|\\r\\n\\r\\nFactor de aumento=\\r\\n\\tPoblaci\\xc3\\xb3n*Tasa de nacimiento\\r\\n\\t~\\tPersonas\\r\\n\\t~\\t\\t|\\r\\n\\r\\nFactor de disminuci\\xc3\\xb3n=\\r\\n\\tPoblaci\\xc3\\xb3n*Tasa de mortalidad\\r\\n\\t~\\tPersonas\\r\\n\\t~\\t\\t|\\r\\n\\r\\nPoblaci\\xc3\\xb3n= INTEG (\\r\\n\\tFactor de aumento-Factor de disminuci\\xc3\\xb3n,\\r\\n\\t\\t1.9503e+06)\\r\\n\\t~\\t\\r\\n\\t~\\t\\t|\\r\\n\\r\\nTasa de mortalidad=\\r\\n\\t0.005\\r\\n\\t~\\t\\r\\n\\t~\\t\\t|\\r\\n\\r\\nTasa de nacimiento=\\r\\n\\t0.023\\r\\n\\t~\\t\\r\\n\\t~\\t\\t|\\r\\n\\r\\n********************************************************\\r\\n\\t.Control\\r\\n********************************************************~\\r\\n\\t\\tSimulation Control Parameters\\r\\n\\t|\\r\\n\\r\\nFINAL TIME=\\r\\n\\t2010\\r\\n\\t~\\tMonth\\r\\n\\t~\\tThe final time for the simulation.\\r\\n\\t|\\r\\n\\r\\nINITIAL TIME=\\r\\n\\t1993\\r\\n\\t~\\tMonth\\r\\n\\t~\\tThe initial time for the simulation.\\r\\n\\t|\\r\\n\\r\\nSAVEPER  = \\r\\n        TIME STEP \\r\\n\\t~\\tMonth [0,?]\\r\\n\\t~\\tThe frequency with which output is stored.\\r\\n\\t|\\r\\n\\r\\nTIME STEP  = 1\\r\\n\\t~\\tYear [0,?]\\r\\n\\t~\\tThe time step for the simulation.\\r\\n\\t|\\r\\n\\r\\n\\\\\\\\\\\\---/// Sketch information - do not modify anything except names\\r\\nV300  Do not put anything below this section - it will be ignored\\r\\n*View 1\\r\\n$192-192-192,0,Times New Roman|12||0-0-0|0-0-0|0-0-255|-1--1--1|-1--1--1|96,96,100,0\\r\\n10,1,Poblaci\\xc3\\xb3n,404,211,40,20,3,3,0,0,0,0,0,0,0,0,0,0,0,0\\r\\n12,2,48,160,222,10,8,0,3,0,0,-1,0,0,0,0,0,0,0,0,0\\r\\n1,3,5,1,4,0,0,22,0,0,0,-1--1--1,,1|(314,218)|\\r\\n1,4,5,2,100,0,0,22,0,0,0,-1--1--1,,1|(211,218)|\\r\\n11,5,0,259,218,6,8,34,3,0,0,1,0,0,0,0,0,0,0,0,0\\r\\n10,6,Factor de aumento,259,254,47,28,40,131,0,0,-1,0,0,0,0,0,0,0,0,0\\r\\n12,7,48,639,209,10,8,0,3,0,0,-1,0,0,0,0,0,0,0,0,0\\r\\n1,8,10,7,4,0,0,22,0,0,0,-1--1--1,,1|(584,213)|\\r\\n1,9,10,1,100,0,0,22,0,0,0,-1--1--1,,1|(486,213)|\\r\\n11,10,0,534,213,6,8,34,3,0,0,1,0,0,0,0,0,0,0,0,0\\r\\n10,11,Factor de disminuci\\xc3\\xb3n,534,240,37,19,40,3,0,0,-1,0,0,0,0,0,0,0,0,0\\r\\n10,12,Tasa de nacimiento,104,74,34,19,8,3,0,0,0,0,0,0,0,0,0,0,0,0\\r\\n10,13,Tasa de mortalidad,720,72,34,19,8,3,0,0,0,0,0,0,0,0,0,0,0,0\\r\\n10,14,Demanda per c\\xc3\\xa1pita,228,420,44,19,8,3,0,0,0,0,0,0,0,0,0,0,0,0\\r\\n10,15,Demanda total de energ\\xc3\\xada,487,417,57,19,8,3,0,0,0,0,0,0,0,0,0,0,0,0\\r\\n10,16,Time,105,458,26,11,8,2,0,3,-1,0,0,0,128-128-128,0-0-0,|0||128-128-128,0,0,0,0,0,0\\r\\n1,17,12,5,1,0,0,0,0,64,0,-1--1--1,,1|(206,119)|\\r\\n1,18,13,10,1,0,0,0,0,64,0,-1--1--1,,1|(624,90)|\\r\\n1,19,1,5,1,0,0,0,0,64,0,-1--1--1,,1|(357,160)|\\r\\n1,20,1,10,1,0,0,0,0,64,0,-1--1--1,,1|(438,161)|\\r\\n1,21,14,15,1,0,0,0,0,64,0,-1--1--1,,1|(345,443)|\\r\\n1,22,1,15,1,0,0,0,0,64,0,-1--1--1,,1|(426,342)|\\r\\n1,23,16,14,1,0,0,0,0,64,0,-1--1--1,,1|(143,431)|\\r\\n///---\\\\\\\\\\\\\\r\\n:L\\x7f<%^E!@\\r\\n1:aaaaa\\r\\n1:demandavsp\\r\\n9:aaaaa\\r\\n23:0\\r\\n15:0,0,0,0,0,0\\r\\n19:100,0\\r\\n27:0,\\r\\n34:0,\\r\\n42:0\\r\\n72:0\\r\\n73:0\\r\\n4:Time\\r\\n5:Factor de aumento\\r\\n76:0\\r\\n77:0\\r\\n78:0\\r\\n79:0\\r\\n80:0\\r\\n81:0\\r\\n24:1993\\r\\n25:2010\\r\\n26:2010\\r\\n91:0\\r\\n90:0\\r\\n87:0\\r\\n75:\\r\\n43:\\r\\n'}"
            ]
          },
          "metadata": {
            "tags": []
          },
          "execution_count": 2
        }
      ]
    },
    {
      "cell_type": "code",
      "metadata": {
        "id": "_uvDrELqtkuz"
      },
      "source": [
        "model= pysd.read_vensim('Malasyia.mdl')\n"
      ],
      "execution_count": 3,
      "outputs": []
    },
    {
      "cell_type": "code",
      "metadata": {
        "id": "EHetvGWBtpKG"
      },
      "source": [
        "xy = model.run()"
      ],
      "execution_count": 10,
      "outputs": []
    },
    {
      "cell_type": "code",
      "metadata": {
        "colab": {
          "base_uri": "https://localhost:8080/"
        },
        "id": "frXsXryCtwlY",
        "outputId": "85c5e8b8-f33b-4bc6-dcad-99729b9c0586"
      },
      "source": [
        "print(xy)"
      ],
      "execution_count": 11,
      "outputs": [
        {
          "output_type": "stream",
          "text": [
            "          TIME  Demanda per cápita  ...  SAVEPER  TIME STEP\n",
            "1993.0  1993.0        14402.357228  ...        1          1\n",
            "1994.0  1994.0        14404.518286  ...        1          1\n",
            "1995.0  1995.0        14406.678584  ...        1          1\n",
            "1996.0  1996.0        14408.838123  ...        1          1\n",
            "1997.0  1997.0        14410.996904  ...        1          1\n",
            "1998.0  1998.0        14413.154928  ...        1          1\n",
            "1999.0  1999.0        14415.312194  ...        1          1\n",
            "2000.0  2000.0        14417.468705  ...        1          1\n",
            "2001.0  2001.0        14419.624459  ...        1          1\n",
            "2002.0  2002.0        14421.779459  ...        1          1\n",
            "2003.0  2003.0        14423.933705  ...        1          1\n",
            "2004.0  2004.0        14426.087196  ...        1          1\n",
            "2005.0  2005.0        14428.239935  ...        1          1\n",
            "2006.0  2006.0        14430.391921  ...        1          1\n",
            "2007.0  2007.0        14432.543156  ...        1          1\n",
            "2008.0  2008.0        14434.693639  ...        1          1\n",
            "2009.0  2009.0        14436.843372  ...        1          1\n",
            "2010.0  2010.0        14438.992355  ...        1          1\n",
            "\n",
            "[18 rows x 12 columns]\n"
          ],
          "name": "stdout"
        }
      ]
    },
    {
      "cell_type": "code",
      "metadata": {
        "colab": {
          "base_uri": "https://localhost:8080/",
          "height": 221
        },
        "id": "-9P0ij0guChf",
        "outputId": "fa527b51-1480-4d59-844b-2c6c8219bd84"
      },
      "source": [
        "xy.head()"
      ],
      "execution_count": 6,
      "outputs": [
        {
          "output_type": "execute_result",
          "data": {
            "text/html": [
              "<div>\n",
              "<style scoped>\n",
              "    .dataframe tbody tr th:only-of-type {\n",
              "        vertical-align: middle;\n",
              "    }\n",
              "\n",
              "    .dataframe tbody tr th {\n",
              "        vertical-align: top;\n",
              "    }\n",
              "\n",
              "    .dataframe thead th {\n",
              "        text-align: right;\n",
              "    }\n",
              "</style>\n",
              "<table border=\"1\" class=\"dataframe\">\n",
              "  <thead>\n",
              "    <tr style=\"text-align: right;\">\n",
              "      <th></th>\n",
              "      <th>TIME</th>\n",
              "      <th>Demanda per cápita</th>\n",
              "      <th>Demanda total de energía</th>\n",
              "      <th>Factor de aumento</th>\n",
              "      <th>Factor de disminución</th>\n",
              "      <th>Población</th>\n",
              "      <th>Tasa de mortalidad</th>\n",
              "      <th>Tasa de nacimiento</th>\n",
              "      <th>FINAL TIME</th>\n",
              "      <th>INITIAL TIME</th>\n",
              "      <th>SAVEPER</th>\n",
              "      <th>TIME STEP</th>\n",
              "    </tr>\n",
              "  </thead>\n",
              "  <tbody>\n",
              "    <tr>\n",
              "      <th>1993.0</th>\n",
              "      <td>1993.0</td>\n",
              "      <td>14402.357228</td>\n",
              "      <td>2.808892e+10</td>\n",
              "      <td>44856.900000</td>\n",
              "      <td>9751.500000</td>\n",
              "      <td>1.950300e+06</td>\n",
              "      <td>0.005</td>\n",
              "      <td>0.023</td>\n",
              "      <td>2010</td>\n",
              "      <td>1993</td>\n",
              "      <td>1</td>\n",
              "      <td>1</td>\n",
              "    </tr>\n",
              "    <tr>\n",
              "      <th>1994.0</th>\n",
              "      <td>1994.0</td>\n",
              "      <td>14404.518286</td>\n",
              "      <td>2.859881e+10</td>\n",
              "      <td>45664.324200</td>\n",
              "      <td>9927.027000</td>\n",
              "      <td>1.985405e+06</td>\n",
              "      <td>0.005</td>\n",
              "      <td>0.023</td>\n",
              "      <td>2010</td>\n",
              "      <td>1993</td>\n",
              "      <td>1</td>\n",
              "      <td>1</td>\n",
              "    </tr>\n",
              "    <tr>\n",
              "      <th>1995.0</th>\n",
              "      <td>1995.0</td>\n",
              "      <td>14406.678584</td>\n",
              "      <td>2.911795e+10</td>\n",
              "      <td>46486.282036</td>\n",
              "      <td>10105.713486</td>\n",
              "      <td>2.021143e+06</td>\n",
              "      <td>0.005</td>\n",
              "      <td>0.023</td>\n",
              "      <td>2010</td>\n",
              "      <td>1993</td>\n",
              "      <td>1</td>\n",
              "      <td>1</td>\n",
              "    </tr>\n",
              "    <tr>\n",
              "      <th>1996.0</th>\n",
              "      <td>1996.0</td>\n",
              "      <td>14408.838123</td>\n",
              "      <td>2.964652e+10</td>\n",
              "      <td>47323.035112</td>\n",
              "      <td>10287.616329</td>\n",
              "      <td>2.057523e+06</td>\n",
              "      <td>0.005</td>\n",
              "      <td>0.023</td>\n",
              "      <td>2010</td>\n",
              "      <td>1993</td>\n",
              "      <td>1</td>\n",
              "      <td>1</td>\n",
              "    </tr>\n",
              "    <tr>\n",
              "      <th>1997.0</th>\n",
              "      <td>1997.0</td>\n",
              "      <td>14410.996904</td>\n",
              "      <td>3.018468e+10</td>\n",
              "      <td>48174.849744</td>\n",
              "      <td>10472.793423</td>\n",
              "      <td>2.094559e+06</td>\n",
              "      <td>0.005</td>\n",
              "      <td>0.023</td>\n",
              "      <td>2010</td>\n",
              "      <td>1993</td>\n",
              "      <td>1</td>\n",
              "      <td>1</td>\n",
              "    </tr>\n",
              "  </tbody>\n",
              "</table>\n",
              "</div>"
            ],
            "text/plain": [
              "          TIME  Demanda per cápita  ...  SAVEPER  TIME STEP\n",
              "1993.0  1993.0        14402.357228  ...        1          1\n",
              "1994.0  1994.0        14404.518286  ...        1          1\n",
              "1995.0  1995.0        14406.678584  ...        1          1\n",
              "1996.0  1996.0        14408.838123  ...        1          1\n",
              "1997.0  1997.0        14410.996904  ...        1          1\n",
              "\n",
              "[5 rows x 12 columns]"
            ]
          },
          "metadata": {
            "tags": []
          },
          "execution_count": 6
        }
      ]
    },
    {
      "cell_type": "code",
      "metadata": {
        "colab": {
          "base_uri": "https://localhost:8080/"
        },
        "id": "lGSs4goZzRR4",
        "outputId": "2483babc-4be6-400e-f5e9-e225717c9942"
      },
      "source": [
        "print(xy['Demanda total de energía'])"
      ],
      "execution_count": 12,
      "outputs": [
        {
          "output_type": "stream",
          "text": [
            "1993.0    2.808892e+10\n",
            "1994.0    2.859881e+10\n",
            "1995.0    2.911795e+10\n",
            "1996.0    2.964652e+10\n",
            "1997.0    3.018468e+10\n",
            "1998.0    3.073260e+10\n",
            "1999.0    3.129047e+10\n",
            "2000.0    3.185847e+10\n",
            "2001.0    3.243677e+10\n",
            "2002.0    3.302557e+10\n",
            "2003.0    3.362505e+10\n",
            "2004.0    3.423541e+10\n",
            "2005.0    3.485685e+10\n",
            "2006.0    3.548956e+10\n",
            "2007.0    3.613376e+10\n",
            "2008.0    3.678965e+10\n",
            "2009.0    3.745744e+10\n",
            "2010.0    3.813735e+10\n",
            "Name: Demanda total de energía, dtype: float64\n"
          ],
          "name": "stdout"
        }
      ]
    },
    {
      "cell_type": "code",
      "metadata": {
        "colab": {
          "base_uri": "https://localhost:8080/",
          "height": 291
        },
        "id": "aVD-952euQ1J",
        "outputId": "45dd9c43-4b89-48c6-ca25-22daef83ec70"
      },
      "source": [
        "import matplotlib.pyplot as plt\n",
        "from mpl_toolkits.mplot3d import Axes3D\n",
        "\n",
        "ax = plt.figure().gca() \n",
        "ax.plot(xy['TIME'], xy['Demanda total de energía'])\n",
        "ax.set_xlabel('Demanda total de energía')\n",
        "ax.set_ylabel('t')\n",
        "plt.show()"
      ],
      "execution_count": 7,
      "outputs": [
        {
          "output_type": "display_data",
          "data": {
            "image/png": "[encoded data removed]",
            "text/plain": [
              "<Figure size 432x288 with 1 Axes>"
            ]
          },
          "metadata": {
            "tags": [],
            "needs_background": "light"
          }
        }
      ]
    },
    {
      "cell_type": "code",
      "metadata": {
        "id": "xv5BFg8UvmZO"
      },
      "source": [
        "import matplotlib.pyplot as plt\n",
        "from mpl_toolkits.mplot3d import Axes3D\n",
        "\n",
        "ax = plt.figure().gca() \n",
        "ax.plot(xy['TIME'], xy['Demanda total de energía'])\n",
        "ax.set_xlabel('Demanda total de energía')\n",
        "ax.set_ylabel('t')\n",
        "plt.show()"
      ],
      "execution_count": null,
      "outputs": []
    }
  ]
}