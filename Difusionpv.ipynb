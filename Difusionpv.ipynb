{
  "nbformat": 4,
  "nbformat_minor": 0,
  "metadata": {
    "colab": {
      "name": "Difusionpv.ipynb",
      "provenance": [],
      "collapsed_sections": [],
      "include_colab_link": true
    },
    "kernelspec": {
      "name": "python3",
      "display_name": "Python 3"
    }
  },
  "cells": [
    {
      "cell_type": "markdown",
      "metadata": {
        "id": "view-in-github",
        "colab_type": "text"
      },
      "source": [
        "<a href=\"https://colab.research.google.com/github/LeidyDaniela/AnalisisNumerico2020_2/blob/master/Difusionpv.ipynb\" target=\"_parent\"><img src=\"https://colab.research.google.com/assets/colab-badge.svg\" alt=\"Open In Colab\"/></a>"
      ]
    },
    {
      "cell_type": "code",
      "metadata": {
        "id": "isRfDxMZLP7p"
      },
      "source": [
        ""
      ],
      "execution_count": null,
      "outputs": []
    },
    {
      "cell_type": "code",
      "metadata": {
        "id": "4je9Rte0LPjk"
      },
      "source": [
        ""
      ],
      "execution_count": null,
      "outputs": []
    },
    {
      "cell_type": "code",
      "metadata": {
        "colab": {
          "base_uri": "https://localhost:8080/"
        },
        "id": "UdyFeesOrgqp",
        "outputId": "d97e71a3-9260-487a-decc-f6090d169fba"
      },
      "source": [
        "pip install pysd \n"
      ],
      "execution_count": null,
      "outputs": [
        {
          "output_type": "stream",
          "text": [
            "Collecting pysd\n",
            "\u001b[?25l  Downloading https://files.pythonhosted.org/packages/61/86/32e04a7390c2eb870d560f300941ae2cae08aff13b616b138b603f29fbb1/pysd-0.10.0-py2.py3-none-any.whl (45kB)\n",
            "\u001b[K     |████████████████████████████████| 51kB 2.7MB/s \n",
            "\u001b[?25hRequirement already satisfied: lxml in /usr/local/lib/python3.6/dist-packages (from pysd) (4.2.6)\n",
            "Requirement already satisfied: xlrd in /usr/local/lib/python3.6/dist-packages (from pysd) (1.1.0)\n",
            "Requirement already satisfied: xarray in /usr/local/lib/python3.6/dist-packages (from pysd) (0.15.1)\n",
            "Requirement already satisfied: pandas in /usr/local/lib/python3.6/dist-packages (from pysd) (1.1.4)\n",
            "Collecting yapf\n",
            "\u001b[?25l  Downloading https://files.pythonhosted.org/packages/c1/5d/d84677fe852bc5e091739acda444a9b6700ffc6b11a21b00dd244c8caef0/yapf-0.30.0-py2.py3-none-any.whl (190kB)\n",
            "\u001b[K     |████████████████████████████████| 194kB 5.8MB/s \n",
            "\u001b[?25hRequirement already satisfied: chardet in /usr/local/lib/python3.6/dist-packages (from pysd) (3.0.4)\n",
            "Requirement already satisfied: regex in /usr/local/lib/python3.6/dist-packages (from pysd) (2019.12.20)\n",
            "Requirement already satisfied: xlwt in /usr/local/lib/python3.6/dist-packages (from pysd) (1.3.0)\n",
            "Collecting funcsigs\n",
            "  Downloading https://files.pythonhosted.org/packages/69/cb/f5be453359271714c01b9bd06126eaf2e368f1fddfff30818754b5ac2328/funcsigs-1.0.2-py2.py3-none-any.whl\n",
            "Collecting parsimonious\n",
            "\u001b[?25l  Downloading https://files.pythonhosted.org/packages/02/fc/067a3f89869a41009e1a7cdfb14725f8ddd246f30f63c645e8ef8a1c56f4/parsimonious-0.8.1.tar.gz (45kB)\n",
            "\u001b[K     |████████████████████████████████| 51kB 4.7MB/s \n",
            "\u001b[?25hCollecting pydoe\n",
            "  Downloading https://files.pythonhosted.org/packages/bc/ac/91fe4c039e2744466621343d3b8af4a485193ed0aab53af5b1db03be0989/pyDOE-0.3.8.zip\n",
            "Requirement already satisfied: numpy in /usr/local/lib/python3.6/dist-packages (from pysd) (1.18.5)\n",
            "Requirement already satisfied: setuptools>=41.2 in /usr/local/lib/python3.6/dist-packages (from xarray->pysd) (50.3.2)\n",
            "Requirement already satisfied: pytz>=2017.2 in /usr/local/lib/python3.6/dist-packages (from pandas->pysd) (2018.9)\n",
            "Requirement already satisfied: python-dateutil>=2.7.3 in /usr/local/lib/python3.6/dist-packages (from pandas->pysd) (2.8.1)\n",
            "Requirement already satisfied: six>=1.9.0 in /usr/local/lib/python3.6/dist-packages (from parsimonious->pysd) (1.15.0)\n",
            "Requirement already satisfied: scipy in /usr/local/lib/python3.6/dist-packages (from pydoe->pysd) (1.4.1)\n",
            "Building wheels for collected packages: parsimonious, pydoe\n",
            "  Building wheel for parsimonious (setup.py) ... \u001b[?25l\u001b[?25hdone\n",
            "  Created wheel for parsimonious: filename=parsimonious-0.8.1-cp36-none-any.whl size=42709 sha256=f4e7132a26071440536c479d28c5d655cf5344523f654632a4b04c76e05c44b8\n",
            "  Stored in directory: /root/.cache/pip/wheels/b7/8d/e7/a0e74217da5caeb3c1c7689639b6d28ddbf9985b840bc96a9a\n",
            "  Building wheel for pydoe (setup.py) ... \u001b[?25l\u001b[?25hdone\n",
            "  Created wheel for pydoe: filename=pyDOE-0.3.8-cp36-none-any.whl size=18178 sha256=614e4e0b841c1f2cfc8fc8ef535264352f30866383fbcd398fa59b8914f451d2\n",
            "  Stored in directory: /root/.cache/pip/wheels/7c/c8/58/a6493bd415e8ba5735082b5e0c096d7c1f2933077a8ce34544\n",
            "Successfully built parsimonious pydoe\n",
            "Installing collected packages: yapf, funcsigs, parsimonious, pydoe, pysd\n",
            "Successfully installed funcsigs-1.0.2 parsimonious-0.8.1 pydoe-0.3.8 pysd-0.10.0 yapf-0.30.0\n"
          ],
          "name": "stdout"
        }
      ]
    },
    {
      "cell_type": "code",
      "metadata": {
        "id": "l11eNrL4LMzX"
      },
      "source": [
        ""
      ],
      "execution_count": null,
      "outputs": []
    },
    {
      "cell_type": "code",
      "metadata": {
        "colab": {
          "resources": {
            "http://localhost:8080/nbextensions/google.colab/files.js": {
              "data": "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",
              "ok": true,
              "headers": [
                [
                  "content-type",
                  "application/javascript"
                ]
              ],
              "status": 200,
              "status_text": ""
            }
          },
          "base_uri": "https://localhost:8080/",
          "height": 109
        },
        "id": "8W8TzVIYsHn1",
        "outputId": "03a1512d-0b5b-49cd-967c-d90abffa63fe"
      },
      "source": [
        "import pysd\n",
        "from google.colab import files\n",
        "files.upload()\n"
      ],
      "execution_count": null,
      "outputs": [
        {
          "output_type": "display_data",
          "data": {
            "text/html": [
              "\n",
              "     <input type=\"file\" id=\"files-6690a1e5-ac14-4455-9be2-00385705955d\" name=\"files[]\" multiple disabled\n",
              "        style=\"border:none\" />\n",
              "     <output id=\"result-6690a1e5-ac14-4455-9be2-00385705955d\">\n",
              "      Upload widget is only available when the cell has been executed in the\n",
              "      current browser session. Please rerun this cell to enable.\n",
              "      </output>\n",
              "      <script src=\"/nbextensions/google.colab/files.js\"></script> "
            ],
            "text/plain": [
              "<IPython.core.display.HTML object>"
            ]
          },
          "metadata": {
            "tags": []
          }
        },
        {
          "output_type": "stream",
          "text": [
            "Saving adopcion.mdl to adopcion.mdl\n"
          ],
          "name": "stdout"
        },
        {
          "output_type": "execute_result",
          "data": {
            "text/plain": [
              "{'adopcion.mdl': b'{UTF-8}\\r\\nAdoptantes potenciales= INTEG (\\r\\n\\t-Tasa de adopcion,\\r\\n\\t\\t4.5)\\r\\n\\t~\\t\\r\\n\\t~\\t\\t|\\r\\n\\r\\nAdoptantes reales= INTEG (\\r\\n\\tTasa de adopcion,\\r\\n\\t\\t1.88)\\r\\n\\t~\\t\\r\\n\\t~\\t\\t|\\r\\n\\r\\nefectividad de la campa\\xc3\\xb1a=\\r\\n\\t0.002\\r\\n\\t~\\t\\r\\n\\t~\\t\\t|\\r\\n\\r\\ninteraccion social=\\r\\n\\tTasa de contacto*(Adoptantes potenciales/mercado potencial)*Adoptantes reales\\r\\n\\t~\\t\\r\\n\\t~\\t\\t|\\r\\n\\r\\nmercado potencial =\\r\\n\\t1.88\\r\\n\\t~\\t\\r\\n\\t~\\t\\t|\\r\\n\\r\\nResultado de la campa\\xc3\\xb1a=\\r\\n\\tefectividad de la campa\\xc3\\xb1a*Adoptantes potenciales\\r\\n\\t~\\t\\r\\n\\t~\\t\\t|\\r\\n\\r\\nTasa de adopcion=\\r\\n\\tResultado de la campa\\xc3\\xb1a+interaccion social\\r\\n\\t~\\t\\r\\n\\t~\\t\\t|\\r\\n\\r\\nTasa de contacto=\\r\\n\\t0.4\\r\\n\\t~\\t\\r\\n\\t~\\t\\t|\\r\\n\\r\\n********************************************************\\r\\n\\t.Control\\r\\n********************************************************~\\r\\n\\t\\tSimulation Control Parameters\\r\\n\\t|\\r\\n\\r\\nFINAL TIME  = 2035\\r\\n\\t~\\tMonth\\r\\n\\t~\\tThe final time for the simulation.\\r\\n\\t|\\r\\n\\r\\nINITIAL TIME  = 2015\\r\\n\\t~\\tMonth\\r\\n\\t~\\tThe initial time for the simulation.\\r\\n\\t|\\r\\n\\r\\nSAVEPER  = \\r\\n        TIME STEP\\r\\n\\t~\\tMonth [0,?]\\r\\n\\t~\\tThe frequency with which output is stored.\\r\\n\\t|\\r\\n\\r\\nTIME STEP  = 1\\r\\n\\t~\\tMonth [0,?]\\r\\n\\t~\\tThe time step for the simulation.\\r\\n\\t|\\r\\n\\r\\n\\\\\\\\\\\\---/// Sketch information - do not modify anything except names\\r\\nV300  Do not put anything below this section - it will be ignored\\r\\n*View 1\\r\\n$192-192-192,0,Times New Roman|12||0-0-0|0-0-0|0-0-255|-1--1--1|-1--1--1|96,96,100,0\\r\\n10,1,Adoptantes reales,390,337,40,20,3,3,0,0,0,0,0,0,0,0,0,0,0,0\\r\\n10,2,Adoptantes potenciales,805,351,40,20,3,3,0,0,0,0,0,0,0,0,0,0,0,0\\r\\n1,3,5,1,4,0,0,22,0,0,0,-1--1--1,,1|(511,342)|\\r\\n1,4,5,2,100,0,0,22,0,0,0,-1--1--1,,1|(685,342)|\\r\\n11,5,0,599,342,6,8,34,3,0,0,1,0,0,0,0,0,0,0,0,0\\r\\n10,6,Tasa de adopcion,599,361,56,11,40,3,0,0,-1,0,0,0,0,0,0,0,0,0\\r\\n10,7,Resultado de la campa\\xc3\\xb1a,689,249,49,19,8,3,0,0,0,0,0,0,0,0,0,0,0,0\\r\\n10,8,interaccion social,441,209,54,11,8,3,0,0,0,0,0,0,0,0,0,0,0,0\\r\\n10,9,Tasa de contacto,349,36,54,11,8,3,0,0,0,0,0,0,0,0,0,0,0,0\\r\\n10,10,efectividad de la campa\\xc3\\xb1a,697,161,52,19,8,3,0,0,0,0,0,0,0,0,0,0,0,0\\r\\n10,11,mercado potencial,281,148,35,19,8,3,0,0,0,0,0,0,0,0,0,0,0,0\\r\\n1,12,2,8,1,0,43,0,2,64,0,-1--1--1,|0||-1--1--1,1|(793,176)|\\r\\n1,13,2,7,1,0,43,0,2,64,0,-1--1--1,|0||-1--1--1,1|(766,293)|\\r\\n1,14,10,7,1,0,43,0,2,64,0,-1--1--1,|0||-1--1--1,1|(690,205)|\\r\\n1,15,11,8,1,0,43,0,2,64,0,-1--1--1,|0||-1--1--1,1|(368,154)|\\r\\n1,16,9,8,1,0,43,0,2,64,0,-1--1--1,|0||-1--1--1,1|(388,124)|\\r\\n1,17,7,5,1,0,43,0,2,64,0,-1--1--1,|0||-1--1--1,1|(618,284)|\\r\\n1,18,8,5,1,0,43,0,2,64,0,-1--1--1,|0||-1--1--1,1|(558,250)|\\r\\n1,19,1,8,1,0,43,0,2,64,0,-1--1--1,|0||-1--1--1,1|(385,266)|\\r\\n///---\\\\\\\\\\\\\\r\\n:L\\x7f<%^E!@\\r\\n1:adopcio\\r\\n9:adopcio\\r\\n23:0\\r\\n15:0,0,0,0,0,0\\r\\n19:100,0\\r\\n27:0,\\r\\n34:0,\\r\\n42:1\\r\\n72:0\\r\\n73:0\\r\\n4:Time\\r\\n5:Adoptantes reales\\r\\n35:Date\\r\\n36:YYYY-MM-DD\\r\\n37:2000\\r\\n38:1\\r\\n39:1\\r\\n40:2\\r\\n41:0\\r\\n76:0\\r\\n77:0\\r\\n78:0\\r\\n79:0\\r\\n80:0\\r\\n81:0\\r\\n24:2015\\r\\n25:2035\\r\\n26:2035\\r\\n91:0\\r\\n90:0\\r\\n87:0\\r\\n75:\\r\\n43:\\r\\n'}"
            ]
          },
          "metadata": {
            "tags": []
          },
          "execution_count": 4
        }
      ]
    },
    {
      "cell_type": "code",
      "metadata": {
        "id": "WsK9YT9ntIQu"
      },
      "source": [
        "model= pysd.read_vensim('adopcion.mdl')"
      ],
      "execution_count": null,
      "outputs": []
    },
    {
      "cell_type": "code",
      "metadata": {
        "id": "y87BLWrltZAD"
      },
      "source": [
        "xy = model.run()"
      ],
      "execution_count": null,
      "outputs": []
    },
    {
      "cell_type": "code",
      "metadata": {
        "id": "PbBnpYGF00eI",
        "colab": {
          "base_uri": "https://localhost:8080/"
        },
        "outputId": "0de6490b-7fed-4c6c-f5f6-356aeadde974"
      },
      "source": [
        "print(xy)"
      ],
      "execution_count": null,
      "outputs": [
        {
          "output_type": "stream",
          "text": [
            "          TIME  Adoptantes potenciales  ...  SAVEPER  TIME STEP\n",
            "2015.0  2015.0            4.500000e+00  ...        1          1\n",
            "2016.0  2016.0            2.691000e+00  ...        1          1\n",
            "2017.0  2017.0            5.734693e-01  ...        1          1\n",
            "2018.0  2018.0           -1.361600e-01  ...        1          1\n",
            "2019.0  2019.0            5.288686e-02  ...        1          1\n",
            "2020.0  2020.0           -1.841490e-02  ...        1          1\n",
            "2021.0  2021.0            6.691329e-03  ...        1          1\n",
            "2022.0  2022.0           -2.395650e-03  ...        1          1\n",
            "2023.0  2023.0            8.623300e-04  ...        1          1\n",
            "2024.0  2024.0           -3.098035e-04  ...        1          1\n",
            "2025.0  2025.0            1.113783e-04  ...        1          1\n",
            "2026.0  2026.0           -4.003194e-05  ...        1          1\n",
            "2027.0  2027.0            1.438969e-05  ...        1          1\n",
            "2028.0  2028.0           -5.172286e-06  ...        1          1\n",
            "2029.0  2029.0            1.859167e-06  ...        1          1\n",
            "2030.0  2030.0           -6.682710e-07  ...        1          1\n",
            "2031.0  2031.0            2.402080e-07  ...        1          1\n",
            "2032.0  2032.0           -8.634198e-08  ...        1          1\n",
            "2033.0  2033.0            3.103535e-08  ...        1          1\n",
            "2034.0  2034.0           -1.115556e-08  ...        1          1\n",
            "2035.0  2035.0            4.009829e-09  ...        1          1\n",
            "\n",
            "[21 rows x 13 columns]\n"
          ],
          "name": "stdout"
        }
      ]
    },
    {
      "cell_type": "code",
      "metadata": {
        "colab": {
          "base_uri": "https://localhost:8080/",
          "height": 221
        },
        "id": "IpSYTy1X1dv4",
        "outputId": "e7d99865-ed6c-46d2-8823-05a94d09cc28"
      },
      "source": [
        "xy.head()"
      ],
      "execution_count": null,
      "outputs": [
        {
          "output_type": "execute_result",
          "data": {
            "text/html": [
              "<div>\n",
              "<style scoped>\n",
              "    .dataframe tbody tr th:only-of-type {\n",
              "        vertical-align: middle;\n",
              "    }\n",
              "\n",
              "    .dataframe tbody tr th {\n",
              "        vertical-align: top;\n",
              "    }\n",
              "\n",
              "    .dataframe thead th {\n",
              "        text-align: right;\n",
              "    }\n",
              "</style>\n",
              "<table border=\"1\" class=\"dataframe\">\n",
              "  <thead>\n",
              "    <tr style=\"text-align: right;\">\n",
              "      <th></th>\n",
              "      <th>TIME</th>\n",
              "      <th>Adoptantes potenciales</th>\n",
              "      <th>Adoptantes reales</th>\n",
              "      <th>efectividad de la campaña</th>\n",
              "      <th>interaccion social</th>\n",
              "      <th>mercado potencial</th>\n",
              "      <th>Resultado de la campaña</th>\n",
              "      <th>Tasa de adopcion</th>\n",
              "      <th>Tasa de contacto</th>\n",
              "      <th>FINAL TIME</th>\n",
              "      <th>INITIAL TIME</th>\n",
              "      <th>SAVEPER</th>\n",
              "      <th>TIME STEP</th>\n",
              "    </tr>\n",
              "  </thead>\n",
              "  <tbody>\n",
              "    <tr>\n",
              "      <th>2015.0</th>\n",
              "      <td>2015.0</td>\n",
              "      <td>4.500000</td>\n",
              "      <td>1.880000</td>\n",
              "      <td>0.002</td>\n",
              "      <td>1.800000</td>\n",
              "      <td>1.88</td>\n",
              "      <td>0.009000</td>\n",
              "      <td>1.809000</td>\n",
              "      <td>0.4</td>\n",
              "      <td>2035</td>\n",
              "      <td>2015</td>\n",
              "      <td>1</td>\n",
              "      <td>1</td>\n",
              "    </tr>\n",
              "    <tr>\n",
              "      <th>2016.0</th>\n",
              "      <td>2016.0</td>\n",
              "      <td>2.691000</td>\n",
              "      <td>3.689000</td>\n",
              "      <td>0.002</td>\n",
              "      <td>2.112149</td>\n",
              "      <td>1.88</td>\n",
              "      <td>0.005382</td>\n",
              "      <td>2.117531</td>\n",
              "      <td>0.4</td>\n",
              "      <td>2035</td>\n",
              "      <td>2015</td>\n",
              "      <td>1</td>\n",
              "      <td>1</td>\n",
              "    </tr>\n",
              "    <tr>\n",
              "      <th>2017.0</th>\n",
              "      <td>2017.0</td>\n",
              "      <td>0.573469</td>\n",
              "      <td>5.806531</td>\n",
              "      <td>0.002</td>\n",
              "      <td>0.708482</td>\n",
              "      <td>1.88</td>\n",
              "      <td>0.001147</td>\n",
              "      <td>0.709629</td>\n",
              "      <td>0.4</td>\n",
              "      <td>2035</td>\n",
              "      <td>2015</td>\n",
              "      <td>1</td>\n",
              "      <td>1</td>\n",
              "    </tr>\n",
              "    <tr>\n",
              "      <th>2018.0</th>\n",
              "      <td>2018.0</td>\n",
              "      <td>-0.136160</td>\n",
              "      <td>6.516160</td>\n",
              "      <td>0.002</td>\n",
              "      <td>-0.188775</td>\n",
              "      <td>1.88</td>\n",
              "      <td>-0.000272</td>\n",
              "      <td>-0.189047</td>\n",
              "      <td>0.4</td>\n",
              "      <td>2035</td>\n",
              "      <td>2015</td>\n",
              "      <td>1</td>\n",
              "      <td>1</td>\n",
              "    </tr>\n",
              "    <tr>\n",
              "      <th>2019.0</th>\n",
              "      <td>2019.0</td>\n",
              "      <td>0.052887</td>\n",
              "      <td>6.327113</td>\n",
              "      <td>0.002</td>\n",
              "      <td>0.071196</td>\n",
              "      <td>1.88</td>\n",
              "      <td>0.000106</td>\n",
              "      <td>0.071302</td>\n",
              "      <td>0.4</td>\n",
              "      <td>2035</td>\n",
              "      <td>2015</td>\n",
              "      <td>1</td>\n",
              "      <td>1</td>\n",
              "    </tr>\n",
              "  </tbody>\n",
              "</table>\n",
              "</div>"
            ],
            "text/plain": [
              "          TIME  Adoptantes potenciales  ...  SAVEPER  TIME STEP\n",
              "2015.0  2015.0                4.500000  ...        1          1\n",
              "2016.0  2016.0                2.691000  ...        1          1\n",
              "2017.0  2017.0                0.573469  ...        1          1\n",
              "2018.0  2018.0               -0.136160  ...        1          1\n",
              "2019.0  2019.0                0.052887  ...        1          1\n",
              "\n",
              "[5 rows x 13 columns]"
            ]
          },
          "metadata": {
            "tags": []
          },
          "execution_count": 8
        }
      ]
    },
    {
      "cell_type": "code",
      "metadata": {
        "colab": {
          "base_uri": "https://localhost:8080/"
        },
        "id": "IkWRoVWY2PZu",
        "outputId": "464fbbf6-02ac-475f-ce51-2ff0245c5870"
      },
      "source": [
        "xy['Adoptantes potenciales']"
      ],
      "execution_count": null,
      "outputs": [
        {
          "output_type": "execute_result",
          "data": {
            "text/plain": [
              "2015.0    4.500000e+00\n",
              "2016.0    2.691000e+00\n",
              "2017.0    5.734693e-01\n",
              "2018.0   -1.361600e-01\n",
              "2019.0    5.288686e-02\n",
              "2020.0   -1.841490e-02\n",
              "2021.0    6.691329e-03\n",
              "2022.0   -2.395650e-03\n",
              "2023.0    8.623300e-04\n",
              "2024.0   -3.098035e-04\n",
              "2025.0    1.113783e-04\n",
              "2026.0   -4.003194e-05\n",
              "2027.0    1.438969e-05\n",
              "2028.0   -5.172286e-06\n",
              "2029.0    1.859167e-06\n",
              "2030.0   -6.682710e-07\n",
              "2031.0    2.402080e-07\n",
              "2032.0   -8.634198e-08\n",
              "2033.0    3.103535e-08\n",
              "2034.0   -1.115556e-08\n",
              "2035.0    4.009829e-09\n",
              "Name: Adoptantes potenciales, dtype: float64"
            ]
          },
          "metadata": {
            "tags": []
          },
          "execution_count": 9
        }
      ]
    },
    {
      "cell_type": "code",
      "metadata": {
        "colab": {
          "base_uri": "https://localhost:8080/",
          "height": 279
        },
        "id": "f6dOTg7xtx0W",
        "outputId": "0b343212-a080-4988-eb31-8786f45ef5e8"
      },
      "source": [
        "import matplotlib.pyplot as plt\n",
        "from mpl_toolkits.mplot3d import Axes3D\n",
        "\n",
        "ax = plt.figure().gca() \n",
        "ax.plot(xy['TIME'], xy['Adoptantes reales'])\n",
        "ax.set_xlabel('adoptantes reales')\n",
        "ax.set_ylabel('t')\n",
        "plt.show()"
      ],
      "execution_count": null,
      "outputs": [
        {
          "output_type": "display_data",
          "data": {
            "image/png": "[encoded data removed]",
            "text/plain": [
              "<Figure size 432x288 with 1 Axes>"
            ]
          },
          "metadata": {
            "tags": [],
            "needs_background": "light"
          }
        }
      ]
    },
    {
      "cell_type": "code",
      "metadata": {
        "id": "R0IlAHaKtxzW"
      },
      "source": [
        ""
      ],
      "execution_count": null,
      "outputs": []
    }
  ]
}