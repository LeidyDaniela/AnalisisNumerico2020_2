{
  "nbformat": 4,
  "nbformat_minor": 0,
  "metadata": {
    "colab": {
      "name": "Untitled0.ipynb",
      "provenance": [],
      "authorship_tag": "ABX9TyPNYGEKt7f7NtbS6ULKtXrT",
      "include_colab_link": true
    },
    "kernelspec": {
      "name": "python3",
      "display_name": "Python 3"
    }
  },
  "cells": [
    {
      "cell_type": "markdown",
      "metadata": {
        "id": "view-in-github",
        "colab_type": "text"
      },
      "source": [
        "<a href=\"https://colab.research.google.com/github/LeidyDaniela/AnalisisNumerico2020_2/blob/master/Untitled0.ipynb\" target=\"_parent\"><img src=\"https://colab.research.google.com/assets/colab-badge.svg\" alt=\"Open In Colab\"/></a>"
      ]
    },
    {
      "cell_type": "markdown",
      "metadata": {
        "id": "Ub64rk0B9nCs",
        "colab_type": "text"
      },
      "source": [
        "***Ejemplo 9 ***\n",
        "\n",
        "![image.png](data:image/png;base64,iVBORw0KGgoAAAANSUhEUgAAAh0AAAA9CAYAAAAJU9v4AAAgAElEQVR4Ae2d/V/M2fvHv49HFNIdVmzZEEJLbITWsorY0Pq0K7RudltaSWzICu0KsS0tWSFCCG2FEEpTppn3zLzn5n96fh/v98zUzDTTLX18OD/MY+7PzXW9zjmvc13Xuc7/2Ww2xEPIQGBAYEBgQGBAYEBg4F1j4P/edQWifAFigQGBAYEBgQGBAYEBBQOCdAhLj7B0CQwIDAgMCAwIDAwJBgTpEEAbEqCJXY7Y5QgMCAwIDAgMCNIhSIcgHQIDAgMCAwIDAgNDggFBOgTQhgRoYocjdjgCAwIDAgMCA4J0CNIhSIfAgMCAwIDAgMDAkGBAkA4BtCEBmtjhiB2OwIDAgMCAwIAgHYJ0CNIhMCAwIDAgMCAwMCQYEKRDAG1IgCZ2OGKHIzAgMCAwIDAgSIcgHYJ0CAwIDAgMCAwIDAwJBgTpEEAbEqCJHY7Y4QgMCAwIDAgMCNIhSIcgHQIDAgMCAwIDAgNDggFBOgTQhgRoYocjdjgCAwIDAgMCA4J0CNIhSIfAgMCAwIDAgMDAkGBAkA4BtCEBmtjhiB2OwIDAgMCAwIAgHYJ0CNIhMPBeY8AqG5H0enQ6PZJkQhb6eq/19T4SC4Gh94fsCNIhJjAxgQkMvL8YMLdSU7KTlPnTmPRZNHEp2Zyr072T9lr0Gtpl6zsp+31ciD+aNg0hhj4amQ5izhSkYxDCEwB7f9iz0MWHqAszry7uJyu3hMrqaq6cyiY5OoTwr36l1vC2+2ug9lAa2yvaBen4oObEocTQ28bkh1meIB0f1AD7MEEqCMVHqle5iYrTZTTozVgsFsxmiYaiZYwd+zWnm8wOcqB8bkLS6TGpY1nGoNehN/dXZgZqf11FRg+kw2I2Y5J06E32smWDHp3e2Y7+1id+b7O9Ld31IMshxVAP7Xjv1pkhkL2PPr/fpMNqwSybMFoGoUzrIP7rQ2hiEfwQZWrBZDBgkmUkvaGXuAErsql/ZniTSSxOAxk3Fsldbm/K05g87Xsut9kxKL95wq2zOayc/SU5dztou3+KHxLj+fZko0OHFmSTRIfe0osFoxfSIb/hya2z5KyczZc5d+lou8+pHxKJ//YkjbINm8WEwRl3Yuqtrg9x/NiwKHLox5z59nTXc72Dw5AyL+jR63ToJROWfvSvP7IY6t/2KnuLjEnqQD+YtdeHrHyTDquMbDKg0+nsD72EJLk/FEUo39t3GDasKvOXMPuorF+CNRtob7zJucL9HKls7mUR8ASdsigYMUgdtL3WIr+HxGNwsrLad3MeE3K/5NtNR++iTE+9vJv3FtmIyWTCqOxCJQljv3e5NqTnV/kteyd5v+4gael3/N4g+ZhAZaSWh1RUPKCtrwNS38Dlv6to1MpYu8n93cikZywo48OAZFTkpowThWz1vR1W2YRBMmJUZG6QMJhkH7Jylqks/EaMan0ycl/l1k1WOm7nLuWrX26g7/zOgtnQQOGXEcRnFfPXhWqaWlt4LdlJoayppSx7FcnZVWg7/6O0S/aYz9q5s3cVG/9+5fG5obNvFrOBhsIviYjPovivC1Q3tdLyWsJqM/Oy6gjfLZrJ5Og4UvZepqkf8uxZV04Z9u25/7pxKdcqYzJIGI0mTEYDksF30K7sXBcczx3tz3jY8AqDm4xdyvb6+UB111u5PX3fPwyZX1Zx5LtFzJysxBPt5XJTb1jvqe736bueZC+jqS0je1Uy2VXaTvy/LZz6IB0WtA3lHM1azayxQQQFhfDJ7EUsT0omOTmZ5KSvWbYkntlRExgzfiF5DyRs1jauZy1kypx0zjwzDbKhMq+rS8heM52wkWNJKGjA6BW0rkrsmtAt2nouFuxgdXw0UYmHqHvr/l/XegfwepCysrZdJ2vhFOakn+GZw9Q7WEC8izIH26Y+/d/YxPVjeeTm5bAlaT6x8d+w53I/Sar+DgeSl5BZ+hR90xlSoyaTWvLMC9GV0dw/y/69xVS39GfysaKtLyM/9w9utfbnfwPAVq/jxIaseUBpzibSN2eRk/MTGemZ7C2rpb0vC6Ws4UFpDpvSN5OVk8NPGelk7i2jtt17vyyygfan1ZQW5LDz52zyfjtFxb8aL7Ltva+GJ6X8sr2AW+2eViaJu9mxjIv7mWuvFcuI1UHuZDpan3I1ez6zMm64kQ5jYylZqY75TJnTkpNIjBlLRMLX9jlO/SyZVd8d5k5HV9uku9nEjovj52uv1c2VVdnQaG9SfLSMf1uaeXQhm8SIuey41THgOdBsHqClpJ+6cR9fMpoHpeRsSmdzVg45P2WQnrmXstr27royPuDA158xJiyMMOdjXAzpZ18OYMPZf92p7fbYAHtuiNX3XubG/mFIy83io5T920LzowtkJ0Ywd8ctOvowxtxl68SPGfOACbezDF/P7gYBr/KQPNdlH7KXO2h9epXs+bPIuDFkpMOGTbF06B6SHx+Cn99Ylp965rEDkOhousruZQlk39M7SEcC0XHpnHnq2Tlfgurhc7OMpmIjU0YE88Wh3kiHlY6n//JC75yMLHQ0FLMmIoCguF/fU9IxcFmpBCEhmrj0Mzz1MrC8A74HWdtsvIsyB9KO/v3HREPhKmYmHqK2w4T04hoH0lPZfuZJP3ZcZp6dXMeMuTu5oS4uZjTNzbR5WYClhlNsSt1KyWNld9uzPLv3w0RzxV6+31ZCg9Tf/77F30u1FK2dwbTU4zzUKpYOA+13C1g5ZTYbTjZ0Wi27t19pg0Rt0VpmTEvl+EOtaukwtN+lYOUUZm84SYMHFs26p1zJX0/CwmSySmpokZT6BmbpML/5l3OHj/HPU28WKJnGopVMiN5CpQtBUPtgMdCQn0CsB+kYiKVDKU9uLGLlhGi2VHaRCsOLWmqaDComrObnFC+LZlVp84BM8VZjM3er+kgA3TDYP9146leqLWLtjGmkHn+IVrF0GNq5W7CSKbM3cLLBdT63orn0Iyu+SmPrjh3scDyy8s5Q0+Gcf/uD1wHoTtm07U9zI4fqZthBFO2vU9jy+0MXi5iNfmPI8ILamiYMCrG0mnlevIzoVaU0D4g4WDE236XKG4lz02N/ZOf8rZW26/tJc+u/K6G2v07Z8jsP9c7/KM++ZW8xNJCfEDvEpEMRhLWZkmVjVdKxokzjhbnLNJbu53fF0qEsXA73yts6R6+t2sLUPpAOufU6e9es4+Rzl92W9iaZ00a+n6Rj0LJyukJc+vsWgKsG4Elvs0xXgL+D18Z68hNCGLP0NK/UicCKSZIweCEMnpNs53vDA/YtGUf09mtdO2Grl8nT+C9H18Sx9lh9F6GxGpHczMwGjErdZiNGvd31KBlcYhLkRoo3zCPp4D2kQetrIPI08/J0GpODo9l62WU8W1so+34SwdO/59xr37ts88vTpE0OJnrrZTSd7bfSUvY9k4Kn8/25110LrdRAycbPiZi5jmM17Rhl3+V26qKzTPe+mbWPufxHMVcbtcgWCxaLGUknY7Fa1IXe1FzF2YPfsyAygYMNJqyyK4aNNBz0Rjrc67DZeo7psCgLj6mZqrMH+X5BJAkHGzApGzO1zXLXDt/8nOPJy8iu8UaOPOvs/t7cdJLkLzK49qb7dz3JqV+68ZSz+SWn0yYTHL2Vy5queq0tZXw/KZjp35/jtXOhlR9RlL6aPVWv6VDyphjsbjNjry62rnLt/Rik7vpp6RgohuROV62Z58eTWZZdM8Cxa6bpZDJfZFzjjaf838r7/lg6+iB7YwMH/1uko7QH0mHVGbBZnFHjSjCVWfXdOmM8nO8lSa+6RyyKH1mZjPV6DN4C8SwyBhXEdp9ia2XvpMOqraX42xhCwhZztEGHwWDfcdg6brPVSTokGaNkDwbS6b34/FVfplH1T0tK7IpR7po8vQLCag9wNUjoFebo8IUqC5Beb8CkxpBYkI2So79eFkJPWSmR3ErQrCShNzoC0yR7QiS9wdRtZ20xy5iMXTsQq/peka9eNS+rPnvJXdZK7IOiCzXJksF1YrZPCJ5lKpODQadDMhhUf7zikzcalf8rC6rRhYTaYwSMih9YUhI4Gd399kpfle/0yn/Mah8VPXTixKuMLchKYKcaN6CUK7kvXCYDhpZLbPwsgDFLT9AoGVTd9z2eSMGagTfVecQHj2dl8XN7P320pbVsEzGfpVLy0rl4mtHcyCNp+liCghQXZBBjo5PJu9zI08oCNsydwJiJsSTv+YeXnSTIyutz6URFb+DMKxcy4rVOz0n6LbyXn3MsaRz+E1M577K4KKcImk8nM85/At+cetW1gLq1S+b5sSTG+U8k9bwLYbHZsDSfJnmcPxO+OcUrdZLWc+fXZUwMnkFGaQNvnJiTDO64cCtfGS92S4gyBiSjnfhZdA2U5e3i0Lmb1Dx4wIMH97l39SQHTtzg1atnNDU3cr3sMrXND9mXMIWUE/eoqbpDkzKG1PIHTzqsphaeNTXTeL2My7XNPNyXwJSUE9yrqeJOk+s4sGF6fIqsrX/wqFPnznb07dncVMzS2A39JB390U33dsjPj5E0zp+JqeddyKQyBzVzOnkc/hO+4ZQDr7qqbL4YF0F8aia/FJRw9d9mdIYu17Y3YqTMO0r8jzofSkasNiumlrepu+59cm3H4DGkEM7HnMrayh+Pus+brnX5fm2mqXgpsRsGSTossj3mRp3LJYzqWtNz/93b1EfZv5ekw/KCv/YUUK2zd9hs0vGqppyivbmcVoPwzGgbKjmd9z0rFixn97UGqo5tZlnsZCKj5pCaX+luprLoeXGjiF+272BXTg67d+4iZ2siEwN6cq9IPDqfQ0r0aIaNGE9i2iY2/1hIVauZLtKxl2tVJexcHc+0SZ8SOXMFO8ucke1K2w203C+jYOdWNqUlkTA/nmWZx7n5omtBd1eaDXNHI1Vn88lMWUDC5r9prC/nwOaVxM+IYkrceg5XadC+rKY46xsSZk1laswiMoru0eEASHdZ2TBrG6g8ncf3KxawfPc1GqqOsXlZLJMjo5iTmk9lc9diZ9K9oqa8iL25p+2menMHjVVnyc9MYUHCZv5urKf8wGZWxs8gakoc6w9XodG+pLo4i28SZjF1agyLMoq412kONdOtTGXC1laxfX4si1Mz2LrjR3788Ucyvp5FeHAQE5bs5bbDlG1ouU9ZwU62bkojKWE+8csyOX7zhZ1UWA201F7iyI5UElP2U1V7gT2r4oieuYrDtb52gzLaxisc2WXHws6t6aSmrGd7URXPO5RBL9FQmsMP361kSuAwRoQv5dtNm9m8PZ9/mnzrzVWPhidl5Gams/rz8fiPmMCC9RvJyMjij5ous3nn780vKV4zgTGJhTx1XUyseh6XbCB6pB9+fn6MmraFv5ut2KR/Ob52MWlFD2h3tXQoC/TLE6wY9wnJx59295W7LcL9mUj6+FtNGWkThjM6djcPPFw8uurtzBgVwKSNFT52YhrK0iYwfHQsux2WzU756KrZPmMUAZM2UvHGhtx0gtRJAYyauoofszNIWjiTKZNnEPfldxRcfYrOc6K0mHjTWEnxvhz25uexLSWR1LzrtJtec233UqLGhjL2k0/4xPmIWMBPFS+ozlvG50uzKHusEG0lz0YSsxIyKK5pdyHpgycdHdV5LPt8KVllj1VzvaH2EEmzEsgorqHdtS+mF1wpKuT8o67g004Z9VG3AyMdfdeNt/ZoytKYMHw0sbsfeOzidVRvn8GogElsrHiDzabl5t4lRIwJISQkhJDgYIJCI1mwqZgajbfF2ILpTSOVxfvI2ZtP3rYUElPzuN7+5i3rrgf8m98Ghky8uFJE4flHXVbOPuqzS96DJx0W0xsaK4vZl7OX/LxtpCSmkne9vZcNsqdsOvom+/eCdJQ0ucR0dPCy6ldWL9zBbYV0yC3cObOXtLljGRU0nUw14tWMrrmevzJnMHrEOD7/NovD525R+6CCA2siCQz9guxqZbJQhCLz9K8fWDD/O4obtHYmJzVxYfsMRvr1RDqUupspT4skINS7pWPE+PmkbjtE2Z066q4VkBoVyOiZP3BVq9Rrpf1GLkkrsihvkjAa9LTcyGXRmCCiVh/r5qN2Asjc8YLaC7uIC/VndFQqu45d4F7jK55XFbDm01GEzf6ajF0FnLvVwPPGKo6kTiIwfAVHGmUfsrJh1jVT/1cmM0aPYNzn35J1+By3ah9QcWANkYGhfJFdrU54cssdzuxNY+7YUQRNz6RK6Ye5gxe1F9gVF4r/6ChSdx3jwr1GXj2vomDNp4wKm83XGbsoOHeLhueNVB1JZVJgOCuO2MmX1zIVvWirOPhrOS8kh6Wj7Rb7vxzH8JC5bC+3+6yt7TfITVpBVnkTktGAvuUGuYvGEBS1mmMNJsztT6guy2P5hJGMiljC1rzfOHogk6RFqzlw36l/94EhPTzO2tlxZJx5jF61dOhpqsgmccJYZqwvolbZxSqWjuYLrI3wJyzxOI/1A7B0SE2cTgln5ORMLrfY/+81YFlznrSJI5mcUdnlgnFOOoZ/OZoSQYCfH37Dx7P8wC0enspk3fa/eNq523bpn66aH2MCCU89S4vrguUsz/XZ4Dg55ubC6e0z3xYUY/0h5gf7EbKw0H7M06UuQ90+4oL8CFl0rNt3Ku6N9RyaH4xfyEIKFRy7/NdmqGNfXBB+IYs41ijxvCiJccMCmJi0n+vP3yDpNTTeKOTb2FBGfTKfrMttXROlVeLppV9YHr+K3GsvkUxaqrLiCI/L467ehqXTsubeb/WUhOrOdTneLCt5M1zeq23sB+nwmRzMgF6nd3HbyR7vFWunjidXSvjrbotKJt1dPC76d5Wbl9cDIh191o2H3hzyqT80n2C/EBYWum7GlDYbqNsXR5BfCIuOOb5TZN6hoanmEkXZaSyMCmVkQDDR6/7wmC+tSE8v8cvyeFblXuOlZEJblUVceBx5d/XY3qruepbv4DBkRffkCiV/3aVF2XB0utR6rtNtfKhyHhzpsEpPufTLcuJX5XLtpYRJW0VWXDhxeXfd4la61+ulnX2R/X+fdAQQMieBxMREEhMXs3BuDFETwgiets1OOmw2zLKWmtw4gkZMYZPzmI1FprEwgVD/CNZdeInJbMFqtdB6IY0I/1ASi+y7PavmIltmjWNOzm10LgOx7dJ/+KxHS4ci0Ddc/dZOOk64xnQ43CuBs3ZxQyNjtlixWtq4nDGZEUFfcKDOgE1+wpGkaOJzqmk32Bcdg/Y++xLCGB6ykL0Pfe3ELVg0F1kzcTihi4/zSDKj+nytrziT9Al+IYkcqZPUOhVi01KaQvjw8aT+bTdLe5WVzYLcWEhCqD8R6y7w0qSUacXSeoG0CH9CE4scu2wzsraG3LggRkzZZCcdyg7aouHimokMD13M8Udddb86k8QnfiEkHqlDUuSvxJO0lJISPpzxqX87zKney7SZNDxp1DkWCD0PDicRERDCnG0XHGZ0mSdHkoiOz6G63SE/g5b7+xIIGx7Cwr0PkRS3ke4e2bGjCfg0jfNNBszqXRqS9xNJ5lecXh9F6OxsbroGBVpa+UchoSOnkl7qiB1or2C9SjqKaer0vXoZZC6YchuU+mp+nhnIuOSTjpgQ7/+VHuTx+ehAYn+577ETtP9eV72PpZ8MU60dAWMnM3t5NpebvU3wCkl+wuEFIQTG7OSOW1CXZ90dVO9dSnRUFFH9eMxOO+VujXHpu74mh1mBfoQu/p3nrhYbmw3To0PEh/gRNDffe7ZPfQ05swLxC13M767jTCnf9IhDSsB50Fzya19zI3MyIwIi+fZiaye5sFpkXl3IJHrEMCamnHDoy4Kmcg+JkVGsOnwfrdmM1HSBbXGRLMy+0WkZdNOZS3/69LlFojZvIbEbr9HeG0ZknVf99l6PiVdVpzlxsZaWDh067UvuVtyk0cOa1Hs5NgZEOvqsG28WGD01ObMI9Atl8e/PPaxvJh4diifEL4i5+bXuu3yr3ZWufVTG9vixDA+cxbbrXScdLJpK9iRGErXqMPe1ZszKJnJbHJELs7nRaWH1xLzH+/7orr+46OPvTa+qOH3iIrUtHeh0Wl7ereBmo691waP9bnUMgnRYNFTuSSQyahWH72vVJHlNF7YRF7mQ7BsdLla9nurv33cWqZa8hbFsvNbuw93av/Jcse/jyKyjQGsznTEdbpYOHa0Pi8lI2tVJOmw2B0BdSYdN5lnRIkIDJrHhmmKes5errdpsDxB1HIXVXEzns4CJpF5o6/yN8tu+BZL2TDqC4va7nF6RqNk1m8DA2fxSI2F5cZrk8cFMXplBZmam47GJ9V/GM2/eMn6pdG+Ps/3qc3sFqZ8qu+yTLgteOxVrI/APS6S4M2OijfYr64nwDyPxVJNDgd5kZUN+VsSi0AAmufr9tFVsnjqC4C8KaHDunB2TvCvpsNnaqUj9VK37pGvdFWvtdRc767Zha7/iWKxPdbXda5k2zI7duP7hEVZFBBA8ZysXnPEIlhecTh5P8OSVZHTKL5NN678kft48lv1SSZuic+khuZ+PJjDmx14WWhs2zQXSPh1OWGJRV9scuHlT/j2fBQQQ5QzGGiTpkJ8f56uwIObleUyobpOFgsOtKl7n/VrvnShZNVz9+QtGK9YOvwAik4p8+/TNTRQvCcM/YgNX2nsauEq0+2Pq6+qo68ejQQm29Gi/E7fGuoPMUywdCd4sHfvtlo4EX5aOOg7OUywdCV4tHftVS0cCxxpbuLQunOEjp5F528NV1fa3iruAqAwq39iwaq+xMz6UwNgdXG4x0t5wnl1JC/lq2580qJbInuTTl+/MaJ9Wcjg1mqiv8iivH9hRXaf8fD2bnpWSMTecsHHhhIcrj0ks/qXKbQPV/b8uOZBcLFnaukKWxqbx9wt3y44zX5LXmCVjX3XjjQgbqTs4T7V0JHizdOy3WzoSnJaObtiy0FrxIzGjQkgofOxwqWq5tjOe0MBYdlxuwdjewPldSSz8aht/NnQRk+4ycdXp0OiuxzaYnlGaMZfwsHEOvYYzafEvVDlCCnz+16uFUktd4VJi0/7mhYu+nXrV6XxZKK1or+0kPjSQ2B2XaTG203B+F0kLv2Lbnw3dLa/d9OMq0z6+Nmt5WnmY1Ogovsorp96r66yPZXlpT99Jh+fpFauWhxXXXQK2TDwqiCfEk3T87o10ZLqcSjHx6OgCQvwjWHvZ/d4DbZXr73x1sjfS4XpkVuL+7liVdCjR5YbaA8wNmcDqkpdqUKESWKg+nJHRPZm/fZGO9d5Ih2LZCWNJ58LvTVYK6fjdK+nIVEnHITfSURAf4mbp8E06HISns2476VCsJ2FLXCwEpkd0L9Mhc6mWoymTCAj6nMyyF13M11DLgbkhTFhdwkun7NRnZyS14xSI9JC9KunIUk3mPgerciTx+SkSQ/0Inp/f1V8HcA11eerCOHZlGa+VzwZJOt5c3sikwCg2V/Q8Eerv7CQmMIi5PZAT86MjJEUEqNYOv8BZbCl71bnLd+uv+QXFiWEMn7CWfxxZNd2+dx2kVivWfj98jRMbVk0Z68KHM3rOHmo9duH6Oz8SE+hP5HeXaXdtg/O1VUOZQiZGz2GPZyyO/o7qMvKP/I7L7VqqfpjCiIAo0q95yFV/j6yZgQwPX8+lNgvNJeuY5D+CqOU7OHhgH7l5hZTVvKDD6GsC9t03nzJUgpjVgGoZc2+WDmdf+/0se5xi0qFzbhB8lNVxO5fEKRFERHg+xjPMbwSfdvs8goiYdRR7uraU8vusG2/ys6IpW0f48NHM2VPrYenRc+fHGAL9I/nOY252k3fb33wzMYR5BXWqNcTSXMK6Sf6MiFrOjoMH2JebR2FZDS86jF1zhw+5uJU7JLrzJpOuz1TsuJEE98Bht/aqfergdm4iU7zpb/ww/EZ86kXnEcSsK/bu1rQ0U7JuEv4joli+4yAH9uWSV1hGzYuOASVB7N7err66fqccKlAPRsjm/umsD3odOOlQCnc7JuVtIZV51ivpUMxOywjzC2Hxb4/ddml9tnRssLtX/nA1+7qeXulMDuZOOkyPC0kIGcn07VfsO3JXgVkl2tokt/a4KkVZ8LxaOj440iHx7/E1fDYiiNjMMpdMi2YMpscUJoQwcvp2rnRbQK1IbW1Iihm/H6TD1lbOfyL8CZiUTrmHJcBQt5e4oJHM+vG2PUHPoEiHgdq8eQSNTaL4Rc+LnOnxERJCApmZdc+7/9Si4ca+NFasWMzkUfag0pAvdnJV4+XorfyE3xaEMDJ6O7dc3Ueu2HO+9rpj8r4D7n3HpLh2nlG4YiwBEWlccNOXlZYzKYwfHs7qYhdSabPY3YZqe2SeFa5gbEAEaR4WSWvLGVLGDyd8dTEvzGaaTiQz1i+UxKMewbLSfXbFjiZw7m5qpHaubIzEf/Qcdt/W2k8pGU320y2WnvXhNg6dsvqfe36Llg7Fotwn3XQtMBZLFzblZ4WsGBtARNoF93nQ2sKZlPEMD1/d8xjRnGf1p5NIO/9aNfW3X9lIpP9o5uy+jdaknEQ0YlKPTFve+gL2XmLB67gdoKWj/QobI/0ZPWc3t7UmNYOwcjxZScdueWckugsnPcm3/7mK7OX2SjrOfGXP0/H1+VY310f3xnhzGfTiXjloT/qlv7OLuNHDCE3M555WOX9vw2ox01aRoSYHm7+vFr3PK6e1VGZ8RkBIAocfm9Rju+qR1Y7b/KAemXV3r9zP7rJ02Dqq2BEbiP/EZA7f1SApiYtk5Siqnqarh9n7xwPvi4wywfkiHeu8WTrs1gY3S4fiK3WzCvXmXjnYtfP36grx5V5Z59u94mHpUPzy7i4bG4b630mdPILRszZz3iUFsPy0gn/qXlG1I5ZA/4kkH76LRjKp8lNSXuubrnJ47x88UOIWOt0rvVs6bJYWzv5nKiNHRJNZ7pL3wWal+VwaEWO+YFeV42rz9gp7IKlrP/q6+Fib1Qk1KG5Pt5Mc3bCtvc62aYF8umExoZsAAAy2SURBVP6iFyuAzKtLP7N6w2Fq2hooSp1kDyodNp6lv1Z3N7Hrq/kpJpBPUk71GEdis3Vwe08ik73tmHr4LGatjx2TKhclV8A6okJi+MnNCtFK+RYlT0M6pZ2npGxoXzZQ/6zLJaHkkFgXFULMTy45TWw2Wsu3qLk/0h0JsdTTK5EjGb/6D564JAyzNp8ldWIocTtvordpKF8fzrDQRRQ8cp44Uo6iS7x+9hyNy/+66aOvOv4f/N2AYjqUmLo+6kaVpfYlDfXP0DjjesxNnFwXRUjMT1xzdWu1lrNFycuS7kyIZUDvmVLAKvPy7x/4PO4HLmrsJ+w05esJHxbKooJHncfilSP90utnPNc4dd23he3D0f0AYzo05awPH0boogIeOceEEk8jvebZc02nfIdaTrL2Na9afbtye2qPb9KhZiSt5eACJSNpGIsLG5Bk3/krZFnL3d1zGB3wGf+5pEFWAC3rqTu4gJCASNLKX6MmWrHKtKiBpEHE7a2hQ/mdSZmspxA0Kpx56b9R8e9TGu9fpnBTDMEBo/h0WTanqxrpcCaocZtMDNTuX0howERSjlbz6N41Kms1GDWX+S4qgMBZWdx8Yz9HbpE1VP4wjZGjprOtsg3ZZqS2MIWooJGERM5j7U/5FBYWkJv5DUnph7nd1rUbcBeijNxcyqrwYYQtOUqj0e4rNcstnF8dzvCQeA7U6u27NrNM8/k1TBgeyuLCxxhkK15lZZPR1x1kQUgAkWnlvJaV3Z4VucUeSBoUt5ca9biojKy9y+45own47D9c0tgTFMlyM6WrwhkWtoSjjUa7hcYs03J+NeHDQ4g/oBA3ZVIwIzefZ80EJQi2kMfqGXvvZdqMDZxYO4URI6NJL3mMTs3Tobig2rhXuINf7+gw1haSEhXEyJBI5q39ifzCQgpyM/kmKZ3Dt9vUeynkNzfJmhXIiKmbqFDa61WPXZOQsa6Yb2eNI2J5HlUt9pMzBs09fkudzZKdl+1Hrc0y8qszrPxkGCELD1EnyXZ8uWGjq0x3/dlQCef0ICZnVvTuF7W+4VLmNMLm5nLf1S1hNaJ78icZ8xfyY4WdlGsrs4gdbbd2BESs5ti/7nENlhfFrBg3nlXHPYP2PNv69mM6VBlIDylcPY2YDcXUd9jvXtHeL2RN9EzSTrjErLRfY2tsKEFRazj9zBkLIPGwcDXTYjZQXN9hv3tFe5/CNdHMTDtBfadLQU/N4VVEjZtDxpl6tGrunTfcL0whes5mSlWLpBJknkxE4BgSsi7yuF1CalOOVx7iaPljpJ5cm33V8f/g7wZKOpRj5H3TTTvXtsYSGhTFmtNdqf6lh4WsnhbDhuJ6OtS7V7TcL1xD9Mw0TtTbXQraW3tYOjuOrzOPcf25csrQQHvDObLXfcuvlc2dVgwlID45IpAxCVlcfNyOJLWpRz0PHS3nseNOnG7j8X9QV/3rwwBJh9xIYXIEgWMSyLr4mHZJok05Xn7oKOUDyozsOc8M4L2hjiPLIwmZtILCem/ByT2X6YN0WNDWX+J49jrmjFMSHwXzSdx6fjl2gYdtXkyfppfcLfuNzfHhBAeNJSYtj9JbT3hSVUTm4omEBI1lpvLZvWZa686TkzKVsKBgJsRn8Nv1JjU4T265R8mub4iPnkREVAwJ6/L482QWSV+u5acj5TxsdiT98gJOU+MZtsRHETEzkfRfL/O49RH/HPiWmcq9MeNiSdt/gTqNhofnckmNUZI5jWX2+l/tKZXlVu6XZJESH0NU5GRmLVrFpvwL1Lf5ZuTGF7cpyVlDdFgQoVGryC6p4nn7K+6czSV12hiCgsNZuKmAS/WtNN87S86aaMYEhRD59U5OV1Zzo5usmnjzsoqizMVMDAli7Mw08krv0dxax/mcFKaGBRE8IZ6M367z5Oldyn7bTHx4MEFjY0jLK+XWk8fcLslhTXQYQaFRrMouoep5O6/unCU3dRpjgoIJX7iJgkv1tDbf46zS9jFBhER+zc7TN3n8+E73Mps6aC7/gTljgwj7LJ61W+15OnZs20J6SgIzopdxRLEs2WRa75eQlRJPTFQkk2ctYtWmfC7Ut6ksXG6t4c/cdXyu6GLMDNZkF1Fe27V79j5wZXRN1yn8YS2r12ewPetntm/5gd1/3KRJnbRkWmsvc2JXMp+FBhEcHs/G/BIqei23azDIjUdYMiaCtNLWPkV/S1U5LJiUyKF/nbiwoq0p4vsFUYwZM5Xl2ed5pG3mxqFUYj6xJwsLCgpjavIhajpPqVhp/jONKbM2U9bqzLvS1aZusuh3PIcSA9JDeY6xY2qt4Ux2huPulSwy0jexp/Rh185X+Z1US0HKTKYv+Zmrjh2s2j5TKzVnsslw3L2SlZHOpj2lPPQMNjO2cK8km/+sXkNaxnaydmwmY/sByh9pu2Jd9HWU7kwmbvpkpsd9SWpmPudrW+wuOS/jvJt8PsDfDJx0KJu3vuhGorYghZnTl/DzVU2XLmwmWmvOkJ3huHslK4P0TXsofdg1VuVX5eSsTWTujCimxiWxKSubPb/9zYNXOkdCRCf29NSV7iQ5bjqTp8fxZWom+edraflfynb81rE1QNJhs6GvK2VnchzTJ08n7stUMvPPU9vSg+v/rbfdqVfHs+kZJf/5nClz0zk7gHvWfJAOx3lk11tmdfZrv31d7au4JYzOgBuD4qZQLB0yJkc6aJ1yY6Hig1KydyqBXcpv9Ub771QhOW6+VH+vRy8pQUcG9OoNmGaXweEhAPW/ZvXWVSXLpUENQlOsCV0+U+UWTMX/ZFFux+xsY9cNilZHpk779cXKrZleiJWbIpX+SY7MnJLqUlAmRLMsd5avNzp29EqmUGd/VfeD0jYvsrIpt/o6s30qsnZYOkzOevQY1fTOSt1GR906DLLT0tEVzKZYpNQTDIo1wOlfVGXtsHR0limpV7lblbq9lGmzOOtWbp50pDs2KpYO++edkfRWJeOrkp1V0amk3k7Z+Z1iWXHBkerC6sXSYV9clIykSkCqo17l9kvXVNpK3zr7YZdNV8pibxhx/6ytbAOfRX3LmZY+LP6K7i3NXNy2mK/3uNxWajXacadkbXVkhzW79FXFuOQSeCbVUpi6gLQTvd1x4t7Wt7/YKmNNyfppt3QYfdwya1IyiUrdyb5yk6mqFyWHitH3LbP2G08lR5Zh+62lXbiw99HskrVXvdW0T9h41/L575U/KNKhHIfvi25MEnqdZL9TxHVeU+dm5y2zRi+3zNqzCduzSjvmBMfc2g2jZpfsxyq++jjOXNvzQb0eOOlwZnHuWp98exy66eEdydCszA36gd0o75t0vKPGDpVQRD3/vYnzfZW9rNWiVf2iWq7umMP87b6yb3qXnaWtmt8yt1OknJXv7/gwa6n9fRNrfyrjWacbwns976v8RLvevb6U2IyUBZv7mQb93bdL6H6wMlbiqVJYsHmQadD7O++8h78XpOM9VIoY4IMd4F7+b/iXw8uiWZRbjeb5ObZ9vWFA9ygYmiopyi+k4kl/fJkmmq4WkV9UQaPuY9/xedGNGIMuQfoWdLqBJJ8Scn3v502LDp1rTNhHintBOj5Sxb/3A/Rt68XSzo2cFJam7SR3dx5/VDX7Pg7dY90WTNqn3LndwJs+ugKs+kZq7j5DaxKE46PDXY9YEkRB4OHjw4AgHWJScNllfdgDwGqU0BuUI9EG5D4EXPY0IZq93ZLcA5b6E2/SU73iuw8bo0K/Qr8fOgYE6ehhofjQlS/6JyY4gQGBAYEBgYGhxIAgHYJ0fDSWjqEcWKIuMZELDAgMCAx0x4AgHYJ0CNIhMCAwIDAgMCAwMCQYEKRDAG1IgCYYf3fGL2QiZCIwIDDwsWFAkA5BOgTpEBgQGBAYEBgQGBgSDAjSIYA2JED72Ni86K/YwQoMCAwIDHTHgCAdgnQI0iEwIDAgMCAwIDAwJBgQpEMAbUiAJhh/d8YvZCJkIjAgMPCxYUCQDkE6BOkQGBAYEBgQGBAYGBIMCNIhgDYkQPvY2Lzor9jBCgwIDAgMdMeAIB2CdAjSITAgMCAwIDAgMDAkGBCkQwBtSIAmGH93xi9kImQiMCAw8LFhQJAOQToE6RAYEBgQGBAYEBgYEgwI0iGANiRA+9jYvOiv2MEKDAgMCAx0x4AgHYJ0CNIhMCAwIDAgMCAwMCQYEKRDAG1IgCYYf3fGL2QiZCIwIDDwsWFAkA5BOgTpEBgQGBAYEBgQGBgSDAjSIYA2JED72Ni86K/YwQoMCAwIDHTHgCAdgnQI0iEwIDAgMCAwIDAwJBgQpEMAbUiAJhh/d8YvZCJkIjAgMPCxYUCQDkE6BOkQGBAYEBgQGBAYGBIM/D+9Pc+QaKA33QAAAABJRU5ErkJggg==)"
      ]
    },
    {
      "cell_type": "code",
      "metadata": {
        "id": "wpmNCaJU7hUN",
        "colab_type": "code",
        "colab": {}
      },
      "source": [
        "import matplotlib.pyplot as plt\n",
        "import numpy as np\n",
        "from scipy import optimize"
      ],
      "execution_count": 1,
      "outputs": []
    },
    {
      "cell_type": "code",
      "metadata": {
        "id": "Vw-ax_UrIVej",
        "colab_type": "code",
        "colab": {}
      },
      "source": [
        "def f(x1,x2):\n",
        "    return 0.06*(np.exp(2*x1+x2)) + 0.05*(np.exp(x1-2*x2)) + np.exp(-x1)"
      ],
      "execution_count": 2,
      "outputs": []
    },
    {
      "cell_type": "code",
      "metadata": {
        "id": "xd1ijsIU9m0d",
        "colab_type": "code",
        "colab": {}
      },
      "source": [
        "def grad(x1,x2):\n",
        "    return np.array([0.12*(np.exp(2*x1+x2)) +  0.05*(np.exp(x1-2*x2)) - np.exp(-x1), 0.06*(np.exp(2*x1+x2)) - 0.1*(np.exp(x1-2*x2))])"
      ],
      "execution_count": 3,
      "outputs": []
    },
    {
      "cell_type": "code",
      "metadata": {
        "id": "gCrObPg_hu2s",
        "colab_type": "code",
        "colab": {}
      },
      "source": [
        "def gd1(x,f,grad, a, maximiter, epsi1):\n",
        " xs = np.zeros(1 + maximiter,2)\n",
        " xs[0,:] = x\n",
        " for i in range(maximiter):\n",
        "        x = x - a * grad(x[0],x[1])\n",
        "        xs[i+1,:] = x\n",
        "        tol= abs(f(xs[i+1,0],xs[i+1,1])-f(xs[i,0],xs[i,1]))/max(1,abs(f(xs[i,0],xs[i,1])))\n",
        "        if tol < epsi1:\n",
        "           break\n",
        " return xs,i+1"
      ],
      "execution_count": 13,
      "outputs": []
    },
    {
      "cell_type": "code",
      "metadata": {
        "id": "dzjLrbN_RS0c",
        "colab_type": "code",
        "colab": {}
      },
      "source": [
        "import matplotlib.pyplot as plt"
      ],
      "execution_count": 14,
      "outputs": []
    },
    {
      "cell_type": "code",
      "metadata": {
        "id": "xPGuMqK9hvKl",
        "colab_type": "code",
        "colab": {}
      },
      "source": [
        "x = np.array([-1,-1])\n",
        "maximiter = 1000\n",
        "epsi1 = 0.001;\n",
        "a=0.25"
      ],
      "execution_count": 15,
      "outputs": []
    },
    {
      "cell_type": "code",
      "metadata": {
        "id": "abKGujHG-SkW",
        "colab_type": "code",
        "colab": {
          "base_uri": "https://localhost:8080/",
          "height": 316
        },
        "outputId": "422e54b4-69a0-42cc-a7aa-5efdd1a412c5"
      },
      "source": [
        "res1 = gd1(x,f,grad,a,maximiter,epsi1)\n",
        "xs1 = res1[0]\n",
        "i1 = res1[1]\n"
      ],
      "execution_count": 26,
      "outputs": [
        {
          "output_type": "error",
          "ename": "TypeError",
          "evalue": "ignored",
          "traceback": [
            "\u001b[0;31m---------------------------------------------------------------------------\u001b[0m",
            "\u001b[0;31mTypeError\u001b[0m                                 Traceback (most recent call last)",
            "\u001b[0;32m<ipython-input-26-1b4fc6e7f842>\u001b[0m in \u001b[0;36m<module>\u001b[0;34m()\u001b[0m\n\u001b[0;32m----> 1\u001b[0;31m \u001b[0mres1\u001b[0m \u001b[0;34m=\u001b[0m \u001b[0mgd1\u001b[0m\u001b[0;34m(\u001b[0m\u001b[0mx\u001b[0m\u001b[0;34m,\u001b[0m\u001b[0mf\u001b[0m\u001b[0;34m,\u001b[0m\u001b[0mgrad\u001b[0m\u001b[0;34m,\u001b[0m\u001b[0ma\u001b[0m\u001b[0;34m,\u001b[0m\u001b[0mmaximiter\u001b[0m\u001b[0;34m,\u001b[0m\u001b[0mepsi1\u001b[0m\u001b[0;34m)\u001b[0m\u001b[0;34m\u001b[0m\u001b[0;34m\u001b[0m\u001b[0m\n\u001b[0m\u001b[1;32m      2\u001b[0m \u001b[0mxs1\u001b[0m \u001b[0;34m=\u001b[0m \u001b[0mres1\u001b[0m\u001b[0;34m[\u001b[0m\u001b[0;36m0\u001b[0m\u001b[0;34m]\u001b[0m\u001b[0;34m\u001b[0m\u001b[0;34m\u001b[0m\u001b[0m\n\u001b[1;32m      3\u001b[0m \u001b[0mi1\u001b[0m \u001b[0;34m=\u001b[0m \u001b[0mres1\u001b[0m\u001b[0;34m[\u001b[0m\u001b[0;36m1\u001b[0m\u001b[0;34m]\u001b[0m\u001b[0;34m\u001b[0m\u001b[0;34m\u001b[0m\u001b[0m\n",
            "\u001b[0;32m<ipython-input-13-21a38ce34d50>\u001b[0m in \u001b[0;36mgd1\u001b[0;34m(x, f, grad, a, maximiter, epsi1)\u001b[0m\n\u001b[1;32m      1\u001b[0m \u001b[0;32mdef\u001b[0m \u001b[0mgd1\u001b[0m\u001b[0;34m(\u001b[0m\u001b[0mx\u001b[0m\u001b[0;34m,\u001b[0m\u001b[0mf\u001b[0m\u001b[0;34m,\u001b[0m\u001b[0mgrad\u001b[0m\u001b[0;34m,\u001b[0m \u001b[0ma\u001b[0m\u001b[0;34m,\u001b[0m \u001b[0mmaximiter\u001b[0m\u001b[0;34m,\u001b[0m \u001b[0mepsi1\u001b[0m\u001b[0;34m)\u001b[0m\u001b[0;34m:\u001b[0m\u001b[0;34m\u001b[0m\u001b[0;34m\u001b[0m\u001b[0m\n\u001b[0;32m----> 2\u001b[0;31m  \u001b[0mxs\u001b[0m \u001b[0;34m=\u001b[0m \u001b[0mnp\u001b[0m\u001b[0;34m.\u001b[0m\u001b[0mzeros\u001b[0m\u001b[0;34m(\u001b[0m\u001b[0;36m1\u001b[0m \u001b[0;34m+\u001b[0m \u001b[0mmaximiter\u001b[0m\u001b[0;34m,\u001b[0m\u001b[0;36m2\u001b[0m\u001b[0;34m)\u001b[0m\u001b[0;34m\u001b[0m\u001b[0;34m\u001b[0m\u001b[0m\n\u001b[0m\u001b[1;32m      3\u001b[0m  \u001b[0mxs\u001b[0m\u001b[0;34m[\u001b[0m\u001b[0;36m0\u001b[0m\u001b[0;34m,\u001b[0m\u001b[0;34m:\u001b[0m\u001b[0;34m]\u001b[0m \u001b[0;34m=\u001b[0m \u001b[0mx\u001b[0m\u001b[0;34m\u001b[0m\u001b[0;34m\u001b[0m\u001b[0m\n\u001b[1;32m      4\u001b[0m  \u001b[0;32mfor\u001b[0m \u001b[0mi\u001b[0m \u001b[0;32min\u001b[0m \u001b[0mrange\u001b[0m\u001b[0;34m(\u001b[0m\u001b[0mmaximiter\u001b[0m\u001b[0;34m)\u001b[0m\u001b[0;34m:\u001b[0m\u001b[0;34m\u001b[0m\u001b[0;34m\u001b[0m\u001b[0m\n\u001b[1;32m      5\u001b[0m         \u001b[0mx\u001b[0m \u001b[0;34m=\u001b[0m \u001b[0mx\u001b[0m \u001b[0;34m-\u001b[0m \u001b[0ma\u001b[0m \u001b[0;34m*\u001b[0m \u001b[0mgrad\u001b[0m\u001b[0;34m(\u001b[0m\u001b[0mx\u001b[0m\u001b[0;34m[\u001b[0m\u001b[0;36m0\u001b[0m\u001b[0;34m]\u001b[0m\u001b[0;34m,\u001b[0m\u001b[0mx\u001b[0m\u001b[0;34m[\u001b[0m\u001b[0;36m1\u001b[0m\u001b[0;34m]\u001b[0m\u001b[0;34m)\u001b[0m\u001b[0;34m\u001b[0m\u001b[0;34m\u001b[0m\u001b[0m\n",
            "\u001b[0;31mTypeError\u001b[0m: data type not understood"
          ]
        }
      ]
    },
    {
      "cell_type": "code",
      "metadata": {
        "id": "uOKRdiuL-ndQ",
        "colab_type": "code",
        "colab": {}
      },
      "source": [
        "xx = np.linspace(-1, 1,75, 100)\n",
        "yy = np.linspace(-2, 3.5, 100)\n",
        "X, Y = np.meshgrid(xx, yy)\n",
        "Z = 0.06*(np.exp(2*X+Y)) + 0.05*(np.exp(X-2*Y)) + np.exp(-X)\n",
        "c = plt.contour(X, Y, Z)\n",
        "plt.plot(xs1[0:i1+1,0],xs1[0:i1+1,1], '-ro')\n",
        "plt.xlabel('$x_1$')\n",
        "plt.xlabel('$x_2$')\n",
        "print(xs1[i1,0],xs1[i1,1])\n",
        "plt.title('Gradient descent with RMSprop')"
      ],
      "execution_count": null,
      "outputs": []
    },
    {
      "cell_type": "code",
      "metadata": {
        "id": "aaXltl0cAStH",
        "colab_type": "code",
        "colab": {}
      },
      "source": [
        "def gd2(x, f, grad, a, maximiter, epsi):\n",
        " xs = np.zeros(1 + maximiter,2)\n",
        " xs[0,:] = x\n",
        " for i in range(maximiter):\n",
        "      g = grad(x[0],x[1])\n",
        "      def phi(s):\n",
        "        return f(x[0]-s*g[0],x[1]-s*g[1])\n",
        "      \n",
        "      a = optimize.fminbound(phi,0,10)\n",
        "\n",
        "      x = x - a*g\n",
        "      xs[i+1,:] = x\n",
        "\n",
        "      tol= abs(f(xs[i+1,0],xs[i+1,1])-f(xs[i,0],xs[i,1]))/max(1,abs(f(xs[i,0],xs[i,1])))\n",
        "      if tol< epsi:\n",
        "          break\n",
        " return xs,i+1\n"
      ],
      "execution_count": null,
      "outputs": []
    }
  ]
}