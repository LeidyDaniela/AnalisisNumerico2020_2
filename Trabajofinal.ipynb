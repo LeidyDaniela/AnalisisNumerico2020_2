{
  "nbformat": 4,
  "nbformat_minor": 0,
  "metadata": {
    "colab": {
      "name": "Trabajofinal.ipynb",
      "provenance": [],
      "authorship_tag": "ABX9TyMgabCGLhqE1R2JHUU1IA4X",
      "include_colab_link": true
    },
    "kernelspec": {
      "name": "python3",
      "display_name": "Python 3"
    }
  },
  "cells": [
    {
      "cell_type": "markdown",
      "metadata": {
        "id": "view-in-github",
        "colab_type": "text"
      },
      "source": [
        "<a href=\"https://colab.research.google.com/github/LeidyDaniela/AnalisisNumerico2020_2/blob/master/Trabajofinal.ipynb\" target=\"_parent\"><img src=\"https://colab.research.google.com/assets/colab-badge.svg\" alt=\"Open In Colab\"/></a>"
      ]
    },
    {
      "cell_type": "markdown",
      "metadata": {
        "id": "beyuDxXD9GEX"
      },
      "source": [
        "**Caso Base**\n",
        "\n",
        "---\n",
        "\n"
      ]
    },
    {
      "cell_type": "code",
      "metadata": {
        "colab": {
          "base_uri": "https://localhost:8080/"
        },
        "id": "pw4lB0f06Mtv",
        "outputId": "8ab1dad5-86f3-4c56-f0dd-6d7877b102d6"
      },
      "source": [
        "pip install pysd "
      ],
      "execution_count": 1,
      "outputs": [
        {
          "output_type": "stream",
          "text": [
            "Collecting pysd\n",
            "\u001b[?25l  Downloading https://files.pythonhosted.org/packages/61/86/32e04a7390c2eb870d560f300941ae2cae08aff13b616b138b603f29fbb1/pysd-0.10.0-py2.py3-none-any.whl (45kB)\n",
            "\u001b[K     |████████████████████████████████| 51kB 2.7MB/s \n",
            "\u001b[?25hRequirement already satisfied: chardet in /usr/local/lib/python3.6/dist-packages (from pysd) (3.0.4)\n",
            "Requirement already satisfied: xlwt in /usr/local/lib/python3.6/dist-packages (from pysd) (1.3.0)\n",
            "Collecting parsimonious\n",
            "\u001b[?25l  Downloading https://files.pythonhosted.org/packages/02/fc/067a3f89869a41009e1a7cdfb14725f8ddd246f30f63c645e8ef8a1c56f4/parsimonious-0.8.1.tar.gz (45kB)\n",
            "\u001b[K     |████████████████████████████████| 51kB 4.9MB/s \n",
            "\u001b[?25hRequirement already satisfied: xarray in /usr/local/lib/python3.6/dist-packages (from pysd) (0.15.1)\n",
            "Collecting yapf\n",
            "\u001b[?25l  Downloading https://files.pythonhosted.org/packages/c1/5d/d84677fe852bc5e091739acda444a9b6700ffc6b11a21b00dd244c8caef0/yapf-0.30.0-py2.py3-none-any.whl (190kB)\n",
            "\u001b[K     |████████████████████████████████| 194kB 19.7MB/s \n",
            "\u001b[?25hRequirement already satisfied: lxml in /usr/local/lib/python3.6/dist-packages (from pysd) (4.2.6)\n",
            "Requirement already satisfied: regex in /usr/local/lib/python3.6/dist-packages (from pysd) (2019.12.20)\n",
            "Collecting funcsigs\n",
            "  Downloading https://files.pythonhosted.org/packages/69/cb/f5be453359271714c01b9bd06126eaf2e368f1fddfff30818754b5ac2328/funcsigs-1.0.2-py2.py3-none-any.whl\n",
            "Requirement already satisfied: numpy in /usr/local/lib/python3.6/dist-packages (from pysd) (1.18.5)\n",
            "Collecting pydoe\n",
            "  Downloading https://files.pythonhosted.org/packages/bc/ac/91fe4c039e2744466621343d3b8af4a485193ed0aab53af5b1db03be0989/pyDOE-0.3.8.zip\n",
            "Requirement already satisfied: pandas in /usr/local/lib/python3.6/dist-packages (from pysd) (1.1.4)\n",
            "Requirement already satisfied: xlrd in /usr/local/lib/python3.6/dist-packages (from pysd) (1.1.0)\n",
            "Requirement already satisfied: six>=1.9.0 in /usr/local/lib/python3.6/dist-packages (from parsimonious->pysd) (1.15.0)\n",
            "Requirement already satisfied: setuptools>=41.2 in /usr/local/lib/python3.6/dist-packages (from xarray->pysd) (50.3.2)\n",
            "Requirement already satisfied: scipy in /usr/local/lib/python3.6/dist-packages (from pydoe->pysd) (1.4.1)\n",
            "Requirement already satisfied: python-dateutil>=2.7.3 in /usr/local/lib/python3.6/dist-packages (from pandas->pysd) (2.8.1)\n",
            "Requirement already satisfied: pytz>=2017.2 in /usr/local/lib/python3.6/dist-packages (from pandas->pysd) (2018.9)\n",
            "Building wheels for collected packages: parsimonious, pydoe\n",
            "  Building wheel for parsimonious (setup.py) ... \u001b[?25l\u001b[?25hdone\n",
            "  Created wheel for parsimonious: filename=parsimonious-0.8.1-cp36-none-any.whl size=42709 sha256=08a654e895c8ae540d3a91f2e79da67fbd4ebc5bf50a35dd4c0a14f60ebbed36\n",
            "  Stored in directory: /root/.cache/pip/wheels/b7/8d/e7/a0e74217da5caeb3c1c7689639b6d28ddbf9985b840bc96a9a\n",
            "  Building wheel for pydoe (setup.py) ... \u001b[?25l\u001b[?25hdone\n",
            "  Created wheel for pydoe: filename=pyDOE-0.3.8-cp36-none-any.whl size=18178 sha256=15c71cff60f330d3f6ab7a0d30a407bc0cf99db12bdd6dd6a299921b561aae7e\n",
            "  Stored in directory: /root/.cache/pip/wheels/7c/c8/58/a6493bd415e8ba5735082b5e0c096d7c1f2933077a8ce34544\n",
            "Successfully built parsimonious pydoe\n",
            "Installing collected packages: parsimonious, yapf, funcsigs, pydoe, pysd\n",
            "Successfully installed funcsigs-1.0.2 parsimonious-0.8.1 pydoe-0.3.8 pysd-0.10.0 yapf-0.30.0\n"
          ],
          "name": "stdout"
        }
      ]
    },
    {
      "cell_type": "code",
      "metadata": {
        "colab": {
          "resources": {
            "http://localhost:8080/nbextensions/google.colab/files.js": {
              "data": "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",
              "ok": true,
              "headers": [
                [
                  "content-type",
                  "application/javascript"
                ]
              ],
              "status": 200,
              "status_text": ""
            }
          },
          "base_uri": "https://localhost:8080/",
          "height": 109
        },
        "id": "_f8KSn8q6UPo",
        "outputId": "c5f0d5b4-5aa3-4d0b-acfa-8cdc37a32fd6"
      },
      "source": [
        "import pysd\n",
        "from google.colab import files\n",
        "files.upload()"
      ],
      "execution_count": 2,
      "outputs": [
        {
          "output_type": "display_data",
          "data": {
            "text/html": [
              "\n",
              "     <input type=\"file\" id=\"files-f9c0eca6-9536-4e0e-ac35-0fc46456c8c5\" name=\"files[]\" multiple disabled\n",
              "        style=\"border:none\" />\n",
              "     <output id=\"result-f9c0eca6-9536-4e0e-ac35-0fc46456c8c5\">\n",
              "      Upload widget is only available when the cell has been executed in the\n",
              "      current browser session. Please rerun this cell to enable.\n",
              "      </output>\n",
              "      <script src=\"/nbextensions/google.colab/files.js\"></script> "
            ],
            "text/plain": [
              "<IPython.core.display.HTML object>"
            ]
          },
          "metadata": {
            "tags": []
          }
        },
        {
          "output_type": "stream",
          "text": [
            "Saving CasoBase.mdl to CasoBase.mdl\n"
          ],
          "name": "stdout"
        },
        {
          "output_type": "execute_result",
          "data": {
            "text/plain": [
              "{'CasoBase.mdl': b'{UTF-8}\\r\\nAplicacion TR=\\r\\n\\tTime\\r\\n\\t~\\tyears\\r\\n\\t~\\t\\t|\\r\\n\\r\\n\"Aplicaci\\xc3\\xb3n incentivo (TGC)\"=\\r\\n\\t15\\r\\n\\t~\\tUSD/TonCO2\\r\\n\\t~\\t\\t|\\r\\n\\r\\ncapacidad inicial instalada=\\r\\n\\t222\\r\\n\\t~\\tMW\\r\\n\\t~\\t\\t|\\r\\n\\r\\nIncentivo ambiental=\\r\\n\\t0\\r\\n\\t~\\tUSD/TonCO2\\r\\n\\t~\\t\\t|\\r\\n\\r\\nflujo de agregacion de impuestos=\\r\\n\\tIF THEN ELSE(Aplicacion TR>5, Impuesto a la renta, 0)\\r\\n\\t~\\t\\r\\n\\t~\\t\\t|\\r\\n\\r\\nComercializacion energ\\xc3\\xada=\\r\\n\\tGeneraci\\xc3\\xb3n de energ\\xc3\\xada hidr\\xc3\\xa1ulica*precio energia H no convencional\\r\\n\\t~\\tUSD\\r\\n\\t~\\t\\t|\\r\\n\\r\\nCOPEX=\\r\\n\\tGeneraci\\xc3\\xb3n de energ\\xc3\\xada hidr\\xc3\\xa1ulica*costo de operaci\\xc3\\xb3n inicial planta H*((capacidad instalada acumulada hidr\\xc3\\xa1ulica\\\\\\r\\n\\t\\t/capacidad inicial instalada\\r\\n)^\"lamda - hidro\")\\r\\n\\t~\\tUSD\\r\\n\\t~\\t\\t|\\r\\n\\r\\nganancias por certificados CRE=\\r\\n\\tReduccion emisiones GEI*Incentivo ambiental*\"Aplicaci\\xc3\\xb3n incentivo (TGC)\"\\r\\n\\t~\\tUSD\\r\\n\\t~\\t\\t|\\r\\n\\r\\nPrecio esperado futuro FIT=\\r\\n\\tPrecio esperado actual FIT*((1+Tasa de inflaci\\xc3\\xb3n)^(Time-INITIAL TIME))\\r\\n\\t~\\tUSD/MWh\\r\\n\\t~\\t\\t|\\r\\n\\r\\n\"costo inversion planta h.\"=\\r\\n\\t(capacidad instalada acumulada hidr\\xc3\\xa1ulica*\"costo inversion inicial planta h.\")*((capacidad instalada acumulada hidr\\xc3\\xa1ulica\\r\\n/capacidad inicial instalada)^\"lamda - hidro\")\\r\\n\\t~\\tUSD\\r\\n\\t~\\t\\t|\\r\\n\\r\\nPrecio energ\\xc3\\xada hidr\\xc3\\xa1ulica seg\\xc3\\xban escenario=\\r\\n\\t20.5\\r\\n\\t~\\tUSD/MWh\\r\\n\\t~\\tCaso base\\r\\n\\t|\\r\\n\\r\\nFactor de emisiones=\\r\\n\\t0.673\\r\\n\\t~\\tTonCO2/(MWh)\\r\\n\\t~\\t\\t|\\r\\n\\r\\nTasa de inflaci\\xc3\\xb3n=\\r\\n\\t0.035\\r\\n\\t~\\t\\r\\n\\t~\\t\\t|\\r\\n\\r\\nReduccion emisiones GEI=\\r\\n\\tGeneraci\\xc3\\xb3n de energ\\xc3\\xada hidr\\xc3\\xa1ulica*Factor de emisiones\\r\\n\\t~\\tTonCO2\\r\\n\\t~\\t\\t|\\r\\n\\r\\nprecio energia H no convencional=\\r\\n\\tIF THEN ELSE( Selecci\\xc3\\xb3n FIT=0, Precio energ\\xc3\\xada hidr\\xc3\\xa1ulica seg\\xc3\\xban escenario, Precio esperado futuro FIT\\\\\\r\\n\\t\\t)\\r\\n\\t~\\tUSD/(h*MW)\\r\\n\\t~\\t\\t|\\r\\n\\r\\nSelecci\\xc3\\xb3n FIT=\\r\\n\\t0\\r\\n\\t~\\t\\r\\n\\t~\\t\\t|\\r\\n\\r\\nPrecio esperado actual FIT=\\r\\n\\t67.53\\r\\n\\t~\\tUSD/MWh\\r\\n\\t~\\t\\t|\\r\\n\\r\\nImpuesto a la renta=\\r\\n\\t0.22\\r\\n\\t~\\t\\r\\n\\t~\\t\\t|\\r\\n\\r\\ncapacidad instalada acumulada hidr\\xc3\\xa1ulica= INTEG (\\r\\n\\tTasa de inversion en nueva capacidad h,\\r\\n\\t\\t222)\\r\\n\\t~\\tMW\\r\\n\\t~\\t\\t|\\r\\n\\r\\nCAPEX=\\r\\n\\t\"Flujo de descuento planta hidr\\xc3\\xa1ulica (j)\"*\"costo inversion planta h.\"/(1-(1+\"Flujo de descuento planta hidr\\xc3\\xa1ulica (j)\"\\\\\\r\\n\\t\\t)^(-Tiempo de vida panta hidr\\xc3\\xa1ulica))\\r\\n\\t~\\tUSD\\r\\n\\t~\\t\\t|\\r\\n\\r\\ncosto de operaci\\xc3\\xb3n inicial planta H=\\r\\n\\t18.42\\r\\n\\t~\\tUSD/(MWh)\\r\\n\\t~\\t\\t|\\r\\n\\r\\n\"costo inversion inicial planta h.\"=\\r\\n\\t2.104e+06\\r\\n\\t~\\tUSD/MW\\r\\n\\t~\\t\\t|\\r\\n\\r\\ncurva de apendizaje hidraulica=\\r\\n\\t0.0645\\r\\n\\t~\\t\\r\\n\\t~\\t\\t|\\r\\n\\r\\nfactor de planta=\\r\\n\\t0.56\\r\\n\\t~\\t\\r\\n\\t~\\t\\t|\\r\\n\\r\\n\"Flujo de descuento planta hidr\\xc3\\xa1ulica (j)\"=\\r\\n\\t0.112\\r\\n\\t~\\t\\r\\n\\t~\\t\\t|\\r\\n\\r\\nFlujo de utilizacion energ\\xc3\\xada hidraulica=\\r\\n\\t0.8\\r\\n\\t~\\t\\r\\n\\t~\\t\\t|\\r\\n\\r\\nGeneraci\\xc3\\xb3n de energ\\xc3\\xada hidr\\xc3\\xa1ulica=\\r\\n\\tcapacidad instalada acumulada hidr\\xc3\\xa1ulica*factor de planta*\"horas generacion H.\"\\r\\n\\t~\\tMWh\\r\\n\\t~\\t\\t|\\r\\n\\r\\n\"horas generacion H.\"=\\r\\n\\tFlujo de utilizacion energ\\xc3\\xada hidraulica*8760\\r\\n\\t~\\thoras\\r\\n\\t~\\t\\t|\\r\\n\\r\\nImpuestos generaci\\xc3\\xb3n energ\\xc3\\xada H=\\r\\n\\tIF THEN ELSE((ingresos por energ\\xc3\\xada H-COPEX-CAPEX)>0, flujo de agregacion de impuestos\\\\\\r\\n\\t\\t*(ingresos por energ\\xc3\\xada H-COPEX-CAPEX) , 0 )\\r\\n\\t~\\tUSD\\r\\n\\t~\\t\\t|\\r\\n\\r\\ningresos por energ\\xc3\\xada H=\\r\\n\\tganancias por certificados CRE+Comercializacion energ\\xc3\\xada\\r\\n\\t~\\tUSD\\r\\n\\t~\\t\\t|\\r\\n\\r\\n\"lamda - hidro\"=\\r\\n\\t-((LN( 1-curva de apendizaje hidraulica )/LN(2)))\\r\\n\\t~\\t\\r\\n\\t~\\t\\t|\\r\\n\\r\\nparametro de imitaci\\xc3\\xb3n=\\r\\n\\t0.204509\\r\\n\\t~\\t\\r\\n\\t~\\t\\t|\\r\\n\\r\\nParametro de innovacion=\\r\\n\\t0.000619705\\r\\n\\t~\\t\\r\\n\\t~\\t\\t|\\r\\n\\r\\nPotencial disponible hidr\\xc3\\xa1ulico= INTEG (\\r\\n\\t-Tasa de inversion en nueva capacidad h,\\r\\n\\t\\t1415)\\r\\n\\t~\\tMW\\r\\n\\t~\\t\\t|\\r\\n\\r\\n\"Rentabilidad proyecto-planta hidr\\xc3\\xa1ulica\"=\\r\\n\\tingresos por energ\\xc3\\xada H/(CAPEX+COPEX+Impuestos generaci\\xc3\\xb3n energ\\xc3\\xada H)\\r\\n\\t~\\t\\r\\n\\t~\\t\\t|\\r\\n\\r\\nTasa de inversion en nueva capacidad h=\\r\\n\\t(Parametro de innovacion*Potencial disponible hidr\\xc3\\xa1ulico)+(parametro de imitaci\\xc3\\xb3n*\\\\\\r\\n\\t\\t\"Rentabilidad proyecto-planta hidr\\xc3\\xa1ulica\"*Potencial disponible hidr\\xc3\\xa1ulico*capacidad instalada acumulada hidr\\xc3\\xa1ulica\\\\\\r\\n\\t\\t/(Potencial disponible hidr\\xc3\\xa1ulico+capacidad instalada acumulada hidr\\xc3\\xa1ulica))\\r\\n\\t~\\tMW\\r\\n\\t~\\t\\t|\\r\\n\\r\\nTiempo de vida panta hidr\\xc3\\xa1ulica=\\r\\n\\t30\\r\\n\\t~\\tA\\xc3\\xb1os\\r\\n\\t~\\t\\t|\\r\\n\\r\\n********************************************************\\r\\n\\t.Control\\r\\n********************************************************~\\r\\n\\t\\tSimulation Control Parameters\\r\\n\\t|\\r\\n\\r\\nFINAL TIME=\\r\\n\\t2031\\r\\n\\t~\\tyears\\r\\n\\t~\\tThe final time for the simulation.\\r\\n\\t|\\r\\n\\r\\nINITIAL TIME=\\r\\n\\t2017\\r\\n\\t~\\tyears\\r\\n\\t~\\tThe initial time for the simulation.\\r\\n\\t|\\r\\n\\r\\nSAVEPER  = \\r\\n        TIME STEP\\r\\n\\t~\\tMonth [0,?]\\r\\n\\t~\\tThe frequency with which output is stored.\\r\\n\\t|\\r\\n\\r\\nTIME STEP  = 1\\r\\n\\t~\\tyears [0,?]\\r\\n\\t~\\tThe time step for the simulation.\\r\\n\\t|\\r\\n\\r\\n\\\\\\\\\\\\---/// Sketch information - do not modify anything except names\\r\\nV300  Do not put anything below this section - it will be ignored\\r\\n*View 1\\r\\n$192-192-192,0,Times New Roman|12||0-0-0|0-0-0|0-0-255|-1--1--1|-1--1--1|96,96,5,0\\r\\n10,1,Potencial disponible hidr\\xc3\\xa1ulico,369,88,49,29,3,131,0,0,0,0,0,0,0,0,0,0,0,0\\r\\n10,2,capacidad instalada acumulada hidr\\xc3\\xa1ulica,759,91,59,36,3,131,0,0,0,0,0,0,0,0,0,0,0,0\\r\\n1,3,5,2,4,0,0,22,0,0,0,-1--1--1,,1|(632,88)|\\r\\n1,4,5,1,100,0,0,22,0,0,0,-1--1--1,,1|(485,88)|\\r\\n11,5,244,559,88,6,8,34,3,0,0,1,0,0,0,0,0,0,0,0,0\\r\\n10,6,Tasa de inversion en nueva capacidad h,559,115,65,19,40,3,0,0,-1,0,0,0,0,0,0,0,0,0\\r\\n10,7,Parametro de innovacion,482,-13,44,19,8,3,0,0,0,0,0,0,0,0,0,0,0,0\\r\\n10,8,parametro de imitaci\\xc3\\xb3n,652,-15,43,19,8,3,0,0,0,0,0,0,0,0,0,0,0,0\\r\\n10,9,\"Rentabilidad proyecto-planta hidr\\xc3\\xa1ulica\",617,232,51,28,8,3,0,0,0,0,0,0,0,0,0,0,0,0\\r\\n1,10,7,6,1,0,0,0,0,64,0,-1--1--1,,1|(490,58)|\\r\\n1,11,8,6,1,0,0,0,0,64,0,-1--1--1,,1|(633,51)|\\r\\n1,12,1,6,1,0,0,0,0,64,0,-1--1--1,,1|(445,163)|\\r\\n1,13,2,6,1,0,0,0,0,64,0,-1--1--1,,1|(691,152)|\\r\\n1,14,9,6,0,0,0,0,0,64,0,-1--1--1,,1|(589,175)|\\r\\n10,15,CAPEX,360,259,28,11,8,3,0,0,0,0,0,0,0,0,0,0,0,0\\r\\n10,16,COPEX,841,292,28,11,8,3,0,0,0,0,0,0,0,0,0,0,0,0\\r\\n10,17,Tiempo de vida panta hidr\\xc3\\xa1ulica,222,177,50,19,8,3,0,0,0,0,0,0,0,0,0,0,0,0\\r\\n10,18,\"Flujo de descuento planta hidr\\xc3\\xa1ulica (j)\",175,272,61,19,8,3,0,0,0,0,0,0,0,0,0,0,0,0\\r\\n10,19,\"costo inversion planta h.\",362,355,48,19,8,3,0,0,0,0,0,0,0,0,0,0,0,0\\r\\n10,20,\"costo inversion inicial planta h.\",233,459,48,19,8,3,0,0,0,0,0,0,0,0,0,0,0,0\\r\\n10,21,capacidad inicial instalada,757,-4,53,19,8,3,0,0,0,0,0,0,0,0,0,0,0,0\\r\\n10,22,capacidad inicial instalada,135,385,57,19,8,2,0,3,-1,0,0,0,128-128-128,0-0-0,|12||128-128-128,0,0,0,0,0,0\\r\\n10,23,\"lamda - hidro\",541,332,43,11,8,3,0,0,0,0,0,0,0,0,0,0,0,0\\r\\n10,24,curva de apendizaje hidraulica,560,398,64,19,8,3,0,0,0,0,0,0,0,0,0,0,0,0\\r\\n1,25,17,15,1,0,0,0,0,64,0,-1--1--1,,1|(310,196)|\\r\\n1,26,18,15,1,0,0,0,0,64,0,-1--1--1,,1|(274,243)|\\r\\n1,27,15,9,1,0,0,0,0,64,0,-1--1--1,,1|(461,223)|\\r\\n1,28,19,15,1,0,0,0,0,64,0,-1--1--1,,1|(339,306)|\\r\\n1,29,22,19,1,0,0,0,0,64,0,-1--1--1,,1|(239,349)|\\r\\n1,30,20,19,1,0,0,0,0,64,0,-1--1--1,,1|(278,397)|\\r\\n1,31,23,19,1,0,0,0,0,64,0,-1--1--1,,1|(453,317)|\\r\\n1,32,24,23,1,0,0,0,0,64,0,-1--1--1,,1|(567,360)|\\r\\n1,33,23,16,1,0,0,0,0,64,0,-1--1--1,,1|(685,291)|\\r\\n1,34,16,9,1,0,0,0,0,64,0,-1--1--1,,1|(755,245)|\\r\\n10,35,capacidad instalada acumulada hidr\\xc3\\xa1ulica,621,486,71,19,8,2,0,3,-1,0,0,0,128-128-128,0-0-0,|12||128-128-128,0,0,0,0,0,0\\r\\n1,36,35,19,1,0,0,0,0,64,0,-1--1--1,,1|(473,450)|\\r\\n1,37,35,16,1,0,0,0,0,64,0,-1--1--1,,1|(774,407)|\\r\\n10,38,capacidad inicial instalada,964,259,57,19,8,2,0,3,-1,0,0,0,128-128-128,0-0-0,|12||128-128-128,0,0,0,0,0,0\\r\\n10,39,costo de operaci\\xc3\\xb3n inicial planta H,956,327,61,19,8,3,0,0,0,0,0,0,0,0,0,0,0,0\\r\\n10,40,Generaci\\xc3\\xb3n de energ\\xc3\\xada hidr\\xc3\\xa1ulica,977,452,55,19,8,3,0,0,0,0,0,0,0,0,0,0,0,0\\r\\n10,41,factor de planta,861,551,49,11,8,3,0,0,0,0,0,0,0,0,0,0,0,0\\r\\n10,42,\"horas generacion H.\",1042,545,45,19,8,3,0,0,0,0,0,0,0,0,0,0,0,0\\r\\n10,43,Flujo de utilizacion energ\\xc3\\xada hidraulica,1199,581,59,19,8,3,0,0,0,0,0,0,0,0,0,0,0,0\\r\\n1,44,38,16,0,0,0,0,0,64,0,-1--1--1,,1|(894,277)|\\r\\n1,45,39,16,0,0,0,0,0,64,0,-1--1--1,,1|(888,306)|\\r\\n1,46,40,16,0,0,0,0,0,64,0,-1--1--1,,1|(910,373)|\\r\\n1,47,35,40,0,0,0,0,0,64,0,-1--1--1,,1|(800,469)|\\r\\n1,48,41,40,0,0,0,0,0,64,0,-1--1--1,,1|(908,510)|\\r\\n1,49,42,40,0,0,0,0,0,64,0,-1--1--1,,1|(1013,504)|\\r\\n1,50,43,42,0,0,0,0,0,64,0,-1--1--1,,1|(1120,563)|\\r\\n10,51,Comercializacion energ\\xc3\\xada,1207,455,55,19,8,3,0,0,0,0,0,0,0,0,0,0,0,0\\r\\n10,52,ingresos por energ\\xc3\\xada H,1259,326,40,19,8,3,0,0,0,0,0,0,0,0,0,0,0,0\\r\\n10,53,Impuestos generaci\\xc3\\xb3n energ\\xc3\\xada H,1220,196,67,19,8,3,0,0,0,0,0,0,0,0,0,0,0,0\\r\\n10,54,flujo de agregacion de impuestos,1490,153,60,19,8,3,0,0,0,0,0,0,0,0,0,0,0,0\\r\\n1,55,54,53,0,0,0,0,0,64,0,-1--1--1,,1|(1365,172)|\\r\\n10,56,CAPEX,1464,221,37,11,8,2,0,3,-1,0,0,0,128-128-128,0-0-0,|12||128-128-128,0,0,0,0,0,0\\r\\n10,57,COPEX,1468,282,37,11,8,2,0,3,-1,0,0,0,128-128-128,0-0-0,|12||128-128-128,0,0,0,0,0,0\\r\\n10,58,ganancias por certificados CRE,1449,407,55,19,8,3,0,0,0,0,0,0,0,0,0,0,0,0\\r\\n10,59,precio energia H no convencional,1405,644,63,19,8,3,0,0,0,0,0,0,0,0,0,0,0,0\\r\\n1,60,53,9,1,0,0,0,0,64,0,-1--1--1,,1|(909,165)|\\r\\n1,61,52,9,1,0,0,0,0,64,0,-1--1--1,,1|(968,216)|\\r\\n1,62,52,53,1,0,0,0,0,64,0,-1--1--1,,1|(1262,260)|\\r\\n1,63,56,53,0,0,0,0,0,64,0,-1--1--1,,1|(1363,210)|\\r\\n1,64,57,53,0,0,0,0,0,64,0,-1--1--1,,1|(1362,245)|\\r\\n1,65,58,52,0,0,0,0,0,64,0,-1--1--1,,1|(1358,368)|\\r\\n1,66,51,52,0,0,0,0,0,64,0,-1--1--1,,1|(1229,396)|\\r\\n1,67,40,51,0,0,0,0,0,64,0,-1--1--1,,1|(1085,452)|\\r\\n1,68,59,51,0,0,0,0,0,64,0,-1--1--1,,1|(1311,554)|\\r\\n10,69,\"Aplicaci\\xc3\\xb3n incentivo (TGC)\",1628,356,52,19,8,3,0,0,0,0,0,0,0,0,0,0,0,0\\r\\n10,70,Incentivo ambiental,1748,472,31,19,8,3,0,0,0,0,0,0,0,0,0,0,0,0\\r\\n10,71,Reduccion emisiones GEI,1661,533,46,19,8,3,0,0,0,0,0,0,0,0,0,0,0,0\\r\\n10,72,Generaci\\xc3\\xb3n de energ\\xc3\\xada hidr\\xc3\\xa1ulica,2075,719,60,19,8,2,0,3,-1,0,0,0,128-128-128,0-0-0,|12||128-128-128,0,0,0,0,0,0\\r\\n10,73,Generaci\\xc3\\xb3n de energ\\xc3\\xada hidr\\xc3\\xa1ulica,1822,589,60,19,8,2,0,3,-1,0,0,0,128-128-128,0-0-0,|12||128-128-128,0,0,0,0,0,0\\r\\n1,74,73,71,0,0,0,0,0,64,0,-1--1--1,,1|(1744,561)|\\r\\n1,75,71,58,1,0,0,0,0,64,0,-1--1--1,,1|(1533,510)|\\r\\n1,76,70,58,1,0,0,0,0,64,0,-1--1--1,,1|(1608,457)|\\r\\n1,77,69,58,1,0,0,0,0,64,0,-1--1--1,,1|(1564,392)|\\r\\n10,78,Impuesto a la renta,1700,105,60,11,8,3,0,0,0,0,0,0,0,0,0,0,0,0\\r\\n10,79,Aplicacion TR,1655,194,46,11,8,3,0,0,0,0,0,0,0,0,0,0,0,0\\r\\n10,80,Time,1819,231,26,11,8,2,0,3,-1,0,0,0,128-128-128,0-0-0,|0||128-128-128,0,0,0,0,0,0\\r\\n1,81,78,54,0,0,0,0,0,64,0,-1--1--1,,1|(1607,125)|\\r\\n1,82,79,54,0,0,0,0,0,64,0,-1--1--1,,1|(1587,176)|\\r\\n1,83,80,79,0,0,0,0,0,64,0,-1--1--1,,1|(1753,216)|\\r\\n10,84,Selecci\\xc3\\xb3n FIT,1238,710,45,11,8,3,0,0,0,0,0,0,0,0,0,0,0,0\\r\\n10,85,Precio energ\\xc3\\xada hidr\\xc3\\xa1ulica seg\\xc3\\xban escenario,1374,747,50,28,8,3,0,0,0,0,0,0,0,0,0,0,0,0\\r\\n10,86,Precio esperado futuro FIT,1526,712,53,19,8,3,0,0,0,0,0,0,0,0,0,0,0,0\\r\\n10,87,Precio esperado actual FIT,1597,806,53,19,8,3,0,0,0,0,0,0,0,0,0,0,0,0\\r\\n10,88,Tasa de inflaci\\xc3\\xb3n,1767,750,53,11,8,3,0,0,0,0,0,0,0,0,0,0,0,0\\r\\n10,89,INITIAL TIME,1757,833,60,11,8,2,0,3,-1,0,0,0,128-128-128,0-0-0,|0||128-128-128,0,0,0,0,0,0\\r\\n10,90,Time,1749,799,26,11,8,2,0,3,-1,0,0,0,128-128-128,0-0-0,|0||128-128-128,0,0,0,0,0,0\\r\\n1,91,84,59,0,0,0,0,0,64,0,-1--1--1,,1|(1303,683)|\\r\\n1,92,85,59,0,0,0,0,0,64,0,-1--1--1,,1|(1388,697)|\\r\\n1,93,86,59,0,0,0,0,0,64,0,-1--1--1,,1|(1471,681)|\\r\\n1,94,87,86,0,0,0,0,0,64,0,-1--1--1,,1|(1565,764)|\\r\\n1,95,89,86,0,0,0,0,0,64,0,-1--1--1,,1|(1655,779)|\\r\\n1,96,90,86,0,0,0,0,0,64,0,-1--1--1,,1|(1655,762)|\\r\\n1,97,88,86,0,0,0,0,0,64,0,-1--1--1,,1|(1653,732)|\\r\\n10,98,Factor de emisiones,1618,636,32,19,8,3,0,0,0,0,0,0,0,0,0,0,0,0\\r\\n1,99,98,71,0,0,0,0,0,64,0,-1--1--1,,1|(1636,590)|\\r\\n///---\\\\\\\\\\\\\\r\\n:L\\x7f<%^E!@\\r\\n1:C:\\\\Users\\\\Usuario\\\\Documents\\\\Current\\r\\n9:Current\\r\\n23:0\\r\\n15:0,0,0,0,0,0\\r\\n19:5,0\\r\\n27:0,\\r\\n34:0,\\r\\n42:1\\r\\n72:0\\r\\n73:0\\r\\n4:Time\\r\\n5:Impuestos generaci\\xc3\\xb3n energ\\xc3\\xada H\\r\\n35:Date\\r\\n36:YYYY-MM-DD\\r\\n37:2000\\r\\n38:1\\r\\n39:1\\r\\n40:2\\r\\n41:0\\r\\n76:0\\r\\n77:0\\r\\n78:0\\r\\n79:0\\r\\n80:0\\r\\n81:0\\r\\n24:2017\\r\\n25:2031\\r\\n26:2031\\r\\n91:0\\r\\n90:0\\r\\n87:0\\r\\n75:\\r\\n43:\\r\\n'}"
            ]
          },
          "metadata": {
            "tags": []
          },
          "execution_count": 2
        }
      ]
    },
    {
      "cell_type": "code",
      "metadata": {
        "id": "fbUsGUz07L0n"
      },
      "source": [
        "model= pysd.read_vensim('CasoBase.mdl')"
      ],
      "execution_count": 3,
      "outputs": []
    },
    {
      "cell_type": "code",
      "metadata": {
        "id": "a56NIvzj7R6W"
      },
      "source": [
        "xy = model.run()"
      ],
      "execution_count": 5,
      "outputs": []
    },
    {
      "cell_type": "code",
      "metadata": {
        "colab": {
          "base_uri": "https://localhost:8080/"
        },
        "id": "31iIkNrF7VF6",
        "outputId": "21bc94b3-f436-4a59-98d8-630d91fecc92"
      },
      "source": [
        "print(xy)"
      ],
      "execution_count": 6,
      "outputs": [
        {
          "output_type": "stream",
          "text": [
            "          TIME  Aplicacion TR  ...  SAVEPER  TIME STEP\n",
            "2017.0  2017.0         2017.0  ...        1          1\n",
            "2018.0  2018.0         2018.0  ...        1          1\n",
            "2019.0  2019.0         2019.0  ...        1          1\n",
            "2020.0  2020.0         2020.0  ...        1          1\n",
            "2021.0  2021.0         2021.0  ...        1          1\n",
            "2022.0  2022.0         2022.0  ...        1          1\n",
            "2023.0  2023.0         2023.0  ...        1          1\n",
            "2024.0  2024.0         2024.0  ...        1          1\n",
            "2025.0  2025.0         2025.0  ...        1          1\n",
            "2026.0  2026.0         2026.0  ...        1          1\n",
            "2027.0  2027.0         2027.0  ...        1          1\n",
            "2028.0  2028.0         2028.0  ...        1          1\n",
            "2029.0  2029.0         2029.0  ...        1          1\n",
            "2030.0  2030.0         2030.0  ...        1          1\n",
            "2031.0  2031.0         2031.0  ...        1          1\n",
            "\n",
            "[15 rows x 42 columns]\n"
          ],
          "name": "stdout"
        }
      ]
    },
    {
      "cell_type": "code",
      "metadata": {
        "colab": {
          "base_uri": "https://localhost:8080/",
          "height": 292
        },
        "id": "-kObXrF77eWb",
        "outputId": "dfe6f61d-980b-45a2-a6d3-10bc0ef6dae0"
      },
      "source": [
        "xy.head()"
      ],
      "execution_count": 7,
      "outputs": [
        {
          "output_type": "execute_result",
          "data": {
            "text/html": [
              "<div>\n",
              "<style scoped>\n",
              "    .dataframe tbody tr th:only-of-type {\n",
              "        vertical-align: middle;\n",
              "    }\n",
              "\n",
              "    .dataframe tbody tr th {\n",
              "        vertical-align: top;\n",
              "    }\n",
              "\n",
              "    .dataframe thead th {\n",
              "        text-align: right;\n",
              "    }\n",
              "</style>\n",
              "<table border=\"1\" class=\"dataframe\">\n",
              "  <thead>\n",
              "    <tr style=\"text-align: right;\">\n",
              "      <th></th>\n",
              "      <th>TIME</th>\n",
              "      <th>Aplicacion TR</th>\n",
              "      <th>\"Aplicación incentivo (TGC)\"</th>\n",
              "      <th>capacidad inicial instalada</th>\n",
              "      <th>Incentivo ambiental</th>\n",
              "      <th>flujo de agregacion de impuestos</th>\n",
              "      <th>Comercializacion energía</th>\n",
              "      <th>COPEX</th>\n",
              "      <th>ganancias por certificados CRE</th>\n",
              "      <th>Precio esperado futuro FIT</th>\n",
              "      <th>\"costo inversion planta h.\"</th>\n",
              "      <th>Precio energía hidráulica según escenario</th>\n",
              "      <th>Factor de emisiones</th>\n",
              "      <th>Tasa de inflación</th>\n",
              "      <th>Reduccion emisiones GEI</th>\n",
              "      <th>precio energia H no convencional</th>\n",
              "      <th>Selección FIT</th>\n",
              "      <th>Precio esperado actual FIT</th>\n",
              "      <th>Impuesto a la renta</th>\n",
              "      <th>capacidad instalada acumulada hidráulica</th>\n",
              "      <th>CAPEX</th>\n",
              "      <th>costo de operación inicial planta H</th>\n",
              "      <th>\"costo inversion inicial planta h.\"</th>\n",
              "      <th>curva de apendizaje hidraulica</th>\n",
              "      <th>factor de planta</th>\n",
              "      <th>\"Flujo de descuento planta hidráulica (j)\"</th>\n",
              "      <th>Flujo de utilizacion energía hidraulica</th>\n",
              "      <th>Generación de energía hidráulica</th>\n",
              "      <th>\"horas generacion H.\"</th>\n",
              "      <th>Impuestos generación energía H</th>\n",
              "      <th>ingresos por energía H</th>\n",
              "      <th>\"lamda - hidro\"</th>\n",
              "      <th>parametro de imitación</th>\n",
              "      <th>Parametro de innovacion</th>\n",
              "      <th>Potencial disponible hidráulico</th>\n",
              "      <th>\"Rentabilidad proyecto-planta hidráulica\"</th>\n",
              "      <th>Tasa de inversion en nueva capacidad h</th>\n",
              "      <th>Tiempo de vida panta hidráulica</th>\n",
              "      <th>FINAL TIME</th>\n",
              "      <th>INITIAL TIME</th>\n",
              "      <th>SAVEPER</th>\n",
              "      <th>TIME STEP</th>\n",
              "    </tr>\n",
              "  </thead>\n",
              "  <tbody>\n",
              "    <tr>\n",
              "      <th>2017.0</th>\n",
              "      <td>2017.0</td>\n",
              "      <td>2017.0</td>\n",
              "      <td>15</td>\n",
              "      <td>222</td>\n",
              "      <td>0</td>\n",
              "      <td>0.22</td>\n",
              "      <td>1.786031e+07</td>\n",
              "      <td>1.604814e+07</td>\n",
              "      <td>0.0</td>\n",
              "      <td>67.530000</td>\n",
              "      <td>4.670880e+08</td>\n",
              "      <td>20.5</td>\n",
              "      <td>0.673</td>\n",
              "      <td>0.035</td>\n",
              "      <td>586340.858880</td>\n",
              "      <td>20.5</td>\n",
              "      <td>0</td>\n",
              "      <td>67.53</td>\n",
              "      <td>0.22</td>\n",
              "      <td>222.000000</td>\n",
              "      <td>5.457240e+07</td>\n",
              "      <td>18.42</td>\n",
              "      <td>2104000.0</td>\n",
              "      <td>0.0645</td>\n",
              "      <td>0.56</td>\n",
              "      <td>0.112</td>\n",
              "      <td>0.8</td>\n",
              "      <td>8.712346e+05</td>\n",
              "      <td>7008.0</td>\n",
              "      <td>0.0</td>\n",
              "      <td>1.786031e+07</td>\n",
              "      <td>0.09619</td>\n",
              "      <td>0.204509</td>\n",
              "      <td>0.00062</td>\n",
              "      <td>1415.000000</td>\n",
              "      <td>0.252905</td>\n",
              "      <td>10.801895</td>\n",
              "      <td>30</td>\n",
              "      <td>2031</td>\n",
              "      <td>2017</td>\n",
              "      <td>1</td>\n",
              "      <td>1</td>\n",
              "    </tr>\n",
              "    <tr>\n",
              "      <th>2018.0</th>\n",
              "      <td>2018.0</td>\n",
              "      <td>2018.0</td>\n",
              "      <td>15</td>\n",
              "      <td>222</td>\n",
              "      <td>0</td>\n",
              "      <td>0.22</td>\n",
              "      <td>1.872934e+07</td>\n",
              "      <td>1.690608e+07</td>\n",
              "      <td>0.0</td>\n",
              "      <td>69.893550</td>\n",
              "      <td>4.920588e+08</td>\n",
              "      <td>20.5</td>\n",
              "      <td>0.673</td>\n",
              "      <td>0.035</td>\n",
              "      <td>614870.553703</td>\n",
              "      <td>20.5</td>\n",
              "      <td>0</td>\n",
              "      <td>67.53</td>\n",
              "      <td>0.22</td>\n",
              "      <td>232.801895</td>\n",
              "      <td>5.748988e+07</td>\n",
              "      <td>18.42</td>\n",
              "      <td>2104000.0</td>\n",
              "      <td>0.0645</td>\n",
              "      <td>0.56</td>\n",
              "      <td>0.112</td>\n",
              "      <td>0.8</td>\n",
              "      <td>9.136264e+05</td>\n",
              "      <td>7008.0</td>\n",
              "      <td>0.0</td>\n",
              "      <td>1.872934e+07</td>\n",
              "      <td>0.09619</td>\n",
              "      <td>0.204509</td>\n",
              "      <td>0.00062</td>\n",
              "      <td>1404.198105</td>\n",
              "      <td>0.251752</td>\n",
              "      <td>11.151577</td>\n",
              "      <td>30</td>\n",
              "      <td>2031</td>\n",
              "      <td>2017</td>\n",
              "      <td>1</td>\n",
              "      <td>1</td>\n",
              "    </tr>\n",
              "    <tr>\n",
              "      <th>2019.0</th>\n",
              "      <td>2019.0</td>\n",
              "      <td>2019.0</td>\n",
              "      <td>15</td>\n",
              "      <td>222</td>\n",
              "      <td>0</td>\n",
              "      <td>0.22</td>\n",
              "      <td>1.962651e+07</td>\n",
              "      <td>1.779583e+07</td>\n",
              "      <td>0.0</td>\n",
              "      <td>72.339824</td>\n",
              "      <td>5.179551e+08</td>\n",
              "      <td>20.5</td>\n",
              "      <td>0.673</td>\n",
              "      <td>0.035</td>\n",
              "      <td>644323.821302</td>\n",
              "      <td>20.5</td>\n",
              "      <td>0</td>\n",
              "      <td>67.53</td>\n",
              "      <td>0.22</td>\n",
              "      <td>243.953472</td>\n",
              "      <td>6.051548e+07</td>\n",
              "      <td>18.42</td>\n",
              "      <td>2104000.0</td>\n",
              "      <td>0.0645</td>\n",
              "      <td>0.56</td>\n",
              "      <td>0.112</td>\n",
              "      <td>0.8</td>\n",
              "      <td>9.573905e+05</td>\n",
              "      <td>7008.0</td>\n",
              "      <td>0.0</td>\n",
              "      <td>1.962651e+07</td>\n",
              "      <td>0.09619</td>\n",
              "      <td>0.204509</td>\n",
              "      <td>0.00062</td>\n",
              "      <td>1393.046528</td>\n",
              "      <td>0.250622</td>\n",
              "      <td>11.503602</td>\n",
              "      <td>30</td>\n",
              "      <td>2031</td>\n",
              "      <td>2017</td>\n",
              "      <td>1</td>\n",
              "      <td>1</td>\n",
              "    </tr>\n",
              "    <tr>\n",
              "      <th>2020.0</th>\n",
              "      <td>2020.0</td>\n",
              "      <td>2020.0</td>\n",
              "      <td>15</td>\n",
              "      <td>222</td>\n",
              "      <td>0</td>\n",
              "      <td>0.22</td>\n",
              "      <td>2.055199e+07</td>\n",
              "      <td>1.871776e+07</td>\n",
              "      <td>0.0</td>\n",
              "      <td>74.871718</td>\n",
              "      <td>5.447885e+08</td>\n",
              "      <td>20.5</td>\n",
              "      <td>0.673</td>\n",
              "      <td>0.035</td>\n",
              "      <td>674706.848888</td>\n",
              "      <td>20.5</td>\n",
              "      <td>0</td>\n",
              "      <td>67.53</td>\n",
              "      <td>0.22</td>\n",
              "      <td>255.457074</td>\n",
              "      <td>6.365057e+07</td>\n",
              "      <td>18.42</td>\n",
              "      <td>2104000.0</td>\n",
              "      <td>0.0645</td>\n",
              "      <td>0.56</td>\n",
              "      <td>0.112</td>\n",
              "      <td>0.8</td>\n",
              "      <td>1.002536e+06</td>\n",
              "      <td>7008.0</td>\n",
              "      <td>0.0</td>\n",
              "      <td>2.055199e+07</td>\n",
              "      <td>0.09619</td>\n",
              "      <td>0.204509</td>\n",
              "      <td>0.00062</td>\n",
              "      <td>1381.542926</td>\n",
              "      <td>0.249513</td>\n",
              "      <td>11.857340</td>\n",
              "      <td>30</td>\n",
              "      <td>2031</td>\n",
              "      <td>2017</td>\n",
              "      <td>1</td>\n",
              "      <td>1</td>\n",
              "    </tr>\n",
              "    <tr>\n",
              "      <th>2021.0</th>\n",
              "      <td>2021.0</td>\n",
              "      <td>2021.0</td>\n",
              "      <td>15</td>\n",
              "      <td>222</td>\n",
              "      <td>0</td>\n",
              "      <td>0.22</td>\n",
              "      <td>2.150594e+07</td>\n",
              "      <td>1.967224e+07</td>\n",
              "      <td>0.0</td>\n",
              "      <td>77.492228</td>\n",
              "      <td>5.725689e+08</td>\n",
              "      <td>20.5</td>\n",
              "      <td>0.673</td>\n",
              "      <td>0.035</td>\n",
              "      <td>706024.159532</td>\n",
              "      <td>20.5</td>\n",
              "      <td>0</td>\n",
              "      <td>67.53</td>\n",
              "      <td>0.22</td>\n",
              "      <td>267.314415</td>\n",
              "      <td>6.689630e+07</td>\n",
              "      <td>18.42</td>\n",
              "      <td>2104000.0</td>\n",
              "      <td>0.0645</td>\n",
              "      <td>0.56</td>\n",
              "      <td>0.112</td>\n",
              "      <td>0.8</td>\n",
              "      <td>1.049070e+06</td>\n",
              "      <td>7008.0</td>\n",
              "      <td>0.0</td>\n",
              "      <td>2.150594e+07</td>\n",
              "      <td>0.09619</td>\n",
              "      <td>0.204509</td>\n",
              "      <td>0.00062</td>\n",
              "      <td>1369.685585</td>\n",
              "      <td>0.248427</td>\n",
              "      <td>12.212122</td>\n",
              "      <td>30</td>\n",
              "      <td>2031</td>\n",
              "      <td>2017</td>\n",
              "      <td>1</td>\n",
              "      <td>1</td>\n",
              "    </tr>\n",
              "  </tbody>\n",
              "</table>\n",
              "</div>"
            ],
            "text/plain": [
              "          TIME  Aplicacion TR  ...  SAVEPER  TIME STEP\n",
              "2017.0  2017.0         2017.0  ...        1          1\n",
              "2018.0  2018.0         2018.0  ...        1          1\n",
              "2019.0  2019.0         2019.0  ...        1          1\n",
              "2020.0  2020.0         2020.0  ...        1          1\n",
              "2021.0  2021.0         2021.0  ...        1          1\n",
              "\n",
              "[5 rows x 42 columns]"
            ]
          },
          "metadata": {
            "tags": []
          },
          "execution_count": 7
        }
      ]
    },
    {
      "cell_type": "code",
      "metadata": {
        "colab": {
          "base_uri": "https://localhost:8080/"
        },
        "id": "0lYwPCih7pGO",
        "outputId": "6918244f-c7ad-403e-ed27-d3b6849fab57"
      },
      "source": [
        "print(xy['capacidad instalada acumulada hidráulica'])"
      ],
      "execution_count": 9,
      "outputs": [
        {
          "output_type": "stream",
          "text": [
            "2017.0    222.000000\n",
            "2018.0    232.801895\n",
            "2019.0    243.953472\n",
            "2020.0    255.457074\n",
            "2021.0    267.314415\n",
            "2022.0    279.526536\n",
            "2023.0    292.093779\n",
            "2024.0    305.015740\n",
            "2025.0    318.291244\n",
            "2026.0    331.918307\n",
            "2027.0    345.894112\n",
            "2028.0    360.214984\n",
            "2029.0    374.876363\n",
            "2030.0    389.872788\n",
            "2031.0    405.197885\n",
            "Name: capacidad instalada acumulada hidráulica, dtype: float64\n"
          ],
          "name": "stdout"
        }
      ]
    },
    {
      "cell_type": "code",
      "metadata": {
        "colab": {
          "base_uri": "https://localhost:8080/",
          "height": 280
        },
        "id": "DL5T8aiG7677",
        "outputId": "f23cc22a-8808-4f83-ec49-a1c1bdbdcdc9"
      },
      "source": [
        "import matplotlib.pyplot as plt\n",
        "from mpl_toolkits.mplot3d import Axes3D\n",
        "\n",
        "ax = plt.figure().gca() \n",
        "ax.plot(xy['TIME'], xy['capacidad instalada acumulada hidráulica'])\n",
        "ax.set_xlabel('capacidad instalada acumulada hidráulica')\n",
        "ax.set_ylabel('t')\n",
        "plt.show()"
      ],
      "execution_count": 10,
      "outputs": [
        {
          "output_type": "display_data",
          "data": {
            "image/png": "[encoded data removed]",
            "text/plain": [
              "<Figure size 432x288 with 1 Axes>"
            ]
          },
          "metadata": {
            "tags": [],
            "needs_background": "light"
          }
        }
      ]
    },
    {
      "cell_type": "markdown",
      "metadata": {
        "id": "C89mLoKo9RX5"
      },
      "source": [
        "**Escenario 1 **\n",
        "---\n",
        "\n",
        "Incentivo: FIT"
      ]
    },
    {
      "cell_type": "code",
      "metadata": {
        "colab": {
          "resources": {
            "http://localhost:8080/nbextensions/google.colab/files.js": {
              "data": "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",
              "ok": true,
              "headers": [
                [
                  "content-type",
                  "application/javascript"
                ]
              ],
              "status": 200,
              "status_text": ""
            }
          },
          "base_uri": "https://localhost:8080/",
          "height": 109
        },
        "id": "pl3Uqa569ejC",
        "outputId": "4b74e32a-5547-4526-f18c-2a4ea15d7f78"
      },
      "source": [
        "import pysd\n",
        "from google.colab import files\n",
        "files.upload()"
      ],
      "execution_count": 12,
      "outputs": [
        {
          "output_type": "display_data",
          "data": {
            "text/html": [
              "\n",
              "     <input type=\"file\" id=\"files-c8e6d1d2-6530-4da3-b73f-c3f2e949f2b2\" name=\"files[]\" multiple disabled\n",
              "        style=\"border:none\" />\n",
              "     <output id=\"result-c8e6d1d2-6530-4da3-b73f-c3f2e949f2b2\">\n",
              "      Upload widget is only available when the cell has been executed in the\n",
              "      current browser session. Please rerun this cell to enable.\n",
              "      </output>\n",
              "      <script src=\"/nbextensions/google.colab/files.js\"></script> "
            ],
            "text/plain": [
              "<IPython.core.display.HTML object>"
            ]
          },
          "metadata": {
            "tags": []
          }
        },
        {
          "output_type": "stream",
          "text": [
            "Saving E1.mdl to E1.mdl\n"
          ],
          "name": "stdout"
        },
        {
          "output_type": "execute_result",
          "data": {
            "text/plain": [
              "{'E1.mdl': b'{UTF-8}\\r\\nAplicacion TR=\\r\\n\\tTime\\r\\n\\t~\\tyears\\r\\n\\t~\\t\\t|\\r\\n\\r\\n\"Aplicaci\\xc3\\xb3n incentivo (TGC)\"=\\r\\n\\t15\\r\\n\\t~\\tUSD/TonCO2\\r\\n\\t~\\t\\t|\\r\\n\\r\\ncapacidad inicial instalada=\\r\\n\\t222\\r\\n\\t~\\tMW\\r\\n\\t~\\t\\t|\\r\\n\\r\\nIncentivo ambiental=\\r\\n\\t0\\r\\n\\t~\\tUSD/TonCO2\\r\\n\\t~\\t\\t|\\r\\n\\r\\nflujo de agregacion de impuestos=\\r\\n\\tIF THEN ELSE(Aplicacion TR>5, Impuesto a la renta, 0)\\r\\n\\t~\\t\\r\\n\\t~\\t\\t|\\r\\n\\r\\nComercializacion energ\\xc3\\xada=\\r\\n\\tGeneraci\\xc3\\xb3n de energ\\xc3\\xada hidr\\xc3\\xa1ulica*precio energia H no convencional\\r\\n\\t~\\tUSD\\r\\n\\t~\\t\\t|\\r\\n\\r\\nCOPEX=\\r\\n\\tGeneraci\\xc3\\xb3n de energ\\xc3\\xada hidr\\xc3\\xa1ulica*costo de operaci\\xc3\\xb3n inicial planta H*((capacidad instalada acumulada hidr\\xc3\\xa1ulica\\\\\\r\\n\\t\\t/capacidad inicial instalada\\r\\n)^\"lamda - hidro\")\\r\\n\\t~\\tUSD\\r\\n\\t~\\t\\t|\\r\\n\\r\\nganancias por certificados CRE=\\r\\n\\tReduccion emisiones GEI*Incentivo ambiental*\"Aplicaci\\xc3\\xb3n incentivo (TGC)\"\\r\\n\\t~\\tUSD\\r\\n\\t~\\t\\t|\\r\\n\\r\\nPrecio esperado futuro FIT=\\r\\n\\tPrecio esperado actual FIT*((1+Tasa de inflaci\\xc3\\xb3n)^(Time-INITIAL TIME))\\r\\n\\t~\\tUSD/MWh\\r\\n\\t~\\t\\t|\\r\\n\\r\\n\"costo inversion planta h.\"=\\r\\n\\t(capacidad instalada acumulada hidr\\xc3\\xa1ulica*\"costo inversion inicial planta h.\")*((capacidad instalada acumulada hidr\\xc3\\xa1ulica\\r\\n/capacidad inicial instalada)^\"lamda - hidro\")\\r\\n\\t~\\tUSD\\r\\n\\t~\\t\\t|\\r\\n\\r\\nPrecio energ\\xc3\\xada hidr\\xc3\\xa1ulica seg\\xc3\\xban escenario=\\r\\n\\t20.5\\r\\n\\t~\\tUSD/MWh\\r\\n\\t~\\tCaso base\\r\\n\\t|\\r\\n\\r\\nFactor de emisiones=\\r\\n\\t0.673\\r\\n\\t~\\tTonCO2/(MWh)\\r\\n\\t~\\t\\t|\\r\\n\\r\\nTasa de inflaci\\xc3\\xb3n=\\r\\n\\t0.035\\r\\n\\t~\\t\\r\\n\\t~\\t\\t|\\r\\n\\r\\nReduccion emisiones GEI=\\r\\n\\tGeneraci\\xc3\\xb3n de energ\\xc3\\xada hidr\\xc3\\xa1ulica*Factor de emisiones\\r\\n\\t~\\tTonCO2\\r\\n\\t~\\t\\t|\\r\\n\\r\\nprecio energia H no convencional=\\r\\n\\tIF THEN ELSE( Selecci\\xc3\\xb3n FIT=0, Precio energ\\xc3\\xada hidr\\xc3\\xa1ulica seg\\xc3\\xban escenario, Precio esperado futuro FIT\\\\\\r\\n\\t\\t)\\r\\n\\t~\\tUSD/(h*MW)\\r\\n\\t~\\t\\t|\\r\\n\\r\\nSelecci\\xc3\\xb3n FIT=\\r\\n\\t1\\r\\n\\t~\\t\\r\\n\\t~\\t\\t|\\r\\n\\r\\nPrecio esperado actual FIT=\\r\\n\\t67.53\\r\\n\\t~\\tUSD/MWh\\r\\n\\t~\\t\\t|\\r\\n\\r\\nImpuesto a la renta=\\r\\n\\t0.22\\r\\n\\t~\\t\\r\\n\\t~\\t\\t|\\r\\n\\r\\ncapacidad instalada acumulada hidr\\xc3\\xa1ulica= INTEG (\\r\\n\\tTasa de inversion en nueva capacidad h,\\r\\n\\t\\t222)\\r\\n\\t~\\tMW\\r\\n\\t~\\t\\t|\\r\\n\\r\\nCAPEX=\\r\\n\\t\"Flujo de descuento planta hidr\\xc3\\xa1ulica (j)\"*\"costo inversion planta h.\"/(1-(1+\"Flujo de descuento planta hidr\\xc3\\xa1ulica (j)\"\\\\\\r\\n\\t\\t)^(-Tiempo de vida panta hidr\\xc3\\xa1ulica))\\r\\n\\t~\\tUSD\\r\\n\\t~\\t\\t|\\r\\n\\r\\ncosto de operaci\\xc3\\xb3n inicial planta H=\\r\\n\\t18.42\\r\\n\\t~\\tUSD/(MWh)\\r\\n\\t~\\t\\t|\\r\\n\\r\\n\"costo inversion inicial planta h.\"=\\r\\n\\t2.104e+06\\r\\n\\t~\\tUSD/MW\\r\\n\\t~\\t\\t|\\r\\n\\r\\ncurva de apendizaje hidraulica=\\r\\n\\t0.0645\\r\\n\\t~\\t\\r\\n\\t~\\t\\t|\\r\\n\\r\\nfactor de planta=\\r\\n\\t0.56\\r\\n\\t~\\t\\r\\n\\t~\\t\\t|\\r\\n\\r\\n\"Flujo de descuento planta hidr\\xc3\\xa1ulica (j)\"=\\r\\n\\t0.112\\r\\n\\t~\\t\\r\\n\\t~\\t\\t|\\r\\n\\r\\nFlujo de utilizacion energ\\xc3\\xada hidraulica=\\r\\n\\t0.8\\r\\n\\t~\\t\\r\\n\\t~\\t\\t|\\r\\n\\r\\nGeneraci\\xc3\\xb3n de energ\\xc3\\xada hidr\\xc3\\xa1ulica=\\r\\n\\tcapacidad instalada acumulada hidr\\xc3\\xa1ulica*factor de planta*\"horas generacion H.\"\\r\\n\\t~\\tMWh\\r\\n\\t~\\t\\t|\\r\\n\\r\\n\"horas generacion H.\"=\\r\\n\\tFlujo de utilizacion energ\\xc3\\xada hidraulica*8760\\r\\n\\t~\\thoras\\r\\n\\t~\\t\\t|\\r\\n\\r\\nImpuestos generaci\\xc3\\xb3n energ\\xc3\\xada H=\\r\\n\\tIF THEN ELSE((ingresos por energ\\xc3\\xada H-COPEX-CAPEX)>0, flujo de agregacion de impuestos\\\\\\r\\n\\t\\t*(ingresos por energ\\xc3\\xada H-COPEX-CAPEX) , 0 )\\r\\n\\t~\\tUSD\\r\\n\\t~\\t\\t|\\r\\n\\r\\ningresos por energ\\xc3\\xada H=\\r\\n\\tganancias por certificados CRE+Comercializacion energ\\xc3\\xada\\r\\n\\t~\\tUSD\\r\\n\\t~\\t\\t|\\r\\n\\r\\n\"lamda - hidro\"=\\r\\n\\t-((LN( 1-curva de apendizaje hidraulica )/LN(2)))\\r\\n\\t~\\t\\r\\n\\t~\\t\\t|\\r\\n\\r\\nparametro de imitaci\\xc3\\xb3n=\\r\\n\\t0.204509\\r\\n\\t~\\t\\r\\n\\t~\\t\\t|\\r\\n\\r\\nParametro de innovacion=\\r\\n\\t0.000619705\\r\\n\\t~\\t\\r\\n\\t~\\t\\t|\\r\\n\\r\\nPotencial disponible hidr\\xc3\\xa1ulico= INTEG (\\r\\n\\t-Tasa de inversion en nueva capacidad h,\\r\\n\\t\\t1415)\\r\\n\\t~\\tMW\\r\\n\\t~\\t\\t|\\r\\n\\r\\n\"Rentabilidad proyecto-planta hidr\\xc3\\xa1ulica\"=\\r\\n\\tingresos por energ\\xc3\\xada H/(CAPEX+COPEX+Impuestos generaci\\xc3\\xb3n energ\\xc3\\xada H)\\r\\n\\t~\\t\\r\\n\\t~\\t\\t|\\r\\n\\r\\nTasa de inversion en nueva capacidad h=\\r\\n\\t(Parametro de innovacion*Potencial disponible hidr\\xc3\\xa1ulico)+(parametro de imitaci\\xc3\\xb3n*\\\\\\r\\n\\t\\t\"Rentabilidad proyecto-planta hidr\\xc3\\xa1ulica\"*Potencial disponible hidr\\xc3\\xa1ulico*capacidad instalada acumulada hidr\\xc3\\xa1ulica\\\\\\r\\n\\t\\t/(Potencial disponible hidr\\xc3\\xa1ulico+capacidad instalada acumulada hidr\\xc3\\xa1ulica))\\r\\n\\t~\\tMW\\r\\n\\t~\\t\\t|\\r\\n\\r\\nTiempo de vida panta hidr\\xc3\\xa1ulica=\\r\\n\\t30\\r\\n\\t~\\tA\\xc3\\xb1os\\r\\n\\t~\\t\\t|\\r\\n\\r\\n********************************************************\\r\\n\\t.Control\\r\\n********************************************************~\\r\\n\\t\\tSimulation Control Parameters\\r\\n\\t|\\r\\n\\r\\nFINAL TIME=\\r\\n\\t2031\\r\\n\\t~\\tyears\\r\\n\\t~\\tThe final time for the simulation.\\r\\n\\t|\\r\\n\\r\\nINITIAL TIME=\\r\\n\\t2017\\r\\n\\t~\\tyears\\r\\n\\t~\\tThe initial time for the simulation.\\r\\n\\t|\\r\\n\\r\\nSAVEPER  = \\r\\n        TIME STEP\\r\\n\\t~\\tMonth [0,?]\\r\\n\\t~\\tThe frequency with which output is stored.\\r\\n\\t|\\r\\n\\r\\nTIME STEP  = 1\\r\\n\\t~\\tyears [0,?]\\r\\n\\t~\\tThe time step for the simulation.\\r\\n\\t|\\r\\n\\r\\n\\\\\\\\\\\\---/// Sketch information - do not modify anything except names\\r\\nV300  Do not put anything below this section - it will be ignored\\r\\n*View 1\\r\\n$192-192-192,0,Times New Roman|12||0-0-0|0-0-0|0-0-255|-1--1--1|-1--1--1|96,96,5,0\\r\\n10,1,Potencial disponible hidr\\xc3\\xa1ulico,369,88,49,29,3,131,0,0,0,0,0,0,0,0,0,0,0,0\\r\\n10,2,capacidad instalada acumulada hidr\\xc3\\xa1ulica,759,91,59,36,3,131,0,0,0,0,0,0,0,0,0,0,0,0\\r\\n1,3,5,2,4,0,0,22,0,0,0,-1--1--1,,1|(632,88)|\\r\\n1,4,5,1,100,0,0,22,0,0,0,-1--1--1,,1|(485,88)|\\r\\n11,5,244,559,88,6,8,34,3,0,0,1,0,0,0,0,0,0,0,0,0\\r\\n10,6,Tasa de inversion en nueva capacidad h,559,115,65,19,40,3,0,0,-1,0,0,0,0,0,0,0,0,0\\r\\n10,7,Parametro de innovacion,482,-13,44,19,8,3,0,0,0,0,0,0,0,0,0,0,0,0\\r\\n10,8,parametro de imitaci\\xc3\\xb3n,652,-15,43,19,8,3,0,0,0,0,0,0,0,0,0,0,0,0\\r\\n10,9,\"Rentabilidad proyecto-planta hidr\\xc3\\xa1ulica\",617,232,51,28,8,3,0,0,0,0,0,0,0,0,0,0,0,0\\r\\n1,10,7,6,1,0,0,0,0,64,0,-1--1--1,,1|(490,58)|\\r\\n1,11,8,6,1,0,0,0,0,64,0,-1--1--1,,1|(633,51)|\\r\\n1,12,1,6,1,0,0,0,0,64,0,-1--1--1,,1|(445,163)|\\r\\n1,13,2,6,1,0,0,0,0,64,0,-1--1--1,,1|(691,152)|\\r\\n1,14,9,6,0,0,0,0,0,64,0,-1--1--1,,1|(589,175)|\\r\\n10,15,CAPEX,360,259,28,11,8,3,0,0,0,0,0,0,0,0,0,0,0,0\\r\\n10,16,COPEX,841,292,28,11,8,3,0,0,0,0,0,0,0,0,0,0,0,0\\r\\n10,17,Tiempo de vida panta hidr\\xc3\\xa1ulica,222,177,50,19,8,3,0,0,0,0,0,0,0,0,0,0,0,0\\r\\n10,18,\"Flujo de descuento planta hidr\\xc3\\xa1ulica (j)\",175,272,61,19,8,3,0,0,0,0,0,0,0,0,0,0,0,0\\r\\n10,19,\"costo inversion planta h.\",362,355,48,19,8,3,0,0,0,0,0,0,0,0,0,0,0,0\\r\\n10,20,\"costo inversion inicial planta h.\",233,459,48,19,8,3,0,0,0,0,0,0,0,0,0,0,0,0\\r\\n10,21,capacidad inicial instalada,757,-4,53,19,8,3,0,0,0,0,0,0,0,0,0,0,0,0\\r\\n10,22,capacidad inicial instalada,135,385,57,19,8,2,0,3,-1,0,0,0,128-128-128,0-0-0,|12||128-128-128,0,0,0,0,0,0\\r\\n10,23,\"lamda - hidro\",541,332,43,11,8,3,0,0,0,0,0,0,0,0,0,0,0,0\\r\\n10,24,curva de apendizaje hidraulica,560,398,64,19,8,3,0,0,0,0,0,0,0,0,0,0,0,0\\r\\n1,25,17,15,1,0,0,0,0,64,0,-1--1--1,,1|(310,196)|\\r\\n1,26,18,15,1,0,0,0,0,64,0,-1--1--1,,1|(274,243)|\\r\\n1,27,15,9,1,0,0,0,0,64,0,-1--1--1,,1|(461,223)|\\r\\n1,28,19,15,1,0,0,0,0,64,0,-1--1--1,,1|(339,306)|\\r\\n1,29,22,19,1,0,0,0,0,64,0,-1--1--1,,1|(239,349)|\\r\\n1,30,20,19,1,0,0,0,0,64,0,-1--1--1,,1|(278,397)|\\r\\n1,31,23,19,1,0,0,0,0,64,0,-1--1--1,,1|(453,317)|\\r\\n1,32,24,23,1,0,0,0,0,64,0,-1--1--1,,1|(567,360)|\\r\\n1,33,23,16,1,0,0,0,0,64,0,-1--1--1,,1|(685,291)|\\r\\n1,34,16,9,1,0,0,0,0,64,0,-1--1--1,,1|(755,245)|\\r\\n10,35,capacidad instalada acumulada hidr\\xc3\\xa1ulica,621,486,71,19,8,2,0,3,-1,0,0,0,128-128-128,0-0-0,|12||128-128-128,0,0,0,0,0,0\\r\\n1,36,35,19,1,0,0,0,0,64,0,-1--1--1,,1|(473,450)|\\r\\n1,37,35,16,1,0,0,0,0,64,0,-1--1--1,,1|(774,407)|\\r\\n10,38,capacidad inicial instalada,964,259,57,19,8,2,0,3,-1,0,0,0,128-128-128,0-0-0,|12||128-128-128,0,0,0,0,0,0\\r\\n10,39,costo de operaci\\xc3\\xb3n inicial planta H,956,327,61,19,8,3,0,0,0,0,0,0,0,0,0,0,0,0\\r\\n10,40,Generaci\\xc3\\xb3n de energ\\xc3\\xada hidr\\xc3\\xa1ulica,977,452,55,19,8,3,0,0,0,0,0,0,0,0,0,0,0,0\\r\\n10,41,factor de planta,861,551,49,11,8,3,0,0,0,0,0,0,0,0,0,0,0,0\\r\\n10,42,\"horas generacion H.\",1042,545,45,19,8,3,0,0,0,0,0,0,0,0,0,0,0,0\\r\\n10,43,Flujo de utilizacion energ\\xc3\\xada hidraulica,1199,581,59,19,8,3,0,0,0,0,0,0,0,0,0,0,0,0\\r\\n1,44,38,16,0,0,0,0,0,64,0,-1--1--1,,1|(894,277)|\\r\\n1,45,39,16,0,0,0,0,0,64,0,-1--1--1,,1|(888,306)|\\r\\n1,46,40,16,0,0,0,0,0,64,0,-1--1--1,,1|(910,373)|\\r\\n1,47,35,40,0,0,0,0,0,64,0,-1--1--1,,1|(800,469)|\\r\\n1,48,41,40,0,0,0,0,0,64,0,-1--1--1,,1|(908,510)|\\r\\n1,49,42,40,0,0,0,0,0,64,0,-1--1--1,,1|(1013,504)|\\r\\n1,50,43,42,0,0,0,0,0,64,0,-1--1--1,,1|(1120,563)|\\r\\n10,51,Comercializacion energ\\xc3\\xada,1207,455,55,19,8,3,0,0,0,0,0,0,0,0,0,0,0,0\\r\\n10,52,ingresos por energ\\xc3\\xada H,1259,326,40,19,8,3,0,0,0,0,0,0,0,0,0,0,0,0\\r\\n10,53,Impuestos generaci\\xc3\\xb3n energ\\xc3\\xada H,1220,196,67,19,8,3,0,0,0,0,0,0,0,0,0,0,0,0\\r\\n10,54,flujo de agregacion de impuestos,1490,153,60,19,8,3,0,0,0,0,0,0,0,0,0,0,0,0\\r\\n1,55,54,53,0,0,0,0,0,64,0,-1--1--1,,1|(1365,172)|\\r\\n10,56,CAPEX,1464,221,37,11,8,2,0,3,-1,0,0,0,128-128-128,0-0-0,|12||128-128-128,0,0,0,0,0,0\\r\\n10,57,COPEX,1468,282,37,11,8,2,0,3,-1,0,0,0,128-128-128,0-0-0,|12||128-128-128,0,0,0,0,0,0\\r\\n10,58,ganancias por certificados CRE,1449,407,55,19,8,3,0,0,0,0,0,0,0,0,0,0,0,0\\r\\n10,59,precio energia H no convencional,1405,644,63,19,8,3,0,0,0,0,0,0,0,0,0,0,0,0\\r\\n1,60,53,9,1,0,0,0,0,64,0,-1--1--1,,1|(909,165)|\\r\\n1,61,52,9,1,0,0,0,0,64,0,-1--1--1,,1|(968,216)|\\r\\n1,62,52,53,1,0,0,0,0,64,0,-1--1--1,,1|(1262,260)|\\r\\n1,63,56,53,0,0,0,0,0,64,0,-1--1--1,,1|(1363,210)|\\r\\n1,64,57,53,0,0,0,0,0,64,0,-1--1--1,,1|(1362,245)|\\r\\n1,65,58,52,0,0,0,0,0,64,0,-1--1--1,,1|(1358,368)|\\r\\n1,66,51,52,0,0,0,0,0,64,0,-1--1--1,,1|(1229,396)|\\r\\n1,67,40,51,0,0,0,0,0,64,0,-1--1--1,,1|(1085,452)|\\r\\n1,68,59,51,0,0,0,0,0,64,0,-1--1--1,,1|(1311,554)|\\r\\n10,69,\"Aplicaci\\xc3\\xb3n incentivo (TGC)\",1628,356,52,19,8,3,0,0,0,0,0,0,0,0,0,0,0,0\\r\\n10,70,Incentivo ambiental,1748,472,31,19,8,3,0,0,0,0,0,0,0,0,0,0,0,0\\r\\n10,71,Reduccion emisiones GEI,1661,533,46,19,8,3,0,0,0,0,0,0,0,0,0,0,0,0\\r\\n10,72,Generaci\\xc3\\xb3n de energ\\xc3\\xada hidr\\xc3\\xa1ulica,2075,719,60,19,8,2,0,3,-1,0,0,0,128-128-128,0-0-0,|12||128-128-128,0,0,0,0,0,0\\r\\n10,73,Generaci\\xc3\\xb3n de energ\\xc3\\xada hidr\\xc3\\xa1ulica,1822,589,60,19,8,2,0,3,-1,0,0,0,128-128-128,0-0-0,|12||128-128-128,0,0,0,0,0,0\\r\\n1,74,73,71,0,0,0,0,0,64,0,-1--1--1,,1|(1744,561)|\\r\\n1,75,71,58,1,0,0,0,0,64,0,-1--1--1,,1|(1533,510)|\\r\\n1,76,70,58,1,0,0,0,0,64,0,-1--1--1,,1|(1608,457)|\\r\\n1,77,69,58,1,0,0,0,0,64,0,-1--1--1,,1|(1564,392)|\\r\\n10,78,Impuesto a la renta,1700,105,60,11,8,3,0,0,0,0,0,0,0,0,0,0,0,0\\r\\n10,79,Aplicacion TR,1655,194,46,11,8,3,0,0,0,0,0,0,0,0,0,0,0,0\\r\\n10,80,Time,1819,231,26,11,8,2,0,3,-1,0,0,0,128-128-128,0-0-0,|0||128-128-128,0,0,0,0,0,0\\r\\n1,81,78,54,0,0,0,0,0,64,0,-1--1--1,,1|(1607,125)|\\r\\n1,82,79,54,0,0,0,0,0,64,0,-1--1--1,,1|(1587,176)|\\r\\n1,83,80,79,0,0,0,0,0,64,0,-1--1--1,,1|(1753,216)|\\r\\n10,84,Selecci\\xc3\\xb3n FIT,1238,710,45,11,8,3,0,0,0,0,0,0,0,0,0,0,0,0\\r\\n10,85,Precio energ\\xc3\\xada hidr\\xc3\\xa1ulica seg\\xc3\\xban escenario,1374,747,50,28,8,3,0,0,0,0,0,0,0,0,0,0,0,0\\r\\n10,86,Precio esperado futuro FIT,1526,712,53,19,8,3,0,0,0,0,0,0,0,0,0,0,0,0\\r\\n10,87,Precio esperado actual FIT,1597,806,53,19,8,3,0,0,0,0,0,0,0,0,0,0,0,0\\r\\n10,88,Tasa de inflaci\\xc3\\xb3n,1767,750,53,11,8,3,0,0,0,0,0,0,0,0,0,0,0,0\\r\\n10,89,INITIAL TIME,1757,833,60,11,8,2,0,3,-1,0,0,0,128-128-128,0-0-0,|0||128-128-128,0,0,0,0,0,0\\r\\n10,90,Time,1749,799,26,11,8,2,0,3,-1,0,0,0,128-128-128,0-0-0,|0||128-128-128,0,0,0,0,0,0\\r\\n1,91,84,59,0,0,0,0,0,64,0,-1--1--1,,1|(1303,683)|\\r\\n1,92,85,59,0,0,0,0,0,64,0,-1--1--1,,1|(1388,697)|\\r\\n1,93,86,59,0,0,0,0,0,64,0,-1--1--1,,1|(1471,681)|\\r\\n1,94,87,86,0,0,0,0,0,64,0,-1--1--1,,1|(1565,764)|\\r\\n1,95,89,86,0,0,0,0,0,64,0,-1--1--1,,1|(1655,779)|\\r\\n1,96,90,86,0,0,0,0,0,64,0,-1--1--1,,1|(1655,762)|\\r\\n1,97,88,86,0,0,0,0,0,64,0,-1--1--1,,1|(1653,732)|\\r\\n10,98,Factor de emisiones,1618,636,32,19,8,3,0,0,0,0,0,0,0,0,0,0,0,0\\r\\n1,99,98,71,0,0,0,0,0,64,0,-1--1--1,,1|(1636,590)|\\r\\n///---\\\\\\\\\\\\\\r\\n:L\\x7f<%^E!@\\r\\n1:Current\\r\\n1:C:\\\\Users\\\\Usuario\\\\Documents\\\\Current\\r\\n9:Current\\r\\n23:0\\r\\n15:0,0,0,0,0,0\\r\\n19:5,0\\r\\n27:0,\\r\\n34:0,\\r\\n42:1\\r\\n72:0\\r\\n73:0\\r\\n4:Time\\r\\n5:capacidad instalada acumulada hidr\\xc3\\xa1ulica\\r\\n35:Date\\r\\n36:YYYY-MM-DD\\r\\n37:2000\\r\\n38:1\\r\\n39:1\\r\\n40:2\\r\\n41:0\\r\\n76:0\\r\\n77:0\\r\\n78:0\\r\\n79:0\\r\\n80:0\\r\\n81:0\\r\\n24:2017\\r\\n25:2031\\r\\n26:2031\\r\\n91:0\\r\\n90:0\\r\\n87:0\\r\\n75:\\r\\n43:\\r\\n'}"
            ]
          },
          "metadata": {
            "tags": []
          },
          "execution_count": 12
        }
      ]
    },
    {
      "cell_type": "code",
      "metadata": {
        "id": "D6WjK-Lq-M8X"
      },
      "source": [
        "model= pysd.read_vensim('E1.mdl')"
      ],
      "execution_count": 13,
      "outputs": []
    },
    {
      "cell_type": "code",
      "metadata": {
        "id": "Yav9G0Fx-U4i"
      },
      "source": [
        "xy = model.run()"
      ],
      "execution_count": 14,
      "outputs": []
    },
    {
      "cell_type": "code",
      "metadata": {
        "colab": {
          "base_uri": "https://localhost:8080/",
          "height": 292
        },
        "id": "Idi6-aDz-aPC",
        "outputId": "d47469bb-8a5f-4776-e9a6-2156d043cbe0"
      },
      "source": [
        "xy.head()"
      ],
      "execution_count": 15,
      "outputs": [
        {
          "output_type": "execute_result",
          "data": {
            "text/html": [
              "<div>\n",
              "<style scoped>\n",
              "    .dataframe tbody tr th:only-of-type {\n",
              "        vertical-align: middle;\n",
              "    }\n",
              "\n",
              "    .dataframe tbody tr th {\n",
              "        vertical-align: top;\n",
              "    }\n",
              "\n",
              "    .dataframe thead th {\n",
              "        text-align: right;\n",
              "    }\n",
              "</style>\n",
              "<table border=\"1\" class=\"dataframe\">\n",
              "  <thead>\n",
              "    <tr style=\"text-align: right;\">\n",
              "      <th></th>\n",
              "      <th>TIME</th>\n",
              "      <th>Aplicacion TR</th>\n",
              "      <th>\"Aplicación incentivo (TGC)\"</th>\n",
              "      <th>capacidad inicial instalada</th>\n",
              "      <th>Incentivo ambiental</th>\n",
              "      <th>flujo de agregacion de impuestos</th>\n",
              "      <th>Comercializacion energía</th>\n",
              "      <th>COPEX</th>\n",
              "      <th>ganancias por certificados CRE</th>\n",
              "      <th>Precio esperado futuro FIT</th>\n",
              "      <th>\"costo inversion planta h.\"</th>\n",
              "      <th>Precio energía hidráulica según escenario</th>\n",
              "      <th>Factor de emisiones</th>\n",
              "      <th>Tasa de inflación</th>\n",
              "      <th>Reduccion emisiones GEI</th>\n",
              "      <th>precio energia H no convencional</th>\n",
              "      <th>Selección FIT</th>\n",
              "      <th>Precio esperado actual FIT</th>\n",
              "      <th>Impuesto a la renta</th>\n",
              "      <th>capacidad instalada acumulada hidráulica</th>\n",
              "      <th>CAPEX</th>\n",
              "      <th>costo de operación inicial planta H</th>\n",
              "      <th>\"costo inversion inicial planta h.\"</th>\n",
              "      <th>curva de apendizaje hidraulica</th>\n",
              "      <th>factor de planta</th>\n",
              "      <th>\"Flujo de descuento planta hidráulica (j)\"</th>\n",
              "      <th>Flujo de utilizacion energía hidraulica</th>\n",
              "      <th>Generación de energía hidráulica</th>\n",
              "      <th>\"horas generacion H.\"</th>\n",
              "      <th>Impuestos generación energía H</th>\n",
              "      <th>ingresos por energía H</th>\n",
              "      <th>\"lamda - hidro\"</th>\n",
              "      <th>parametro de imitación</th>\n",
              "      <th>Parametro de innovacion</th>\n",
              "      <th>Potencial disponible hidráulico</th>\n",
              "      <th>\"Rentabilidad proyecto-planta hidráulica\"</th>\n",
              "      <th>Tasa de inversion en nueva capacidad h</th>\n",
              "      <th>Tiempo de vida panta hidráulica</th>\n",
              "      <th>FINAL TIME</th>\n",
              "      <th>INITIAL TIME</th>\n",
              "      <th>SAVEPER</th>\n",
              "      <th>TIME STEP</th>\n",
              "    </tr>\n",
              "  </thead>\n",
              "  <tbody>\n",
              "    <tr>\n",
              "      <th>2017.0</th>\n",
              "      <td>2017.0</td>\n",
              "      <td>2017.0</td>\n",
              "      <td>15</td>\n",
              "      <td>222</td>\n",
              "      <td>0</td>\n",
              "      <td>0.22</td>\n",
              "      <td>5.883447e+07</td>\n",
              "      <td>1.604814e+07</td>\n",
              "      <td>0.0</td>\n",
              "      <td>67.530000</td>\n",
              "      <td>4.670880e+08</td>\n",
              "      <td>20.5</td>\n",
              "      <td>0.673</td>\n",
              "      <td>0.035</td>\n",
              "      <td>5.863409e+05</td>\n",
              "      <td>67.53</td>\n",
              "      <td>1</td>\n",
              "      <td>67.53</td>\n",
              "      <td>0.22</td>\n",
              "      <td>222.000000</td>\n",
              "      <td>5.457240e+07</td>\n",
              "      <td>18.42</td>\n",
              "      <td>2104000.0</td>\n",
              "      <td>0.0645</td>\n",
              "      <td>0.56</td>\n",
              "      <td>0.112</td>\n",
              "      <td>0.8</td>\n",
              "      <td>8.712346e+05</td>\n",
              "      <td>7008.0</td>\n",
              "      <td>0.0</td>\n",
              "      <td>5.883447e+07</td>\n",
              "      <td>0.09619</td>\n",
              "      <td>0.204509</td>\n",
              "      <td>0.00062</td>\n",
              "      <td>1415.000000</td>\n",
              "      <td>0.833107</td>\n",
              "      <td>33.571325</td>\n",
              "      <td>30</td>\n",
              "      <td>2031</td>\n",
              "      <td>2017</td>\n",
              "      <td>1</td>\n",
              "      <td>1</td>\n",
              "    </tr>\n",
              "    <tr>\n",
              "      <th>2018.0</th>\n",
              "      <td>2018.0</td>\n",
              "      <td>2018.0</td>\n",
              "      <td>15</td>\n",
              "      <td>222</td>\n",
              "      <td>0</td>\n",
              "      <td>0.22</td>\n",
              "      <td>7.010215e+07</td>\n",
              "      <td>1.872694e+07</td>\n",
              "      <td>0.0</td>\n",
              "      <td>69.893550</td>\n",
              "      <td>5.450556e+08</td>\n",
              "      <td>20.5</td>\n",
              "      <td>0.673</td>\n",
              "      <td>0.035</td>\n",
              "      <td>6.750086e+05</td>\n",
              "      <td>69.89354999999999</td>\n",
              "      <td>1</td>\n",
              "      <td>67.53</td>\n",
              "      <td>0.22</td>\n",
              "      <td>255.571325</td>\n",
              "      <td>6.368178e+07</td>\n",
              "      <td>18.42</td>\n",
              "      <td>2104000.0</td>\n",
              "      <td>0.0645</td>\n",
              "      <td>0.56</td>\n",
              "      <td>0.112</td>\n",
              "      <td>0.8</td>\n",
              "      <td>1.002985e+06</td>\n",
              "      <td>7008.0</td>\n",
              "      <td>0.0</td>\n",
              "      <td>7.010215e+07</td>\n",
              "      <td>0.09619</td>\n",
              "      <td>0.204509</td>\n",
              "      <td>0.00062</td>\n",
              "      <td>1381.428675</td>\n",
              "      <td>0.850664</td>\n",
              "      <td>38.376053</td>\n",
              "      <td>30</td>\n",
              "      <td>2031</td>\n",
              "      <td>2017</td>\n",
              "      <td>1</td>\n",
              "      <td>1</td>\n",
              "    </tr>\n",
              "    <tr>\n",
              "      <th>2019.0</th>\n",
              "      <td>2019.0</td>\n",
              "      <td>2019.0</td>\n",
              "      <td>15</td>\n",
              "      <td>222</td>\n",
              "      <td>0</td>\n",
              "      <td>0.22</td>\n",
              "      <td>8.345054e+07</td>\n",
              "      <td>2.183074e+07</td>\n",
              "      <td>0.0</td>\n",
              "      <td>72.339824</td>\n",
              "      <td>6.353932e+08</td>\n",
              "      <td>20.5</td>\n",
              "      <td>0.673</td>\n",
              "      <td>0.035</td>\n",
              "      <td>7.763665e+05</td>\n",
              "      <td>72.33982424999999</td>\n",
              "      <td>1</td>\n",
              "      <td>67.53</td>\n",
              "      <td>0.22</td>\n",
              "      <td>293.947378</td>\n",
              "      <td>7.423640e+07</td>\n",
              "      <td>18.42</td>\n",
              "      <td>2104000.0</td>\n",
              "      <td>0.0645</td>\n",
              "      <td>0.56</td>\n",
              "      <td>0.112</td>\n",
              "      <td>0.8</td>\n",
              "      <td>1.153591e+06</td>\n",
              "      <td>7008.0</td>\n",
              "      <td>0.0</td>\n",
              "      <td>8.345054e+07</td>\n",
              "      <td>0.09619</td>\n",
              "      <td>0.204509</td>\n",
              "      <td>0.00062</td>\n",
              "      <td>1343.052622</td>\n",
              "      <td>0.868669</td>\n",
              "      <td>43.675371</td>\n",
              "      <td>30</td>\n",
              "      <td>2031</td>\n",
              "      <td>2017</td>\n",
              "      <td>1</td>\n",
              "      <td>1</td>\n",
              "    </tr>\n",
              "    <tr>\n",
              "      <th>2020.0</th>\n",
              "      <td>2020.0</td>\n",
              "      <td>2020.0</td>\n",
              "      <td>15</td>\n",
              "      <td>222</td>\n",
              "      <td>0</td>\n",
              "      <td>0.22</td>\n",
              "      <td>9.920456e+07</td>\n",
              "      <td>2.541076e+07</td>\n",
              "      <td>0.0</td>\n",
              "      <td>74.871718</td>\n",
              "      <td>7.395911e+08</td>\n",
              "      <td>20.5</td>\n",
              "      <td>0.673</td>\n",
              "      <td>0.035</td>\n",
              "      <td>8.917208e+05</td>\n",
              "      <td>74.87171809874998</td>\n",
              "      <td>1</td>\n",
              "      <td>67.53</td>\n",
              "      <td>0.22</td>\n",
              "      <td>337.622749</td>\n",
              "      <td>8.641041e+07</td>\n",
              "      <td>18.42</td>\n",
              "      <td>2104000.0</td>\n",
              "      <td>0.0645</td>\n",
              "      <td>0.56</td>\n",
              "      <td>0.112</td>\n",
              "      <td>0.8</td>\n",
              "      <td>1.324994e+06</td>\n",
              "      <td>7008.0</td>\n",
              "      <td>0.0</td>\n",
              "      <td>9.920456e+07</td>\n",
              "      <td>0.09619</td>\n",
              "      <td>0.204509</td>\n",
              "      <td>0.00062</td>\n",
              "      <td>1299.377251</td>\n",
              "      <td>0.887172</td>\n",
              "      <td>49.427844</td>\n",
              "      <td>30</td>\n",
              "      <td>2031</td>\n",
              "      <td>2017</td>\n",
              "      <td>1</td>\n",
              "      <td>1</td>\n",
              "    </tr>\n",
              "    <tr>\n",
              "      <th>2021.0</th>\n",
              "      <td>2021.0</td>\n",
              "      <td>2021.0</td>\n",
              "      <td>15</td>\n",
              "      <td>222</td>\n",
              "      <td>0</td>\n",
              "      <td>0.22</td>\n",
              "      <td>1.177085e+08</td>\n",
              "      <td>2.951626e+07</td>\n",
              "      <td>0.0</td>\n",
              "      <td>77.492228</td>\n",
              "      <td>8.590833e+08</td>\n",
              "      <td>20.5</td>\n",
              "      <td>0.673</td>\n",
              "      <td>0.035</td>\n",
              "      <td>1.022268e+06</td>\n",
              "      <td>77.49222823220623</td>\n",
              "      <td>1</td>\n",
              "      <td>67.53</td>\n",
              "      <td>0.22</td>\n",
              "      <td>387.050593</td>\n",
              "      <td>1.003713e+08</td>\n",
              "      <td>18.42</td>\n",
              "      <td>2104000.0</td>\n",
              "      <td>0.0645</td>\n",
              "      <td>0.56</td>\n",
              "      <td>0.112</td>\n",
              "      <td>0.8</td>\n",
              "      <td>1.518972e+06</td>\n",
              "      <td>7008.0</td>\n",
              "      <td>0.0</td>\n",
              "      <td>1.177085e+08</td>\n",
              "      <td>0.09619</td>\n",
              "      <td>0.204509</td>\n",
              "      <td>0.00062</td>\n",
              "      <td>1249.949407</td>\n",
              "      <td>0.906234</td>\n",
              "      <td>55.547319</td>\n",
              "      <td>30</td>\n",
              "      <td>2031</td>\n",
              "      <td>2017</td>\n",
              "      <td>1</td>\n",
              "      <td>1</td>\n",
              "    </tr>\n",
              "  </tbody>\n",
              "</table>\n",
              "</div>"
            ],
            "text/plain": [
              "          TIME  Aplicacion TR  ...  SAVEPER  TIME STEP\n",
              "2017.0  2017.0         2017.0  ...        1          1\n",
              "2018.0  2018.0         2018.0  ...        1          1\n",
              "2019.0  2019.0         2019.0  ...        1          1\n",
              "2020.0  2020.0         2020.0  ...        1          1\n",
              "2021.0  2021.0         2021.0  ...        1          1\n",
              "\n",
              "[5 rows x 42 columns]"
            ]
          },
          "metadata": {
            "tags": []
          },
          "execution_count": 15
        }
      ]
    },
    {
      "cell_type": "code",
      "metadata": {
        "colab": {
          "base_uri": "https://localhost:8080/"
        },
        "id": "HVkxcUcT-bS4",
        "outputId": "e0e8f698-173c-4eb5-e2c6-13d053826152"
      },
      "source": [
        "print(xy['capacidad instalada acumulada hidráulica'])"
      ],
      "execution_count": 16,
      "outputs": [
        {
          "output_type": "stream",
          "text": [
            "2017.0     222.000000\n",
            "2018.0     255.571325\n",
            "2019.0     293.947378\n",
            "2020.0     337.622749\n",
            "2021.0     387.050593\n",
            "2022.0     442.597912\n",
            "2023.0     504.488884\n",
            "2024.0     572.738154\n",
            "2025.0     647.079323\n",
            "2026.0     726.898170\n",
            "2027.0     810.945574\n",
            "2028.0     897.572853\n",
            "2029.0     984.987228\n",
            "2030.0    1071.194478\n",
            "2031.0    1154.162215\n",
            "Name: capacidad instalada acumulada hidráulica, dtype: float64\n"
          ],
          "name": "stdout"
        }
      ]
    },
    {
      "cell_type": "code",
      "metadata": {
        "colab": {
          "base_uri": "https://localhost:8080/",
          "height": 284
        },
        "id": "h9bJYBAW-qQg",
        "outputId": "e60c18bb-1d96-4708-a7cf-c56e5f2eae02"
      },
      "source": [
        "import matplotlib.pyplot as plt\n",
        "from mpl_toolkits.mplot3d import Axes3D\n",
        "\n",
        "ax = plt.figure().gca() \n",
        "ax.plot(xy['TIME'], xy['capacidad instalada acumulada hidráulica'])\n",
        "ax.set_xlabel('capacidad instalada acumulada hidráulica')\n",
        "ax.set_ylabel('t')\n",
        "plt.show()"
      ],
      "execution_count": 17,
      "outputs": [
        {
          "output_type": "display_data",
          "data": {
            "image/png": "[encoded data removed]",
            "text/plain": [
              "<Figure size 432x288 with 1 Axes>"
            ]
          },
          "metadata": {
            "tags": [],
            "needs_background": "light"
          }
        }
      ]
    },
    {
      "cell_type": "markdown",
      "metadata": {
        "id": "QjPxYMCk-9cJ"
      },
      "source": [
        "**Escenario 2 **\n",
        "---\n",
        "\n",
        "Incentivo: Incentivo por reducción de emisiones de GEI"
      ]
    },
    {
      "cell_type": "code",
      "metadata": {
        "colab": {
          "resources": {
            "http://localhost:8080/nbextensions/google.colab/files.js": {
              "data": "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",
              "ok": true,
              "headers": [
                [
                  "content-type",
                  "application/javascript"
                ]
              ],
              "status": 200,
              "status_text": ""
            }
          },
          "base_uri": "https://localhost:8080/",
          "height": 109
        },
        "id": "wWgjR888_h5k",
        "outputId": "d3b70863-2dce-4f6e-ebb7-59dacc20724f"
      },
      "source": [
        "import pysd\n",
        "from google.colab import files\n",
        "files.upload()"
      ],
      "execution_count": 18,
      "outputs": [
        {
          "output_type": "display_data",
          "data": {
            "text/html": [
              "\n",
              "     <input type=\"file\" id=\"files-bf5844ab-3dfb-4070-926f-1b0b4f8c6049\" name=\"files[]\" multiple disabled\n",
              "        style=\"border:none\" />\n",
              "     <output id=\"result-bf5844ab-3dfb-4070-926f-1b0b4f8c6049\">\n",
              "      Upload widget is only available when the cell has been executed in the\n",
              "      current browser session. Please rerun this cell to enable.\n",
              "      </output>\n",
              "      <script src=\"/nbextensions/google.colab/files.js\"></script> "
            ],
            "text/plain": [
              "<IPython.core.display.HTML object>"
            ]
          },
          "metadata": {
            "tags": []
          }
        },
        {
          "output_type": "stream",
          "text": [
            "Saving E2.mdl to E2.mdl\n"
          ],
          "name": "stdout"
        },
        {
          "output_type": "execute_result",
          "data": {
            "text/plain": [
              "{'E2.mdl': b'{UTF-8}\\r\\nAplicacion TR=\\r\\n\\tTime\\r\\n\\t~\\tyears\\r\\n\\t~\\t\\t|\\r\\n\\r\\n\"Aplicaci\\xc3\\xb3n incentivo (TGC)\"=\\r\\n\\t15\\r\\n\\t~\\tUSD/TonCO2\\r\\n\\t~\\t\\t|\\r\\n\\r\\ncapacidad inicial instalada=\\r\\n\\t222\\r\\n\\t~\\tMW\\r\\n\\t~\\t\\t|\\r\\n\\r\\nIncentivo ambiental=\\r\\n\\t15\\r\\n\\t~\\tUSD/TonCO2\\r\\n\\t~\\t\\t|\\r\\n\\r\\nflujo de agregacion de impuestos=\\r\\n\\tIF THEN ELSE(Aplicacion TR>5, Impuesto a la renta, 0)\\r\\n\\t~\\t\\r\\n\\t~\\t\\t|\\r\\n\\r\\nComercializacion energ\\xc3\\xada=\\r\\n\\tGeneraci\\xc3\\xb3n de energ\\xc3\\xada hidr\\xc3\\xa1ulica*precio energia H no convencional\\r\\n\\t~\\tUSD\\r\\n\\t~\\t\\t|\\r\\n\\r\\nCOPEX=\\r\\n\\tGeneraci\\xc3\\xb3n de energ\\xc3\\xada hidr\\xc3\\xa1ulica*costo de operaci\\xc3\\xb3n inicial planta H*((capacidad instalada acumulada hidr\\xc3\\xa1ulica\\\\\\r\\n\\t\\t/capacidad inicial instalada\\r\\n)^\"lamda - hidro\")\\r\\n\\t~\\tUSD\\r\\n\\t~\\t\\t|\\r\\n\\r\\nganancias por certificados CRE=\\r\\n\\tReduccion emisiones GEI*Incentivo ambiental*\"Aplicaci\\xc3\\xb3n incentivo (TGC)\"\\r\\n\\t~\\tUSD\\r\\n\\t~\\t\\t|\\r\\n\\r\\nPrecio esperado futuro FIT=\\r\\n\\tPrecio esperado actual FIT*((1+Tasa de inflaci\\xc3\\xb3n)^(Time-INITIAL TIME))\\r\\n\\t~\\tUSD/MWh\\r\\n\\t~\\t\\t|\\r\\n\\r\\n\"costo inversion planta h.\"=\\r\\n\\t(capacidad instalada acumulada hidr\\xc3\\xa1ulica*\"costo inversion inicial planta h.\")*((capacidad instalada acumulada hidr\\xc3\\xa1ulica\\r\\n/capacidad inicial instalada)^\"lamda - hidro\")\\r\\n\\t~\\tUSD\\r\\n\\t~\\t\\t|\\r\\n\\r\\nPrecio energ\\xc3\\xada hidr\\xc3\\xa1ulica seg\\xc3\\xban escenario=\\r\\n\\t20.5\\r\\n\\t~\\tUSD/MWh\\r\\n\\t~\\tCaso base\\r\\n\\t|\\r\\n\\r\\nFactor de emisiones=\\r\\n\\t0.673\\r\\n\\t~\\tTonCO2/(MWh)\\r\\n\\t~\\t\\t|\\r\\n\\r\\nTasa de inflaci\\xc3\\xb3n=\\r\\n\\t0.035\\r\\n\\t~\\t\\r\\n\\t~\\t\\t|\\r\\n\\r\\nReduccion emisiones GEI=\\r\\n\\tGeneraci\\xc3\\xb3n de energ\\xc3\\xada hidr\\xc3\\xa1ulica*Factor de emisiones\\r\\n\\t~\\tTonCO2\\r\\n\\t~\\t\\t|\\r\\n\\r\\nprecio energia H no convencional=\\r\\n\\tIF THEN ELSE( Selecci\\xc3\\xb3n FIT=0, Precio energ\\xc3\\xada hidr\\xc3\\xa1ulica seg\\xc3\\xban escenario, Precio esperado futuro FIT\\\\\\r\\n\\t\\t)\\r\\n\\t~\\tUSD/(h*MW)\\r\\n\\t~\\t\\t|\\r\\n\\r\\nSelecci\\xc3\\xb3n FIT=\\r\\n\\t0\\r\\n\\t~\\t\\r\\n\\t~\\t\\t|\\r\\n\\r\\nPrecio esperado actual FIT=\\r\\n\\t67.53\\r\\n\\t~\\tUSD/MWh\\r\\n\\t~\\t\\t|\\r\\n\\r\\nImpuesto a la renta=\\r\\n\\t0.22\\r\\n\\t~\\t\\r\\n\\t~\\t\\t|\\r\\n\\r\\ncapacidad instalada acumulada hidr\\xc3\\xa1ulica= INTEG (\\r\\n\\tTasa de inversion en nueva capacidad h,\\r\\n\\t\\t222)\\r\\n\\t~\\tMW\\r\\n\\t~\\t\\t|\\r\\n\\r\\nCAPEX=\\r\\n\\t\"Flujo de descuento planta hidr\\xc3\\xa1ulica (j)\"*\"costo inversion planta h.\"/(1-(1+\"Flujo de descuento planta hidr\\xc3\\xa1ulica (j)\"\\\\\\r\\n\\t\\t)^(-Tiempo de vida panta hidr\\xc3\\xa1ulica))\\r\\n\\t~\\tUSD\\r\\n\\t~\\t\\t|\\r\\n\\r\\ncosto de operaci\\xc3\\xb3n inicial planta H=\\r\\n\\t18.42\\r\\n\\t~\\tUSD/(MWh)\\r\\n\\t~\\t\\t|\\r\\n\\r\\n\"costo inversion inicial planta h.\"=\\r\\n\\t2.104e+06\\r\\n\\t~\\tUSD/MW\\r\\n\\t~\\t\\t|\\r\\n\\r\\ncurva de apendizaje hidraulica=\\r\\n\\t0.0645\\r\\n\\t~\\t\\r\\n\\t~\\t\\t|\\r\\n\\r\\nfactor de planta=\\r\\n\\t0.56\\r\\n\\t~\\t\\r\\n\\t~\\t\\t|\\r\\n\\r\\n\"Flujo de descuento planta hidr\\xc3\\xa1ulica (j)\"=\\r\\n\\t0.112\\r\\n\\t~\\t\\r\\n\\t~\\t\\t|\\r\\n\\r\\nFlujo de utilizacion energ\\xc3\\xada hidraulica=\\r\\n\\t0.8\\r\\n\\t~\\t\\r\\n\\t~\\t\\t|\\r\\n\\r\\nGeneraci\\xc3\\xb3n de energ\\xc3\\xada hidr\\xc3\\xa1ulica=\\r\\n\\tcapacidad instalada acumulada hidr\\xc3\\xa1ulica*factor de planta*\"horas generacion H.\"\\r\\n\\t~\\tMWh\\r\\n\\t~\\t\\t|\\r\\n\\r\\n\"horas generacion H.\"=\\r\\n\\tFlujo de utilizacion energ\\xc3\\xada hidraulica*8760\\r\\n\\t~\\thoras\\r\\n\\t~\\t\\t|\\r\\n\\r\\nImpuestos generaci\\xc3\\xb3n energ\\xc3\\xada H=\\r\\n\\tIF THEN ELSE((ingresos por energ\\xc3\\xada H-COPEX-CAPEX)>0, flujo de agregacion de impuestos\\\\\\r\\n\\t\\t*(ingresos por energ\\xc3\\xada H-COPEX-CAPEX) , 0 )\\r\\n\\t~\\tUSD\\r\\n\\t~\\t\\t|\\r\\n\\r\\ningresos por energ\\xc3\\xada H=\\r\\n\\tganancias por certificados CRE+Comercializacion energ\\xc3\\xada\\r\\n\\t~\\tUSD\\r\\n\\t~\\t\\t|\\r\\n\\r\\n\"lamda - hidro\"=\\r\\n\\t-((LN( 1-curva de apendizaje hidraulica )/LN(2)))\\r\\n\\t~\\t\\r\\n\\t~\\t\\t|\\r\\n\\r\\nparametro de imitaci\\xc3\\xb3n=\\r\\n\\t0.204509\\r\\n\\t~\\t\\r\\n\\t~\\t\\t|\\r\\n\\r\\nParametro de innovacion=\\r\\n\\t0.000619705\\r\\n\\t~\\t\\r\\n\\t~\\t\\t|\\r\\n\\r\\nPotencial disponible hidr\\xc3\\xa1ulico= INTEG (\\r\\n\\t-Tasa de inversion en nueva capacidad h,\\r\\n\\t\\t1415)\\r\\n\\t~\\tMW\\r\\n\\t~\\t\\t|\\r\\n\\r\\n\"Rentabilidad proyecto-planta hidr\\xc3\\xa1ulica\"=\\r\\n\\tingresos por energ\\xc3\\xada H/(CAPEX+COPEX+Impuestos generaci\\xc3\\xb3n energ\\xc3\\xada H)\\r\\n\\t~\\t\\r\\n\\t~\\t\\t|\\r\\n\\r\\nTasa de inversion en nueva capacidad h=\\r\\n\\t(Parametro de innovacion*Potencial disponible hidr\\xc3\\xa1ulico)+(parametro de imitaci\\xc3\\xb3n*\\\\\\r\\n\\t\\t\"Rentabilidad proyecto-planta hidr\\xc3\\xa1ulica\"*Potencial disponible hidr\\xc3\\xa1ulico*capacidad instalada acumulada hidr\\xc3\\xa1ulica\\\\\\r\\n\\t\\t/(Potencial disponible hidr\\xc3\\xa1ulico+capacidad instalada acumulada hidr\\xc3\\xa1ulica))\\r\\n\\t~\\tMW\\r\\n\\t~\\t\\t|\\r\\n\\r\\nTiempo de vida panta hidr\\xc3\\xa1ulica=\\r\\n\\t30\\r\\n\\t~\\tA\\xc3\\xb1os\\r\\n\\t~\\t\\t|\\r\\n\\r\\n********************************************************\\r\\n\\t.Control\\r\\n********************************************************~\\r\\n\\t\\tSimulation Control Parameters\\r\\n\\t|\\r\\n\\r\\nFINAL TIME=\\r\\n\\t2031\\r\\n\\t~\\tyears\\r\\n\\t~\\tThe final time for the simulation.\\r\\n\\t|\\r\\n\\r\\nINITIAL TIME=\\r\\n\\t2017\\r\\n\\t~\\tyears\\r\\n\\t~\\tThe initial time for the simulation.\\r\\n\\t|\\r\\n\\r\\nSAVEPER  = \\r\\n        TIME STEP\\r\\n\\t~\\tMonth [0,?]\\r\\n\\t~\\tThe frequency with which output is stored.\\r\\n\\t|\\r\\n\\r\\nTIME STEP  = 1\\r\\n\\t~\\tyears [0,?]\\r\\n\\t~\\tThe time step for the simulation.\\r\\n\\t|\\r\\n\\r\\n\\\\\\\\\\\\---/// Sketch information - do not modify anything except names\\r\\nV300  Do not put anything below this section - it will be ignored\\r\\n*View 1\\r\\n$192-192-192,0,Times New Roman|12||0-0-0|0-0-0|0-0-255|-1--1--1|-1--1--1|96,96,5,0\\r\\n10,1,Potencial disponible hidr\\xc3\\xa1ulico,369,88,49,29,3,131,0,0,0,0,0,0,0,0,0,0,0,0\\r\\n10,2,capacidad instalada acumulada hidr\\xc3\\xa1ulica,759,91,59,36,3,131,0,0,0,0,0,0,0,0,0,0,0,0\\r\\n1,3,5,2,4,0,0,22,0,0,0,-1--1--1,,1|(632,88)|\\r\\n1,4,5,1,100,0,0,22,0,0,0,-1--1--1,,1|(485,88)|\\r\\n11,5,244,559,88,6,8,34,3,0,0,1,0,0,0,0,0,0,0,0,0\\r\\n10,6,Tasa de inversion en nueva capacidad h,559,115,65,19,40,3,0,0,-1,0,0,0,0,0,0,0,0,0\\r\\n10,7,Parametro de innovacion,482,-13,44,19,8,3,0,0,0,0,0,0,0,0,0,0,0,0\\r\\n10,8,parametro de imitaci\\xc3\\xb3n,652,-15,43,19,8,3,0,0,0,0,0,0,0,0,0,0,0,0\\r\\n10,9,\"Rentabilidad proyecto-planta hidr\\xc3\\xa1ulica\",617,232,51,28,8,3,0,0,0,0,0,0,0,0,0,0,0,0\\r\\n1,10,7,6,1,0,0,0,0,64,0,-1--1--1,,1|(490,58)|\\r\\n1,11,8,6,1,0,0,0,0,64,0,-1--1--1,,1|(633,51)|\\r\\n1,12,1,6,1,0,0,0,0,64,0,-1--1--1,,1|(445,163)|\\r\\n1,13,2,6,1,0,0,0,0,64,0,-1--1--1,,1|(691,152)|\\r\\n1,14,9,6,0,0,0,0,0,64,0,-1--1--1,,1|(589,175)|\\r\\n10,15,CAPEX,360,259,28,11,8,3,0,0,0,0,0,0,0,0,0,0,0,0\\r\\n10,16,COPEX,841,292,28,11,8,3,0,0,0,0,0,0,0,0,0,0,0,0\\r\\n10,17,Tiempo de vida panta hidr\\xc3\\xa1ulica,222,177,50,19,8,3,0,0,0,0,0,0,0,0,0,0,0,0\\r\\n10,18,\"Flujo de descuento planta hidr\\xc3\\xa1ulica (j)\",175,272,61,19,8,3,0,0,0,0,0,0,0,0,0,0,0,0\\r\\n10,19,\"costo inversion planta h.\",362,355,48,19,8,3,0,0,0,0,0,0,0,0,0,0,0,0\\r\\n10,20,\"costo inversion inicial planta h.\",233,459,48,19,8,3,0,0,0,0,0,0,0,0,0,0,0,0\\r\\n10,21,capacidad inicial instalada,757,-4,53,19,8,3,0,0,0,0,0,0,0,0,0,0,0,0\\r\\n10,22,capacidad inicial instalada,135,385,57,19,8,2,0,3,-1,0,0,0,128-128-128,0-0-0,|12||128-128-128,0,0,0,0,0,0\\r\\n10,23,\"lamda - hidro\",541,332,43,11,8,3,0,0,0,0,0,0,0,0,0,0,0,0\\r\\n10,24,curva de apendizaje hidraulica,560,398,64,19,8,3,0,0,0,0,0,0,0,0,0,0,0,0\\r\\n1,25,17,15,1,0,0,0,0,64,0,-1--1--1,,1|(310,196)|\\r\\n1,26,18,15,1,0,0,0,0,64,0,-1--1--1,,1|(274,243)|\\r\\n1,27,15,9,1,0,0,0,0,64,0,-1--1--1,,1|(461,223)|\\r\\n1,28,19,15,1,0,0,0,0,64,0,-1--1--1,,1|(339,306)|\\r\\n1,29,22,19,1,0,0,0,0,64,0,-1--1--1,,1|(239,349)|\\r\\n1,30,20,19,1,0,0,0,0,64,0,-1--1--1,,1|(278,397)|\\r\\n1,31,23,19,1,0,0,0,0,64,0,-1--1--1,,1|(453,317)|\\r\\n1,32,24,23,1,0,0,0,0,64,0,-1--1--1,,1|(567,360)|\\r\\n1,33,23,16,1,0,0,0,0,64,0,-1--1--1,,1|(685,291)|\\r\\n1,34,16,9,1,0,0,0,0,64,0,-1--1--1,,1|(755,245)|\\r\\n10,35,capacidad instalada acumulada hidr\\xc3\\xa1ulica,621,486,71,19,8,2,0,3,-1,0,0,0,128-128-128,0-0-0,|12||128-128-128,0,0,0,0,0,0\\r\\n1,36,35,19,1,0,0,0,0,64,0,-1--1--1,,1|(473,450)|\\r\\n1,37,35,16,1,0,0,0,0,64,0,-1--1--1,,1|(774,407)|\\r\\n10,38,capacidad inicial instalada,964,259,57,19,8,2,0,3,-1,0,0,0,128-128-128,0-0-0,|12||128-128-128,0,0,0,0,0,0\\r\\n10,39,costo de operaci\\xc3\\xb3n inicial planta H,956,327,61,19,8,3,0,0,0,0,0,0,0,0,0,0,0,0\\r\\n10,40,Generaci\\xc3\\xb3n de energ\\xc3\\xada hidr\\xc3\\xa1ulica,977,452,55,19,8,3,0,0,0,0,0,0,0,0,0,0,0,0\\r\\n10,41,factor de planta,861,551,49,11,8,3,0,0,0,0,0,0,0,0,0,0,0,0\\r\\n10,42,\"horas generacion H.\",1042,545,45,19,8,3,0,0,0,0,0,0,0,0,0,0,0,0\\r\\n10,43,Flujo de utilizacion energ\\xc3\\xada hidraulica,1199,581,59,19,8,3,0,0,0,0,0,0,0,0,0,0,0,0\\r\\n1,44,38,16,0,0,0,0,0,64,0,-1--1--1,,1|(894,277)|\\r\\n1,45,39,16,0,0,0,0,0,64,0,-1--1--1,,1|(888,306)|\\r\\n1,46,40,16,0,0,0,0,0,64,0,-1--1--1,,1|(910,373)|\\r\\n1,47,35,40,0,0,0,0,0,64,0,-1--1--1,,1|(800,469)|\\r\\n1,48,41,40,0,0,0,0,0,64,0,-1--1--1,,1|(908,510)|\\r\\n1,49,42,40,0,0,0,0,0,64,0,-1--1--1,,1|(1013,504)|\\r\\n1,50,43,42,0,0,0,0,0,64,0,-1--1--1,,1|(1120,563)|\\r\\n10,51,Comercializacion energ\\xc3\\xada,1207,455,55,19,8,3,0,0,0,0,0,0,0,0,0,0,0,0\\r\\n10,52,ingresos por energ\\xc3\\xada H,1259,326,40,19,8,3,0,0,0,0,0,0,0,0,0,0,0,0\\r\\n10,53,Impuestos generaci\\xc3\\xb3n energ\\xc3\\xada H,1220,196,67,19,8,3,0,0,0,0,0,0,0,0,0,0,0,0\\r\\n10,54,flujo de agregacion de impuestos,1490,153,60,19,8,3,0,0,0,0,0,0,0,0,0,0,0,0\\r\\n1,55,54,53,0,0,0,0,0,64,0,-1--1--1,,1|(1365,172)|\\r\\n10,56,CAPEX,1464,221,37,11,8,2,0,3,-1,0,0,0,128-128-128,0-0-0,|12||128-128-128,0,0,0,0,0,0\\r\\n10,57,COPEX,1468,282,37,11,8,2,0,3,-1,0,0,0,128-128-128,0-0-0,|12||128-128-128,0,0,0,0,0,0\\r\\n10,58,ganancias por certificados CRE,1449,407,55,19,8,3,0,0,0,0,0,0,0,0,0,0,0,0\\r\\n10,59,precio energia H no convencional,1405,644,63,19,8,3,0,0,0,0,0,0,0,0,0,0,0,0\\r\\n1,60,53,9,1,0,0,0,0,64,0,-1--1--1,,1|(909,165)|\\r\\n1,61,52,9,1,0,0,0,0,64,0,-1--1--1,,1|(968,216)|\\r\\n1,62,52,53,1,0,0,0,0,64,0,-1--1--1,,1|(1262,260)|\\r\\n1,63,56,53,0,0,0,0,0,64,0,-1--1--1,,1|(1363,210)|\\r\\n1,64,57,53,0,0,0,0,0,64,0,-1--1--1,,1|(1362,245)|\\r\\n1,65,58,52,0,0,0,0,0,64,0,-1--1--1,,1|(1358,368)|\\r\\n1,66,51,52,0,0,0,0,0,64,0,-1--1--1,,1|(1229,396)|\\r\\n1,67,40,51,0,0,0,0,0,64,0,-1--1--1,,1|(1085,452)|\\r\\n1,68,59,51,0,0,0,0,0,64,0,-1--1--1,,1|(1311,554)|\\r\\n10,69,\"Aplicaci\\xc3\\xb3n incentivo (TGC)\",1628,356,52,19,8,3,0,0,0,0,0,0,0,0,0,0,0,0\\r\\n10,70,Incentivo ambiental,1748,472,31,19,8,3,0,0,0,0,0,0,0,0,0,0,0,0\\r\\n10,71,Reduccion emisiones GEI,1661,533,46,19,8,3,0,0,0,0,0,0,0,0,0,0,0,0\\r\\n10,72,Generaci\\xc3\\xb3n de energ\\xc3\\xada hidr\\xc3\\xa1ulica,2075,719,60,19,8,2,0,3,-1,0,0,0,128-128-128,0-0-0,|12||128-128-128,0,0,0,0,0,0\\r\\n10,73,Generaci\\xc3\\xb3n de energ\\xc3\\xada hidr\\xc3\\xa1ulica,1822,589,60,19,8,2,0,3,-1,0,0,0,128-128-128,0-0-0,|12||128-128-128,0,0,0,0,0,0\\r\\n1,74,73,71,0,0,0,0,0,64,0,-1--1--1,,1|(1744,561)|\\r\\n1,75,71,58,1,0,0,0,0,64,0,-1--1--1,,1|(1533,510)|\\r\\n1,76,70,58,1,0,0,0,0,64,0,-1--1--1,,1|(1608,457)|\\r\\n1,77,69,58,1,0,0,0,0,64,0,-1--1--1,,1|(1564,392)|\\r\\n10,78,Impuesto a la renta,1700,105,60,11,8,3,0,0,0,0,0,0,0,0,0,0,0,0\\r\\n10,79,Aplicacion TR,1655,194,46,11,8,3,0,0,0,0,0,0,0,0,0,0,0,0\\r\\n10,80,Time,1819,231,26,11,8,2,0,3,-1,0,0,0,128-128-128,0-0-0,|0||128-128-128,0,0,0,0,0,0\\r\\n1,81,78,54,0,0,0,0,0,64,0,-1--1--1,,1|(1607,125)|\\r\\n1,82,79,54,0,0,0,0,0,64,0,-1--1--1,,1|(1587,176)|\\r\\n1,83,80,79,0,0,0,0,0,64,0,-1--1--1,,1|(1753,216)|\\r\\n10,84,Selecci\\xc3\\xb3n FIT,1238,710,45,11,8,3,0,0,0,0,0,0,0,0,0,0,0,0\\r\\n10,85,Precio energ\\xc3\\xada hidr\\xc3\\xa1ulica seg\\xc3\\xban escenario,1374,747,50,28,8,3,0,0,0,0,0,0,0,0,0,0,0,0\\r\\n10,86,Precio esperado futuro FIT,1526,712,53,19,8,3,0,0,0,0,0,0,0,0,0,0,0,0\\r\\n10,87,Precio esperado actual FIT,1597,806,53,19,8,3,0,0,0,0,0,0,0,0,0,0,0,0\\r\\n10,88,Tasa de inflaci\\xc3\\xb3n,1767,750,53,11,8,3,0,0,0,0,0,0,0,0,0,0,0,0\\r\\n10,89,INITIAL TIME,1757,833,60,11,8,2,0,3,-1,0,0,0,128-128-128,0-0-0,|0||128-128-128,0,0,0,0,0,0\\r\\n10,90,Time,1749,799,26,11,8,2,0,3,-1,0,0,0,128-128-128,0-0-0,|0||128-128-128,0,0,0,0,0,0\\r\\n1,91,84,59,0,0,0,0,0,64,0,-1--1--1,,1|(1303,683)|\\r\\n1,92,85,59,0,0,0,0,0,64,0,-1--1--1,,1|(1388,697)|\\r\\n1,93,86,59,0,0,0,0,0,64,0,-1--1--1,,1|(1471,681)|\\r\\n1,94,87,86,0,0,0,0,0,64,0,-1--1--1,,1|(1565,764)|\\r\\n1,95,89,86,0,0,0,0,0,64,0,-1--1--1,,1|(1655,779)|\\r\\n1,96,90,86,0,0,0,0,0,64,0,-1--1--1,,1|(1655,762)|\\r\\n1,97,88,86,0,0,0,0,0,64,0,-1--1--1,,1|(1653,732)|\\r\\n10,98,Factor de emisiones,1618,636,32,19,8,3,0,0,0,0,0,0,0,0,0,0,0,0\\r\\n1,99,98,71,0,0,0,0,0,64,0,-1--1--1,,1|(1636,590)|\\r\\n///---\\\\\\\\\\\\\\r\\n:L\\x7f<%^E!@\\r\\n1:es2\\r\\n1:Current\\r\\n1:C:\\\\Users\\\\Usuario\\\\Documents\\\\Current\\r\\n9:es2\\r\\n23:0\\r\\n15:0,0,0,0,0,0\\r\\n19:5,0\\r\\n27:0,\\r\\n34:0,\\r\\n42:1\\r\\n72:0\\r\\n73:0\\r\\n4:Time\\r\\n5:Incentivo ambiental\\r\\n35:Date\\r\\n36:YYYY-MM-DD\\r\\n37:2000\\r\\n38:1\\r\\n39:1\\r\\n40:2\\r\\n41:0\\r\\n76:0\\r\\n77:0\\r\\n78:0\\r\\n79:0\\r\\n80:0\\r\\n81:0\\r\\n24:2017\\r\\n25:2031\\r\\n26:2031\\r\\n91:0\\r\\n90:0\\r\\n87:0\\r\\n75:\\r\\n43:\\r\\n'}"
            ]
          },
          "metadata": {
            "tags": []
          },
          "execution_count": 18
        }
      ]
    },
    {
      "cell_type": "code",
      "metadata": {
        "id": "cDiPbYtmANqv"
      },
      "source": [
        "model= pysd.read_vensim('E2.mdl')"
      ],
      "execution_count": 21,
      "outputs": []
    },
    {
      "cell_type": "code",
      "metadata": {
        "id": "_l0x8zMFAZ2O"
      },
      "source": [
        "xy = model.run()"
      ],
      "execution_count": 22,
      "outputs": []
    },
    {
      "cell_type": "code",
      "metadata": {
        "colab": {
          "base_uri": "https://localhost:8080/",
          "height": 292
        },
        "id": "tZ6egOobAamN",
        "outputId": "4dd689c8-b003-4c6f-bd62-ec73fe11be3c"
      },
      "source": [
        "xy.head()"
      ],
      "execution_count": 23,
      "outputs": [
        {
          "output_type": "execute_result",
          "data": {
            "text/html": [
              "<div>\n",
              "<style scoped>\n",
              "    .dataframe tbody tr th:only-of-type {\n",
              "        vertical-align: middle;\n",
              "    }\n",
              "\n",
              "    .dataframe tbody tr th {\n",
              "        vertical-align: top;\n",
              "    }\n",
              "\n",
              "    .dataframe thead th {\n",
              "        text-align: right;\n",
              "    }\n",
              "</style>\n",
              "<table border=\"1\" class=\"dataframe\">\n",
              "  <thead>\n",
              "    <tr style=\"text-align: right;\">\n",
              "      <th></th>\n",
              "      <th>TIME</th>\n",
              "      <th>Aplicacion TR</th>\n",
              "      <th>\"Aplicación incentivo (TGC)\"</th>\n",
              "      <th>capacidad inicial instalada</th>\n",
              "      <th>Incentivo ambiental</th>\n",
              "      <th>flujo de agregacion de impuestos</th>\n",
              "      <th>Comercializacion energía</th>\n",
              "      <th>COPEX</th>\n",
              "      <th>ganancias por certificados CRE</th>\n",
              "      <th>Precio esperado futuro FIT</th>\n",
              "      <th>\"costo inversion planta h.\"</th>\n",
              "      <th>Precio energía hidráulica según escenario</th>\n",
              "      <th>Factor de emisiones</th>\n",
              "      <th>Tasa de inflación</th>\n",
              "      <th>Reduccion emisiones GEI</th>\n",
              "      <th>precio energia H no convencional</th>\n",
              "      <th>Selección FIT</th>\n",
              "      <th>Precio esperado actual FIT</th>\n",
              "      <th>Impuesto a la renta</th>\n",
              "      <th>capacidad instalada acumulada hidráulica</th>\n",
              "      <th>CAPEX</th>\n",
              "      <th>costo de operación inicial planta H</th>\n",
              "      <th>\"costo inversion inicial planta h.\"</th>\n",
              "      <th>curva de apendizaje hidraulica</th>\n",
              "      <th>factor de planta</th>\n",
              "      <th>\"Flujo de descuento planta hidráulica (j)\"</th>\n",
              "      <th>Flujo de utilizacion energía hidraulica</th>\n",
              "      <th>Generación de energía hidráulica</th>\n",
              "      <th>\"horas generacion H.\"</th>\n",
              "      <th>Impuestos generación energía H</th>\n",
              "      <th>ingresos por energía H</th>\n",
              "      <th>\"lamda - hidro\"</th>\n",
              "      <th>parametro de imitación</th>\n",
              "      <th>Parametro de innovacion</th>\n",
              "      <th>Potencial disponible hidráulico</th>\n",
              "      <th>\"Rentabilidad proyecto-planta hidráulica\"</th>\n",
              "      <th>Tasa de inversion en nueva capacidad h</th>\n",
              "      <th>Tiempo de vida panta hidráulica</th>\n",
              "      <th>FINAL TIME</th>\n",
              "      <th>INITIAL TIME</th>\n",
              "      <th>SAVEPER</th>\n",
              "      <th>TIME STEP</th>\n",
              "    </tr>\n",
              "  </thead>\n",
              "  <tbody>\n",
              "    <tr>\n",
              "      <th>2017.0</th>\n",
              "      <td>2017.0</td>\n",
              "      <td>2017.0</td>\n",
              "      <td>15</td>\n",
              "      <td>222</td>\n",
              "      <td>15</td>\n",
              "      <td>0.22</td>\n",
              "      <td>1.786031e+07</td>\n",
              "      <td>1.604814e+07</td>\n",
              "      <td>1.319267e+08</td>\n",
              "      <td>67.530000</td>\n",
              "      <td>4.670880e+08</td>\n",
              "      <td>20.5</td>\n",
              "      <td>0.673</td>\n",
              "      <td>0.035</td>\n",
              "      <td>5.863409e+05</td>\n",
              "      <td>20.5</td>\n",
              "      <td>0</td>\n",
              "      <td>67.53</td>\n",
              "      <td>0.22</td>\n",
              "      <td>222.000000</td>\n",
              "      <td>5.457240e+07</td>\n",
              "      <td>18.42</td>\n",
              "      <td>2104000.0</td>\n",
              "      <td>0.0645</td>\n",
              "      <td>0.56</td>\n",
              "      <td>0.112</td>\n",
              "      <td>0.8</td>\n",
              "      <td>8.712346e+05</td>\n",
              "      <td>7008.0</td>\n",
              "      <td>17416620.398189805</td>\n",
              "      <td>1.497870e+08</td>\n",
              "      <td>0.09619</td>\n",
              "      <td>0.204509</td>\n",
              "      <td>0.00062</td>\n",
              "      <td>1415.000000</td>\n",
              "      <td>1.701406</td>\n",
              "      <td>67.646861</td>\n",
              "      <td>30</td>\n",
              "      <td>2031</td>\n",
              "      <td>2017</td>\n",
              "      <td>1</td>\n",
              "      <td>1</td>\n",
              "    </tr>\n",
              "    <tr>\n",
              "      <th>2018.0</th>\n",
              "      <td>2018.0</td>\n",
              "      <td>2018.0</td>\n",
              "      <td>15</td>\n",
              "      <td>222</td>\n",
              "      <td>15</td>\n",
              "      <td>0.22</td>\n",
              "      <td>2.330262e+07</td>\n",
              "      <td>2.148088e+07</td>\n",
              "      <td>1.721268e+08</td>\n",
              "      <td>69.893550</td>\n",
              "      <td>6.252102e+08</td>\n",
              "      <td>20.5</td>\n",
              "      <td>0.673</td>\n",
              "      <td>0.035</td>\n",
              "      <td>7.650081e+05</td>\n",
              "      <td>20.5</td>\n",
              "      <td>0</td>\n",
              "      <td>67.53</td>\n",
              "      <td>0.22</td>\n",
              "      <td>289.646861</td>\n",
              "      <td>7.304668e+07</td>\n",
              "      <td>18.42</td>\n",
              "      <td>2104000.0</td>\n",
              "      <td>0.0645</td>\n",
              "      <td>0.56</td>\n",
              "      <td>0.112</td>\n",
              "      <td>0.8</td>\n",
              "      <td>1.136713e+06</td>\n",
              "      <td>7008.0</td>\n",
              "      <td>22198413.17368824</td>\n",
              "      <td>1.954294e+08</td>\n",
              "      <td>0.09619</td>\n",
              "      <td>0.204509</td>\n",
              "      <td>0.00062</td>\n",
              "      <td>1347.353139</td>\n",
              "      <td>1.674258</td>\n",
              "      <td>82.462461</td>\n",
              "      <td>30</td>\n",
              "      <td>2031</td>\n",
              "      <td>2017</td>\n",
              "      <td>1</td>\n",
              "      <td>1</td>\n",
              "    </tr>\n",
              "    <tr>\n",
              "      <th>2019.0</th>\n",
              "      <td>2019.0</td>\n",
              "      <td>2019.0</td>\n",
              "      <td>15</td>\n",
              "      <td>222</td>\n",
              "      <td>15</td>\n",
              "      <td>0.22</td>\n",
              "      <td>2.993688e+07</td>\n",
              "      <td>2.826959e+07</td>\n",
              "      <td>2.211313e+08</td>\n",
              "      <td>72.339824</td>\n",
              "      <td>8.227985e+08</td>\n",
              "      <td>20.5</td>\n",
              "      <td>0.673</td>\n",
              "      <td>0.035</td>\n",
              "      <td>9.828059e+05</td>\n",
              "      <td>20.5</td>\n",
              "      <td>0</td>\n",
              "      <td>67.53</td>\n",
              "      <td>0.22</td>\n",
              "      <td>372.109322</td>\n",
              "      <td>9.613198e+07</td>\n",
              "      <td>18.42</td>\n",
              "      <td>2104000.0</td>\n",
              "      <td>0.0645</td>\n",
              "      <td>0.56</td>\n",
              "      <td>0.112</td>\n",
              "      <td>0.8</td>\n",
              "      <td>1.460336e+06</td>\n",
              "      <td>7008.0</td>\n",
              "      <td>27866658.614113227</td>\n",
              "      <td>2.510682e+08</td>\n",
              "      <td>0.09619</td>\n",
              "      <td>0.204509</td>\n",
              "      <td>0.00062</td>\n",
              "      <td>1264.890678</td>\n",
              "      <td>1.648855</td>\n",
              "      <td>97.738746</td>\n",
              "      <td>30</td>\n",
              "      <td>2031</td>\n",
              "      <td>2017</td>\n",
              "      <td>1</td>\n",
              "      <td>1</td>\n",
              "    </tr>\n",
              "    <tr>\n",
              "      <th>2020.0</th>\n",
              "      <td>2020.0</td>\n",
              "      <td>2020.0</td>\n",
              "      <td>15</td>\n",
              "      <td>222</td>\n",
              "      <td>15</td>\n",
              "      <td>0.22</td>\n",
              "      <td>3.780014e+07</td>\n",
              "      <td>3.650474e+07</td>\n",
              "      <td>2.792140e+08</td>\n",
              "      <td>74.871718</td>\n",
              "      <td>1.062486e+09</td>\n",
              "      <td>20.5</td>\n",
              "      <td>0.673</td>\n",
              "      <td>0.035</td>\n",
              "      <td>1.240951e+06</td>\n",
              "      <td>20.5</td>\n",
              "      <td>0</td>\n",
              "      <td>67.53</td>\n",
              "      <td>0.22</td>\n",
              "      <td>469.848068</td>\n",
              "      <td>1.241360e+08</td>\n",
              "      <td>18.42</td>\n",
              "      <td>2104000.0</td>\n",
              "      <td>0.0645</td>\n",
              "      <td>0.56</td>\n",
              "      <td>0.112</td>\n",
              "      <td>0.8</td>\n",
              "      <td>1.843909e+06</td>\n",
              "      <td>7008.0</td>\n",
              "      <td>34402152.130105026</td>\n",
              "      <td>3.170141e+08</td>\n",
              "      <td>0.09619</td>\n",
              "      <td>0.204509</td>\n",
              "      <td>0.00062</td>\n",
              "      <td>1167.151932</td>\n",
              "      <td>1.625356</td>\n",
              "      <td>112.075067</td>\n",
              "      <td>30</td>\n",
              "      <td>2031</td>\n",
              "      <td>2017</td>\n",
              "      <td>1</td>\n",
              "      <td>1</td>\n",
              "    </tr>\n",
              "    <tr>\n",
              "      <th>2021.0</th>\n",
              "      <td>2021.0</td>\n",
              "      <td>2021.0</td>\n",
              "      <td>15</td>\n",
              "      <td>222</td>\n",
              "      <td>15</td>\n",
              "      <td>0.22</td>\n",
              "      <td>4.681679e+07</td>\n",
              "      <td>4.615240e+07</td>\n",
              "      <td>3.458162e+08</td>\n",
              "      <td>77.492228</td>\n",
              "      <td>1.343285e+09</td>\n",
              "      <td>20.5</td>\n",
              "      <td>0.673</td>\n",
              "      <td>0.035</td>\n",
              "      <td>1.536961e+06</td>\n",
              "      <td>20.5</td>\n",
              "      <td>0</td>\n",
              "      <td>67.53</td>\n",
              "      <td>0.22</td>\n",
              "      <td>581.923135</td>\n",
              "      <td>1.569433e+08</td>\n",
              "      <td>18.42</td>\n",
              "      <td>2104000.0</td>\n",
              "      <td>0.0645</td>\n",
              "      <td>0.56</td>\n",
              "      <td>0.112</td>\n",
              "      <td>0.8</td>\n",
              "      <td>2.283746e+06</td>\n",
              "      <td>7008.0</td>\n",
              "      <td>41698211.56700793</td>\n",
              "      <td>3.926330e+08</td>\n",
              "      <td>0.09619</td>\n",
              "      <td>0.204509</td>\n",
              "      <td>0.00062</td>\n",
              "      <td>1055.076865</td>\n",
              "      <td>1.603933</td>\n",
              "      <td>123.680632</td>\n",
              "      <td>30</td>\n",
              "      <td>2031</td>\n",
              "      <td>2017</td>\n",
              "      <td>1</td>\n",
              "      <td>1</td>\n",
              "    </tr>\n",
              "  </tbody>\n",
              "</table>\n",
              "</div>"
            ],
            "text/plain": [
              "          TIME  Aplicacion TR  ...  SAVEPER  TIME STEP\n",
              "2017.0  2017.0         2017.0  ...        1          1\n",
              "2018.0  2018.0         2018.0  ...        1          1\n",
              "2019.0  2019.0         2019.0  ...        1          1\n",
              "2020.0  2020.0         2020.0  ...        1          1\n",
              "2021.0  2021.0         2021.0  ...        1          1\n",
              "\n",
              "[5 rows x 42 columns]"
            ]
          },
          "metadata": {
            "tags": []
          },
          "execution_count": 23
        }
      ]
    },
    {
      "cell_type": "code",
      "metadata": {
        "colab": {
          "base_uri": "https://localhost:8080/"
        },
        "id": "UT_34iwJAhTy",
        "outputId": "f56c872b-f924-4df0-aaef-4e3adeaa195f"
      },
      "source": [
        "print(xy['capacidad instalada acumulada hidráulica'])"
      ],
      "execution_count": 24,
      "outputs": [
        {
          "output_type": "stream",
          "text": [
            "2017.0     222.000000\n",
            "2018.0     289.646861\n",
            "2019.0     372.109322\n",
            "2020.0     469.848068\n",
            "2021.0     581.923135\n",
            "2022.0     705.603768\n",
            "2023.0     836.293294\n",
            "2024.0     967.954595\n",
            "2025.0    1094.054993\n",
            "2026.0    1208.783666\n",
            "2027.0    1308.099291\n",
            "2028.0    1390.217370\n",
            "2029.0    1455.437025\n",
            "2030.0    1505.519136\n",
            "2031.0    1542.950628\n",
            "Name: capacidad instalada acumulada hidráulica, dtype: float64\n"
          ],
          "name": "stdout"
        }
      ]
    },
    {
      "cell_type": "code",
      "metadata": {
        "colab": {
          "base_uri": "https://localhost:8080/",
          "height": 282
        },
        "id": "af_-7FgCAiU2",
        "outputId": "7daea8d7-8ea2-4d57-eb2f-a41774837d78"
      },
      "source": [
        "import matplotlib.pyplot as plt\n",
        "from mpl_toolkits.mplot3d import Axes3D\n",
        "\n",
        "ax = plt.figure().gca() \n",
        "ax.plot(xy['TIME'], xy['capacidad instalada acumulada hidráulica'])\n",
        "ax.set_xlabel('capacidad instalada acumulada hidráulica')\n",
        "ax.set_ylabel('t')\n",
        "plt.show()"
      ],
      "execution_count": 25,
      "outputs": [
        {
          "output_type": "display_data",
          "data": {
            "image/png": "[encoded data removed]",
            "text/plain": [
              "<Figure size 432x288 with 1 Axes>"
            ]
          },
          "metadata": {
            "tags": [],
            "needs_background": "light"
          }
        }
      ]
    },
    {
      "cell_type": "markdown",
      "metadata": {
        "id": "3C5kwUBe-_wU"
      },
      "source": [
        "**Escenario 3 **\n",
        "---\n",
        "Escenario combinado "
      ]
    },
    {
      "cell_type": "code",
      "metadata": {
        "colab": {
          "resources": {
            "http://localhost:8080/nbextensions/google.colab/files.js": {
              "data": "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",
              "ok": true,
              "headers": [
                [
                  "content-type",
                  "application/javascript"
                ]
              ],
              "status": 200,
              "status_text": ""
            }
          },
          "base_uri": "https://localhost:8080/",
          "height": 109
        },
        "id": "t7UfwK_nA1fF",
        "outputId": "87605e88-b176-4014-fde1-1459ee37c0a1"
      },
      "source": [
        "import pysd\n",
        "from google.colab import files\n",
        "files.upload()"
      ],
      "execution_count": 26,
      "outputs": [
        {
          "output_type": "display_data",
          "data": {
            "text/html": [
              "\n",
              "     <input type=\"file\" id=\"files-6b88f26c-d373-48f8-817d-3a584de2dea0\" name=\"files[]\" multiple disabled\n",
              "        style=\"border:none\" />\n",
              "     <output id=\"result-6b88f26c-d373-48f8-817d-3a584de2dea0\">\n",
              "      Upload widget is only available when the cell has been executed in the\n",
              "      current browser session. Please rerun this cell to enable.\n",
              "      </output>\n",
              "      <script src=\"/nbextensions/google.colab/files.js\"></script> "
            ],
            "text/plain": [
              "<IPython.core.display.HTML object>"
            ]
          },
          "metadata": {
            "tags": []
          }
        },
        {
          "output_type": "stream",
          "text": [
            "Saving E3.mdl to E3.mdl\n"
          ],
          "name": "stdout"
        },
        {
          "output_type": "execute_result",
          "data": {
            "text/plain": [
              "{'E3.mdl': b'{UTF-8}\\r\\nAplicacion TR=\\r\\n\\tTime\\r\\n\\t~\\tyears\\r\\n\\t~\\t\\t|\\r\\n\\r\\n\"Aplicaci\\xc3\\xb3n incentivo (TGC)\"=\\r\\n\\t15\\r\\n\\t~\\tUSD/TonCO2\\r\\n\\t~\\t\\t|\\r\\n\\r\\ncapacidad inicial instalada=\\r\\n\\t222\\r\\n\\t~\\tMW\\r\\n\\t~\\t\\t|\\r\\n\\r\\nIncentivo ambiental=\\r\\n\\t15\\r\\n\\t~\\tUSD/TonCO2\\r\\n\\t~\\t\\t|\\r\\n\\r\\nflujo de agregacion de impuestos=\\r\\n\\tIF THEN ELSE(Aplicacion TR>5, Impuesto a la renta, 0)\\r\\n\\t~\\t\\r\\n\\t~\\t\\t|\\r\\n\\r\\nComercializacion energ\\xc3\\xada=\\r\\n\\tGeneraci\\xc3\\xb3n de energ\\xc3\\xada hidr\\xc3\\xa1ulica*precio energia H no convencional\\r\\n\\t~\\tUSD\\r\\n\\t~\\t\\t|\\r\\n\\r\\nCOPEX=\\r\\n\\tGeneraci\\xc3\\xb3n de energ\\xc3\\xada hidr\\xc3\\xa1ulica*costo de operaci\\xc3\\xb3n inicial planta H*((capacidad instalada acumulada hidr\\xc3\\xa1ulica\\\\\\r\\n\\t\\t/capacidad inicial instalada\\r\\n)^\"lamda - hidro\")\\r\\n\\t~\\tUSD\\r\\n\\t~\\t\\t|\\r\\n\\r\\nganancias por certificados CRE=\\r\\n\\tReduccion emisiones GEI*Incentivo ambiental*\"Aplicaci\\xc3\\xb3n incentivo (TGC)\"\\r\\n\\t~\\tUSD\\r\\n\\t~\\t\\t|\\r\\n\\r\\nPrecio esperado futuro FIT=\\r\\n\\tPrecio esperado actual FIT*((1+Tasa de inflaci\\xc3\\xb3n)^(Time-INITIAL TIME))\\r\\n\\t~\\tUSD/MWh\\r\\n\\t~\\t\\t|\\r\\n\\r\\n\"costo inversion planta h.\"=\\r\\n\\t(capacidad instalada acumulada hidr\\xc3\\xa1ulica*\"costo inversion inicial planta h.\")*((capacidad instalada acumulada hidr\\xc3\\xa1ulica\\r\\n/capacidad inicial instalada)^\"lamda - hidro\")\\r\\n\\t~\\tUSD\\r\\n\\t~\\t\\t|\\r\\n\\r\\nPrecio energ\\xc3\\xada hidr\\xc3\\xa1ulica seg\\xc3\\xban escenario=\\r\\n\\t20.5\\r\\n\\t~\\tUSD/MWh\\r\\n\\t~\\tCaso base\\r\\n\\t|\\r\\n\\r\\nFactor de emisiones=\\r\\n\\t0.673\\r\\n\\t~\\tTonCO2/(MWh)\\r\\n\\t~\\t\\t|\\r\\n\\r\\nTasa de inflaci\\xc3\\xb3n=\\r\\n\\t0.035\\r\\n\\t~\\t\\r\\n\\t~\\t\\t|\\r\\n\\r\\nReduccion emisiones GEI=\\r\\n\\tGeneraci\\xc3\\xb3n de energ\\xc3\\xada hidr\\xc3\\xa1ulica*Factor de emisiones\\r\\n\\t~\\tTonCO2\\r\\n\\t~\\t\\t|\\r\\n\\r\\nprecio energia H no convencional=\\r\\n\\tIF THEN ELSE( Selecci\\xc3\\xb3n FIT=0, Precio energ\\xc3\\xada hidr\\xc3\\xa1ulica seg\\xc3\\xban escenario, Precio esperado futuro FIT\\\\\\r\\n\\t\\t)\\r\\n\\t~\\tUSD/(h*MW)\\r\\n\\t~\\t\\t|\\r\\n\\r\\nSelecci\\xc3\\xb3n FIT=\\r\\n\\t1\\r\\n\\t~\\t\\r\\n\\t~\\t\\t|\\r\\n\\r\\nPrecio esperado actual FIT=\\r\\n\\t67.53\\r\\n\\t~\\tUSD/MWh\\r\\n\\t~\\t\\t|\\r\\n\\r\\nImpuesto a la renta=\\r\\n\\t0.22\\r\\n\\t~\\t\\r\\n\\t~\\t\\t|\\r\\n\\r\\ncapacidad instalada acumulada hidr\\xc3\\xa1ulica= INTEG (\\r\\n\\tTasa de inversion en nueva capacidad h,\\r\\n\\t\\t222)\\r\\n\\t~\\tMW\\r\\n\\t~\\t\\t|\\r\\n\\r\\nCAPEX=\\r\\n\\t\"Flujo de descuento planta hidr\\xc3\\xa1ulica (j)\"*\"costo inversion planta h.\"/(1-(1+\"Flujo de descuento planta hidr\\xc3\\xa1ulica (j)\"\\\\\\r\\n\\t\\t)^(-Tiempo de vida panta hidr\\xc3\\xa1ulica))\\r\\n\\t~\\tUSD\\r\\n\\t~\\t\\t|\\r\\n\\r\\ncosto de operaci\\xc3\\xb3n inicial planta H=\\r\\n\\t18.42\\r\\n\\t~\\tUSD/(MWh)\\r\\n\\t~\\t\\t|\\r\\n\\r\\n\"costo inversion inicial planta h.\"=\\r\\n\\t2.104e+06\\r\\n\\t~\\tUSD/MW\\r\\n\\t~\\t\\t|\\r\\n\\r\\ncurva de apendizaje hidraulica=\\r\\n\\t0.0645\\r\\n\\t~\\t\\r\\n\\t~\\t\\t|\\r\\n\\r\\nfactor de planta=\\r\\n\\t0.56\\r\\n\\t~\\t\\r\\n\\t~\\t\\t|\\r\\n\\r\\n\"Flujo de descuento planta hidr\\xc3\\xa1ulica (j)\"=\\r\\n\\t0.112\\r\\n\\t~\\t\\r\\n\\t~\\t\\t|\\r\\n\\r\\nFlujo de utilizacion energ\\xc3\\xada hidraulica=\\r\\n\\t0.8\\r\\n\\t~\\t\\r\\n\\t~\\t\\t|\\r\\n\\r\\nGeneraci\\xc3\\xb3n de energ\\xc3\\xada hidr\\xc3\\xa1ulica=\\r\\n\\tcapacidad instalada acumulada hidr\\xc3\\xa1ulica*factor de planta*\"horas generacion H.\"\\r\\n\\t~\\tMWh\\r\\n\\t~\\t\\t|\\r\\n\\r\\n\"horas generacion H.\"=\\r\\n\\tFlujo de utilizacion energ\\xc3\\xada hidraulica*8760\\r\\n\\t~\\thoras\\r\\n\\t~\\t\\t|\\r\\n\\r\\nImpuestos generaci\\xc3\\xb3n energ\\xc3\\xada H=\\r\\n\\tIF THEN ELSE((ingresos por energ\\xc3\\xada H-COPEX-CAPEX)>0, flujo de agregacion de impuestos\\\\\\r\\n\\t\\t*(ingresos por energ\\xc3\\xada H-COPEX-CAPEX) , 0 )\\r\\n\\t~\\tUSD\\r\\n\\t~\\t\\t|\\r\\n\\r\\ningresos por energ\\xc3\\xada H=\\r\\n\\tganancias por certificados CRE+Comercializacion energ\\xc3\\xada\\r\\n\\t~\\tUSD\\r\\n\\t~\\t\\t|\\r\\n\\r\\n\"lamda - hidro\"=\\r\\n\\t-((LN( 1-curva de apendizaje hidraulica )/LN(2)))\\r\\n\\t~\\t\\r\\n\\t~\\t\\t|\\r\\n\\r\\nparametro de imitaci\\xc3\\xb3n=\\r\\n\\t0.204509\\r\\n\\t~\\t\\r\\n\\t~\\t\\t|\\r\\n\\r\\nParametro de innovacion=\\r\\n\\t0.000619705\\r\\n\\t~\\t\\r\\n\\t~\\t\\t|\\r\\n\\r\\nPotencial disponible hidr\\xc3\\xa1ulico= INTEG (\\r\\n\\t-Tasa de inversion en nueva capacidad h,\\r\\n\\t\\t1415)\\r\\n\\t~\\tMW\\r\\n\\t~\\t\\t|\\r\\n\\r\\n\"Rentabilidad proyecto-planta hidr\\xc3\\xa1ulica\"=\\r\\n\\tingresos por energ\\xc3\\xada H/(CAPEX+COPEX+Impuestos generaci\\xc3\\xb3n energ\\xc3\\xada H)\\r\\n\\t~\\t\\r\\n\\t~\\t\\t|\\r\\n\\r\\nTasa de inversion en nueva capacidad h=\\r\\n\\t(Parametro de innovacion*Potencial disponible hidr\\xc3\\xa1ulico)+(parametro de imitaci\\xc3\\xb3n*\\\\\\r\\n\\t\\t\"Rentabilidad proyecto-planta hidr\\xc3\\xa1ulica\"*Potencial disponible hidr\\xc3\\xa1ulico*capacidad instalada acumulada hidr\\xc3\\xa1ulica\\\\\\r\\n\\t\\t/(Potencial disponible hidr\\xc3\\xa1ulico+capacidad instalada acumulada hidr\\xc3\\xa1ulica))\\r\\n\\t~\\tMW\\r\\n\\t~\\t\\t|\\r\\n\\r\\nTiempo de vida panta hidr\\xc3\\xa1ulica=\\r\\n\\t30\\r\\n\\t~\\tA\\xc3\\xb1os\\r\\n\\t~\\t\\t|\\r\\n\\r\\n********************************************************\\r\\n\\t.Control\\r\\n********************************************************~\\r\\n\\t\\tSimulation Control Parameters\\r\\n\\t|\\r\\n\\r\\nFINAL TIME=\\r\\n\\t2031\\r\\n\\t~\\tyears\\r\\n\\t~\\tThe final time for the simulation.\\r\\n\\t|\\r\\n\\r\\nINITIAL TIME=\\r\\n\\t2017\\r\\n\\t~\\tyears\\r\\n\\t~\\tThe initial time for the simulation.\\r\\n\\t|\\r\\n\\r\\nSAVEPER  = \\r\\n        TIME STEP\\r\\n\\t~\\tMonth [0,?]\\r\\n\\t~\\tThe frequency with which output is stored.\\r\\n\\t|\\r\\n\\r\\nTIME STEP  = 1\\r\\n\\t~\\tyears [0,?]\\r\\n\\t~\\tThe time step for the simulation.\\r\\n\\t|\\r\\n\\r\\n\\\\\\\\\\\\---/// Sketch information - do not modify anything except names\\r\\nV300  Do not put anything below this section - it will be ignored\\r\\n*View 1\\r\\n$192-192-192,0,Times New Roman|12||0-0-0|0-0-0|0-0-255|-1--1--1|-1--1--1|96,96,5,0\\r\\n10,1,Potencial disponible hidr\\xc3\\xa1ulico,369,88,49,29,3,131,0,0,0,0,0,0,0,0,0,0,0,0\\r\\n10,2,capacidad instalada acumulada hidr\\xc3\\xa1ulica,759,91,59,36,3,131,0,0,0,0,0,0,0,0,0,0,0,0\\r\\n1,3,5,2,4,0,0,22,0,0,0,-1--1--1,,1|(632,88)|\\r\\n1,4,5,1,100,0,0,22,0,0,0,-1--1--1,,1|(485,88)|\\r\\n11,5,244,559,88,6,8,34,3,0,0,1,0,0,0,0,0,0,0,0,0\\r\\n10,6,Tasa de inversion en nueva capacidad h,559,115,65,19,40,3,0,0,-1,0,0,0,0,0,0,0,0,0\\r\\n10,7,Parametro de innovacion,482,-13,44,19,8,3,0,0,0,0,0,0,0,0,0,0,0,0\\r\\n10,8,parametro de imitaci\\xc3\\xb3n,652,-15,43,19,8,3,0,0,0,0,0,0,0,0,0,0,0,0\\r\\n10,9,\"Rentabilidad proyecto-planta hidr\\xc3\\xa1ulica\",617,232,51,28,8,3,0,0,0,0,0,0,0,0,0,0,0,0\\r\\n1,10,7,6,1,0,0,0,0,64,0,-1--1--1,,1|(490,58)|\\r\\n1,11,8,6,1,0,0,0,0,64,0,-1--1--1,,1|(633,51)|\\r\\n1,12,1,6,1,0,0,0,0,64,0,-1--1--1,,1|(445,163)|\\r\\n1,13,2,6,1,0,0,0,0,64,0,-1--1--1,,1|(691,152)|\\r\\n1,14,9,6,0,0,0,0,0,64,0,-1--1--1,,1|(589,175)|\\r\\n10,15,CAPEX,360,259,28,11,8,3,0,0,0,0,0,0,0,0,0,0,0,0\\r\\n10,16,COPEX,841,292,28,11,8,3,0,0,0,0,0,0,0,0,0,0,0,0\\r\\n10,17,Tiempo de vida panta hidr\\xc3\\xa1ulica,222,177,50,19,8,3,0,0,0,0,0,0,0,0,0,0,0,0\\r\\n10,18,\"Flujo de descuento planta hidr\\xc3\\xa1ulica (j)\",175,272,61,19,8,3,0,0,0,0,0,0,0,0,0,0,0,0\\r\\n10,19,\"costo inversion planta h.\",362,355,48,19,8,3,0,0,0,0,0,0,0,0,0,0,0,0\\r\\n10,20,\"costo inversion inicial planta h.\",233,459,48,19,8,3,0,0,0,0,0,0,0,0,0,0,0,0\\r\\n10,21,capacidad inicial instalada,757,-4,53,19,8,3,0,0,0,0,0,0,0,0,0,0,0,0\\r\\n10,22,capacidad inicial instalada,135,385,57,19,8,2,0,3,-1,0,0,0,128-128-128,0-0-0,|12||128-128-128,0,0,0,0,0,0\\r\\n10,23,\"lamda - hidro\",541,332,43,11,8,3,0,0,0,0,0,0,0,0,0,0,0,0\\r\\n10,24,curva de apendizaje hidraulica,560,398,64,19,8,3,0,0,0,0,0,0,0,0,0,0,0,0\\r\\n1,25,17,15,1,0,0,0,0,64,0,-1--1--1,,1|(310,196)|\\r\\n1,26,18,15,1,0,0,0,0,64,0,-1--1--1,,1|(274,243)|\\r\\n1,27,15,9,1,0,0,0,0,64,0,-1--1--1,,1|(461,223)|\\r\\n1,28,19,15,1,0,0,0,0,64,0,-1--1--1,,1|(339,306)|\\r\\n1,29,22,19,1,0,0,0,0,64,0,-1--1--1,,1|(239,349)|\\r\\n1,30,20,19,1,0,0,0,0,64,0,-1--1--1,,1|(278,397)|\\r\\n1,31,23,19,1,0,0,0,0,64,0,-1--1--1,,1|(453,317)|\\r\\n1,32,24,23,1,0,0,0,0,64,0,-1--1--1,,1|(567,360)|\\r\\n1,33,23,16,1,0,0,0,0,64,0,-1--1--1,,1|(685,291)|\\r\\n1,34,16,9,1,0,0,0,0,64,0,-1--1--1,,1|(755,245)|\\r\\n10,35,capacidad instalada acumulada hidr\\xc3\\xa1ulica,621,486,71,19,8,2,0,3,-1,0,0,0,128-128-128,0-0-0,|12||128-128-128,0,0,0,0,0,0\\r\\n1,36,35,19,1,0,0,0,0,64,0,-1--1--1,,1|(473,450)|\\r\\n1,37,35,16,1,0,0,0,0,64,0,-1--1--1,,1|(774,407)|\\r\\n10,38,capacidad inicial instalada,964,259,57,19,8,2,0,3,-1,0,0,0,128-128-128,0-0-0,|12||128-128-128,0,0,0,0,0,0\\r\\n10,39,costo de operaci\\xc3\\xb3n inicial planta H,956,327,61,19,8,3,0,0,0,0,0,0,0,0,0,0,0,0\\r\\n10,40,Generaci\\xc3\\xb3n de energ\\xc3\\xada hidr\\xc3\\xa1ulica,977,452,55,19,8,3,0,0,0,0,0,0,0,0,0,0,0,0\\r\\n10,41,factor de planta,861,551,49,11,8,3,0,0,0,0,0,0,0,0,0,0,0,0\\r\\n10,42,\"horas generacion H.\",1042,545,45,19,8,3,0,0,0,0,0,0,0,0,0,0,0,0\\r\\n10,43,Flujo de utilizacion energ\\xc3\\xada hidraulica,1199,581,59,19,8,3,0,0,0,0,0,0,0,0,0,0,0,0\\r\\n1,44,38,16,0,0,0,0,0,64,0,-1--1--1,,1|(894,277)|\\r\\n1,45,39,16,0,0,0,0,0,64,0,-1--1--1,,1|(888,306)|\\r\\n1,46,40,16,0,0,0,0,0,64,0,-1--1--1,,1|(910,373)|\\r\\n1,47,35,40,0,0,0,0,0,64,0,-1--1--1,,1|(800,469)|\\r\\n1,48,41,40,0,0,0,0,0,64,0,-1--1--1,,1|(908,510)|\\r\\n1,49,42,40,0,0,0,0,0,64,0,-1--1--1,,1|(1013,504)|\\r\\n1,50,43,42,0,0,0,0,0,64,0,-1--1--1,,1|(1120,563)|\\r\\n10,51,Comercializacion energ\\xc3\\xada,1207,455,55,19,8,3,0,0,0,0,0,0,0,0,0,0,0,0\\r\\n10,52,ingresos por energ\\xc3\\xada H,1259,326,40,19,8,3,0,0,0,0,0,0,0,0,0,0,0,0\\r\\n10,53,Impuestos generaci\\xc3\\xb3n energ\\xc3\\xada H,1220,196,67,19,8,3,0,0,0,0,0,0,0,0,0,0,0,0\\r\\n10,54,flujo de agregacion de impuestos,1490,153,60,19,8,3,0,0,0,0,0,0,0,0,0,0,0,0\\r\\n1,55,54,53,0,0,0,0,0,64,0,-1--1--1,,1|(1365,172)|\\r\\n10,56,CAPEX,1464,221,37,11,8,2,0,3,-1,0,0,0,128-128-128,0-0-0,|12||128-128-128,0,0,0,0,0,0\\r\\n10,57,COPEX,1468,282,37,11,8,2,0,3,-1,0,0,0,128-128-128,0-0-0,|12||128-128-128,0,0,0,0,0,0\\r\\n10,58,ganancias por certificados CRE,1449,407,55,19,8,3,0,0,0,0,0,0,0,0,0,0,0,0\\r\\n10,59,precio energia H no convencional,1405,644,63,19,8,3,0,0,0,0,0,0,0,0,0,0,0,0\\r\\n1,60,53,9,1,0,0,0,0,64,0,-1--1--1,,1|(909,165)|\\r\\n1,61,52,9,1,0,0,0,0,64,0,-1--1--1,,1|(968,216)|\\r\\n1,62,52,53,1,0,0,0,0,64,0,-1--1--1,,1|(1262,260)|\\r\\n1,63,56,53,0,0,0,0,0,64,0,-1--1--1,,1|(1363,210)|\\r\\n1,64,57,53,0,0,0,0,0,64,0,-1--1--1,,1|(1362,245)|\\r\\n1,65,58,52,0,0,0,0,0,64,0,-1--1--1,,1|(1358,368)|\\r\\n1,66,51,52,0,0,0,0,0,64,0,-1--1--1,,1|(1229,396)|\\r\\n1,67,40,51,0,0,0,0,0,64,0,-1--1--1,,1|(1085,452)|\\r\\n1,68,59,51,0,0,0,0,0,64,0,-1--1--1,,1|(1311,554)|\\r\\n10,69,\"Aplicaci\\xc3\\xb3n incentivo (TGC)\",1628,356,52,19,8,3,0,0,0,0,0,0,0,0,0,0,0,0\\r\\n10,70,Incentivo ambiental,1748,472,31,19,8,3,0,0,0,0,0,0,0,0,0,0,0,0\\r\\n10,71,Reduccion emisiones GEI,1661,533,46,19,8,3,0,0,0,0,0,0,0,0,0,0,0,0\\r\\n10,72,Generaci\\xc3\\xb3n de energ\\xc3\\xada hidr\\xc3\\xa1ulica,2075,719,60,19,8,2,0,3,-1,0,0,0,128-128-128,0-0-0,|12||128-128-128,0,0,0,0,0,0\\r\\n10,73,Generaci\\xc3\\xb3n de energ\\xc3\\xada hidr\\xc3\\xa1ulica,1822,589,60,19,8,2,0,3,-1,0,0,0,128-128-128,0-0-0,|12||128-128-128,0,0,0,0,0,0\\r\\n1,74,73,71,0,0,0,0,0,64,0,-1--1--1,,1|(1744,561)|\\r\\n1,75,71,58,1,0,0,0,0,64,0,-1--1--1,,1|(1533,510)|\\r\\n1,76,70,58,1,0,0,0,0,64,0,-1--1--1,,1|(1608,457)|\\r\\n1,77,69,58,1,0,0,0,0,64,0,-1--1--1,,1|(1564,392)|\\r\\n10,78,Impuesto a la renta,1700,105,60,11,8,3,0,0,0,0,0,0,0,0,0,0,0,0\\r\\n10,79,Aplicacion TR,1655,194,46,11,8,3,0,0,0,0,0,0,0,0,0,0,0,0\\r\\n10,80,Time,1819,231,26,11,8,2,0,3,-1,0,0,0,128-128-128,0-0-0,|0||128-128-128,0,0,0,0,0,0\\r\\n1,81,78,54,0,0,0,0,0,64,0,-1--1--1,,1|(1607,125)|\\r\\n1,82,79,54,0,0,0,0,0,64,0,-1--1--1,,1|(1587,176)|\\r\\n1,83,80,79,0,0,0,0,0,64,0,-1--1--1,,1|(1753,216)|\\r\\n10,84,Selecci\\xc3\\xb3n FIT,1238,710,45,11,8,3,0,0,0,0,0,0,0,0,0,0,0,0\\r\\n10,85,Precio energ\\xc3\\xada hidr\\xc3\\xa1ulica seg\\xc3\\xban escenario,1374,747,50,28,8,3,0,0,0,0,0,0,0,0,0,0,0,0\\r\\n10,86,Precio esperado futuro FIT,1526,712,53,19,8,3,0,0,0,0,0,0,0,0,0,0,0,0\\r\\n10,87,Precio esperado actual FIT,1597,806,53,19,8,3,0,0,0,0,0,0,0,0,0,0,0,0\\r\\n10,88,Tasa de inflaci\\xc3\\xb3n,1767,750,53,11,8,3,0,0,0,0,0,0,0,0,0,0,0,0\\r\\n10,89,INITIAL TIME,1757,833,60,11,8,2,0,3,-1,0,0,0,128-128-128,0-0-0,|0||128-128-128,0,0,0,0,0,0\\r\\n10,90,Time,1749,799,26,11,8,2,0,3,-1,0,0,0,128-128-128,0-0-0,|0||128-128-128,0,0,0,0,0,0\\r\\n1,91,84,59,0,0,0,0,0,64,0,-1--1--1,,1|(1303,683)|\\r\\n1,92,85,59,0,0,0,0,0,64,0,-1--1--1,,1|(1388,697)|\\r\\n1,93,86,59,0,0,0,0,0,64,0,-1--1--1,,1|(1471,681)|\\r\\n1,94,87,86,0,0,0,0,0,64,0,-1--1--1,,1|(1565,764)|\\r\\n1,95,89,86,0,0,0,0,0,64,0,-1--1--1,,1|(1655,779)|\\r\\n1,96,90,86,0,0,0,0,0,64,0,-1--1--1,,1|(1655,762)|\\r\\n1,97,88,86,0,0,0,0,0,64,0,-1--1--1,,1|(1653,732)|\\r\\n10,98,Factor de emisiones,1618,636,32,19,8,3,0,0,0,0,0,0,0,0,0,0,0,0\\r\\n1,99,98,71,0,0,0,0,0,64,0,-1--1--1,,1|(1636,590)|\\r\\n///---\\\\\\\\\\\\\\r\\n:L\\x7f<%^E!@\\r\\n1:es3\\r\\n1:es2\\r\\n1:Current\\r\\n1:C:\\\\Users\\\\Usuario\\\\Documents\\\\Current\\r\\n9:es3\\r\\n23:0\\r\\n15:0,0,0,0,0,0\\r\\n19:5,0\\r\\n27:0,\\r\\n34:0,\\r\\n42:1\\r\\n72:0\\r\\n73:0\\r\\n4:Time\\r\\n5:Incentivo ambiental\\r\\n35:Date\\r\\n36:YYYY-MM-DD\\r\\n37:2000\\r\\n38:1\\r\\n39:1\\r\\n40:2\\r\\n41:0\\r\\n76:0\\r\\n77:0\\r\\n78:0\\r\\n79:0\\r\\n80:0\\r\\n81:0\\r\\n24:2017\\r\\n25:2031\\r\\n26:2031\\r\\n91:0\\r\\n90:0\\r\\n87:0\\r\\n75:\\r\\n43:\\r\\n'}"
            ]
          },
          "metadata": {
            "tags": []
          },
          "execution_count": 26
        }
      ]
    },
    {
      "cell_type": "code",
      "metadata": {
        "id": "Qc-pBhTNA1wN"
      },
      "source": [
        "model= pysd.read_vensim('E3.mdl')"
      ],
      "execution_count": 27,
      "outputs": []
    },
    {
      "cell_type": "code",
      "metadata": {
        "id": "NtV9mPabA19w"
      },
      "source": [
        "xy = model.run()"
      ],
      "execution_count": 28,
      "outputs": []
    },
    {
      "cell_type": "code",
      "metadata": {
        "colab": {
          "base_uri": "https://localhost:8080/",
          "height": 292
        },
        "id": "QsWq9hm9A2N5",
        "outputId": "5949000b-60d8-4a26-bd7d-2523c0ce8699"
      },
      "source": [
        "xy.head()"
      ],
      "execution_count": 29,
      "outputs": [
        {
          "output_type": "execute_result",
          "data": {
            "text/html": [
              "<div>\n",
              "<style scoped>\n",
              "    .dataframe tbody tr th:only-of-type {\n",
              "        vertical-align: middle;\n",
              "    }\n",
              "\n",
              "    .dataframe tbody tr th {\n",
              "        vertical-align: top;\n",
              "    }\n",
              "\n",
              "    .dataframe thead th {\n",
              "        text-align: right;\n",
              "    }\n",
              "</style>\n",
              "<table border=\"1\" class=\"dataframe\">\n",
              "  <thead>\n",
              "    <tr style=\"text-align: right;\">\n",
              "      <th></th>\n",
              "      <th>TIME</th>\n",
              "      <th>Aplicacion TR</th>\n",
              "      <th>\"Aplicación incentivo (TGC)\"</th>\n",
              "      <th>capacidad inicial instalada</th>\n",
              "      <th>Incentivo ambiental</th>\n",
              "      <th>flujo de agregacion de impuestos</th>\n",
              "      <th>Comercializacion energía</th>\n",
              "      <th>COPEX</th>\n",
              "      <th>ganancias por certificados CRE</th>\n",
              "      <th>Precio esperado futuro FIT</th>\n",
              "      <th>\"costo inversion planta h.\"</th>\n",
              "      <th>Precio energía hidráulica según escenario</th>\n",
              "      <th>Factor de emisiones</th>\n",
              "      <th>Tasa de inflación</th>\n",
              "      <th>Reduccion emisiones GEI</th>\n",
              "      <th>precio energia H no convencional</th>\n",
              "      <th>Selección FIT</th>\n",
              "      <th>Precio esperado actual FIT</th>\n",
              "      <th>Impuesto a la renta</th>\n",
              "      <th>capacidad instalada acumulada hidráulica</th>\n",
              "      <th>CAPEX</th>\n",
              "      <th>costo de operación inicial planta H</th>\n",
              "      <th>\"costo inversion inicial planta h.\"</th>\n",
              "      <th>curva de apendizaje hidraulica</th>\n",
              "      <th>factor de planta</th>\n",
              "      <th>\"Flujo de descuento planta hidráulica (j)\"</th>\n",
              "      <th>Flujo de utilizacion energía hidraulica</th>\n",
              "      <th>Generación de energía hidráulica</th>\n",
              "      <th>\"horas generacion H.\"</th>\n",
              "      <th>Impuestos generación energía H</th>\n",
              "      <th>ingresos por energía H</th>\n",
              "      <th>\"lamda - hidro\"</th>\n",
              "      <th>parametro de imitación</th>\n",
              "      <th>Parametro de innovacion</th>\n",
              "      <th>Potencial disponible hidráulico</th>\n",
              "      <th>\"Rentabilidad proyecto-planta hidráulica\"</th>\n",
              "      <th>Tasa de inversion en nueva capacidad h</th>\n",
              "      <th>Tiempo de vida panta hidráulica</th>\n",
              "      <th>FINAL TIME</th>\n",
              "      <th>INITIAL TIME</th>\n",
              "      <th>SAVEPER</th>\n",
              "      <th>TIME STEP</th>\n",
              "    </tr>\n",
              "  </thead>\n",
              "  <tbody>\n",
              "    <tr>\n",
              "      <th>2017.0</th>\n",
              "      <td>2017.0</td>\n",
              "      <td>2017.0</td>\n",
              "      <td>15</td>\n",
              "      <td>222</td>\n",
              "      <td>15</td>\n",
              "      <td>0.22</td>\n",
              "      <td>5.883447e+07</td>\n",
              "      <td>1.604814e+07</td>\n",
              "      <td>1.319267e+08</td>\n",
              "      <td>67.530000</td>\n",
              "      <td>4.670880e+08</td>\n",
              "      <td>20.5</td>\n",
              "      <td>0.673</td>\n",
              "      <td>0.035</td>\n",
              "      <td>5.863409e+05</td>\n",
              "      <td>67.53</td>\n",
              "      <td>1</td>\n",
              "      <td>67.53</td>\n",
              "      <td>0.22</td>\n",
              "      <td>222.000000</td>\n",
              "      <td>5.457240e+07</td>\n",
              "      <td>18.42</td>\n",
              "      <td>2104000.0</td>\n",
              "      <td>0.0645</td>\n",
              "      <td>0.56</td>\n",
              "      <td>0.112</td>\n",
              "      <td>0.8</td>\n",
              "      <td>8.712346e+05</td>\n",
              "      <td>7008.0</td>\n",
              "      <td>26430935.896685805</td>\n",
              "      <td>1.907612e+08</td>\n",
              "      <td>0.09619</td>\n",
              "      <td>0.204509</td>\n",
              "      <td>0.00062</td>\n",
              "      <td>1415.000000</td>\n",
              "      <td>1.965567</td>\n",
              "      <td>78.013564</td>\n",
              "      <td>30</td>\n",
              "      <td>2031</td>\n",
              "      <td>2017</td>\n",
              "      <td>1</td>\n",
              "      <td>1</td>\n",
              "    </tr>\n",
              "    <tr>\n",
              "      <th>2018.0</th>\n",
              "      <td>2018.0</td>\n",
              "      <td>2018.0</td>\n",
              "      <td>15</td>\n",
              "      <td>222</td>\n",
              "      <td>15</td>\n",
              "      <td>0.22</td>\n",
              "      <td>8.229247e+07</td>\n",
              "      <td>2.232509e+07</td>\n",
              "      <td>1.782874e+08</td>\n",
              "      <td>69.893550</td>\n",
              "      <td>6.497812e+08</td>\n",
              "      <td>20.5</td>\n",
              "      <td>0.673</td>\n",
              "      <td>0.035</td>\n",
              "      <td>7.923883e+05</td>\n",
              "      <td>69.89354999999999</td>\n",
              "      <td>1</td>\n",
              "      <td>67.53</td>\n",
              "      <td>0.22</td>\n",
              "      <td>300.013564</td>\n",
              "      <td>7.591744e+07</td>\n",
              "      <td>18.42</td>\n",
              "      <td>2104000.0</td>\n",
              "      <td>0.0645</td>\n",
              "      <td>0.56</td>\n",
              "      <td>0.112</td>\n",
              "      <td>0.8</td>\n",
              "      <td>1.177397e+06</td>\n",
              "      <td>7008.0</td>\n",
              "      <td>35714210.42867282</td>\n",
              "      <td>2.605798e+08</td>\n",
              "      <td>0.09619</td>\n",
              "      <td>0.204509</td>\n",
              "      <td>0.00062</td>\n",
              "      <td>1336.986436</td>\n",
              "      <td>1.945254</td>\n",
              "      <td>98.306826</td>\n",
              "      <td>30</td>\n",
              "      <td>2031</td>\n",
              "      <td>2017</td>\n",
              "      <td>1</td>\n",
              "      <td>1</td>\n",
              "    </tr>\n",
              "    <tr>\n",
              "      <th>2019.0</th>\n",
              "      <td>2019.0</td>\n",
              "      <td>2019.0</td>\n",
              "      <td>15</td>\n",
              "      <td>222</td>\n",
              "      <td>15</td>\n",
              "      <td>0.22</td>\n",
              "      <td>1.130816e+08</td>\n",
              "      <td>3.045966e+07</td>\n",
              "      <td>2.367076e+08</td>\n",
              "      <td>72.339824</td>\n",
              "      <td>8.865415e+08</td>\n",
              "      <td>20.5</td>\n",
              "      <td>0.673</td>\n",
              "      <td>0.035</td>\n",
              "      <td>1.052034e+06</td>\n",
              "      <td>72.33982424999999</td>\n",
              "      <td>1</td>\n",
              "      <td>67.53</td>\n",
              "      <td>0.22</td>\n",
              "      <td>398.320391</td>\n",
              "      <td>1.035794e+08</td>\n",
              "      <td>18.42</td>\n",
              "      <td>2104000.0</td>\n",
              "      <td>0.0645</td>\n",
              "      <td>0.56</td>\n",
              "      <td>0.112</td>\n",
              "      <td>0.8</td>\n",
              "      <td>1.563200e+06</td>\n",
              "      <td>7008.0</td>\n",
              "      <td>47465041.869824514</td>\n",
              "      <td>3.497893e+08</td>\n",
              "      <td>0.09619</td>\n",
              "      <td>0.204509</td>\n",
              "      <td>0.00062</td>\n",
              "      <td>1238.679609</td>\n",
              "      <td>1.927170</td>\n",
              "      <td>119.556355</td>\n",
              "      <td>30</td>\n",
              "      <td>2031</td>\n",
              "      <td>2017</td>\n",
              "      <td>1</td>\n",
              "      <td>1</td>\n",
              "    </tr>\n",
              "    <tr>\n",
              "      <th>2020.0</th>\n",
              "      <td>2020.0</td>\n",
              "      <td>2020.0</td>\n",
              "      <td>15</td>\n",
              "      <td>222</td>\n",
              "      <td>15</td>\n",
              "      <td>0.22</td>\n",
              "      <td>1.521691e+08</td>\n",
              "      <td>4.061478e+07</td>\n",
              "      <td>3.077557e+08</td>\n",
              "      <td>74.871718</td>\n",
              "      <td>1.182110e+09</td>\n",
              "      <td>20.5</td>\n",
              "      <td>0.673</td>\n",
              "      <td>0.035</td>\n",
              "      <td>1.367803e+06</td>\n",
              "      <td>74.87171809874998</td>\n",
              "      <td>1</td>\n",
              "      <td>67.53</td>\n",
              "      <td>0.22</td>\n",
              "      <td>517.876746</td>\n",
              "      <td>1.381123e+08</td>\n",
              "      <td>18.42</td>\n",
              "      <td>2104000.0</td>\n",
              "      <td>0.0645</td>\n",
              "      <td>0.56</td>\n",
              "      <td>0.112</td>\n",
              "      <td>0.8</td>\n",
              "      <td>2.032397e+06</td>\n",
              "      <td>7008.0</td>\n",
              "      <td>61863483.96299555</td>\n",
              "      <td>4.599248e+08</td>\n",
              "      <td>0.09619</td>\n",
              "      <td>0.204509</td>\n",
              "      <td>0.00062</td>\n",
              "      <td>1119.123254</td>\n",
              "      <td>1.911649</td>\n",
              "      <td>139.106320</td>\n",
              "      <td>30</td>\n",
              "      <td>2031</td>\n",
              "      <td>2017</td>\n",
              "      <td>1</td>\n",
              "      <td>1</td>\n",
              "    </tr>\n",
              "    <tr>\n",
              "      <th>2021.0</th>\n",
              "      <td>2021.0</td>\n",
              "      <td>2021.0</td>\n",
              "      <td>15</td>\n",
              "      <td>222</td>\n",
              "      <td>15</td>\n",
              "      <td>0.22</td>\n",
              "      <td>1.997995e+08</td>\n",
              "      <td>5.271703e+07</td>\n",
              "      <td>3.904216e+08</td>\n",
              "      <td>77.492228</td>\n",
              "      <td>1.534352e+09</td>\n",
              "      <td>20.5</td>\n",
              "      <td>0.673</td>\n",
              "      <td>0.035</td>\n",
              "      <td>1.735207e+06</td>\n",
              "      <td>77.49222823220623</td>\n",
              "      <td>1</td>\n",
              "      <td>67.53</td>\n",
              "      <td>0.22</td>\n",
              "      <td>656.983066</td>\n",
              "      <td>1.792666e+08</td>\n",
              "      <td>18.42</td>\n",
              "      <td>2104000.0</td>\n",
              "      <td>0.0645</td>\n",
              "      <td>0.56</td>\n",
              "      <td>0.112</td>\n",
              "      <td>0.8</td>\n",
              "      <td>2.578317e+06</td>\n",
              "      <td>7008.0</td>\n",
              "      <td>78812258.67249015</td>\n",
              "      <td>5.902212e+08</td>\n",
              "      <td>0.09619</td>\n",
              "      <td>0.204509</td>\n",
              "      <td>0.00062</td>\n",
              "      <td>980.016934</td>\n",
              "      <td>1.899064</td>\n",
              "      <td>153.360771</td>\n",
              "      <td>30</td>\n",
              "      <td>2031</td>\n",
              "      <td>2017</td>\n",
              "      <td>1</td>\n",
              "      <td>1</td>\n",
              "    </tr>\n",
              "  </tbody>\n",
              "</table>\n",
              "</div>"
            ],
            "text/plain": [
              "          TIME  Aplicacion TR  ...  SAVEPER  TIME STEP\n",
              "2017.0  2017.0         2017.0  ...        1          1\n",
              "2018.0  2018.0         2018.0  ...        1          1\n",
              "2019.0  2019.0         2019.0  ...        1          1\n",
              "2020.0  2020.0         2020.0  ...        1          1\n",
              "2021.0  2021.0         2021.0  ...        1          1\n",
              "\n",
              "[5 rows x 42 columns]"
            ]
          },
          "metadata": {
            "tags": []
          },
          "execution_count": 29
        }
      ]
    },
    {
      "cell_type": "code",
      "metadata": {
        "colab": {
          "base_uri": "https://localhost:8080/"
        },
        "id": "bBftB2QLBJrE",
        "outputId": "cf758d8a-ae19-46a3-fb49-6244db114369"
      },
      "source": [
        "print(xy['capacidad instalada acumulada hidráulica'])"
      ],
      "execution_count": 30,
      "outputs": [
        {
          "output_type": "stream",
          "text": [
            "2017.0     222.000000\n",
            "2018.0     300.013564\n",
            "2019.0     398.320391\n",
            "2020.0     517.876746\n",
            "2021.0     656.983066\n",
            "2022.0     810.343836\n",
            "2023.0     969.006141\n",
            "2024.0    1121.777984\n",
            "2025.0    1257.996886\n",
            "2026.0    1370.443341\n",
            "2027.0    1456.815518\n",
            "2028.0    1519.136443\n",
            "2029.0    1561.875518\n",
            "2030.0    1590.061143\n",
            "2031.0    1608.116215\n",
            "Name: capacidad instalada acumulada hidráulica, dtype: float64\n"
          ],
          "name": "stdout"
        }
      ]
    },
    {
      "cell_type": "code",
      "metadata": {
        "colab": {
          "base_uri": "https://localhost:8080/",
          "height": 280
        },
        "id": "dgNOWyYxBGE5",
        "outputId": "fb53b831-7376-482c-a9b9-4c4ff0cd0cc4"
      },
      "source": [
        "import matplotlib.pyplot as plt\n",
        "from mpl_toolkits.mplot3d import Axes3D\n",
        "\n",
        "ax = plt.figure().gca() \n",
        "ax.plot(xy['TIME'], xy['capacidad instalada acumulada hidráulica'])\n",
        "ax.set_xlabel('capacidad instalada acumulada hidráulica')\n",
        "ax.set_ylabel('t')\n",
        "plt.show()"
      ],
      "execution_count": 31,
      "outputs": [
        {
          "output_type": "display_data",
          "data": {
            "image/png": "[encoded data removed]",
            "text/plain": [
              "<Figure size 432x288 with 1 Axes>"
            ]
          },
          "metadata": {
            "tags": [],
            "needs_background": "light"
          }
        }
      ]
    }
  ]
}